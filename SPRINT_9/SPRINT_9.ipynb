{
 "cells": [
  {
   "cell_type": "markdown",
   "metadata": {},
   "source": [
    "# Descripción del proyecto:\n",
    "Los clientes de Beta Bank se están yendo, cada mes, poco a poco. Los banqueros descubrieron que es más barato salvar a los clientes existentes que atraer nuevos.\n",
    "\n",
    "Necesitamos predecir si un cliente dejará el banco pronto. Tú tienes los datos sobre el comportamiento pasado de los clientes y la terminación de contratos con el banco.\n",
    "\n",
    "-Crea un modelo con el máximo valor F1 posible. Para aprobar la revisión, necesitas un valor F1 de al menos 0.59. Verifica F1 para el conjunto de prueba. \n",
    "\n",
    "-Además, debes medir la métrica AUC-ROC y compararla con el valor F1.\n",
    "\n",
    "-Descarga y prepara los datos.  Explica el procedimiento.\n",
    "\n",
    "-Examina el equilibrio de clases. Entrena el modelo sin tener en cuenta el desequilibrio. Describe brevemente tus hallazgos.\n",
    "\n",
    "-Mejora la calidad del modelo. Asegúrate de utilizar al menos dos enfoques para corregir el desequilibrio de clases. Utiliza conjuntos de entrenamiento y validación para encontrar el mejor modelo y el mejor conjunto de parámetros. Entrena diferentes modelos en los conjuntos de entrenamiento y validación. Encuentra el mejor. Describe brevemente tus hallazgos.\n",
    "\n",
    "-Realiza la prueba final.\n",
    "\n",
    "Objetivo\n",
    "\n",
    "Exited: El cliente se ha ido (1 - sí; 0 - no)"
   ]
  },
  {
   "cell_type": "markdown",
   "metadata": {},
   "source": [
    "Parte 1: importar librerias, descargar datos y analizar datos"
   ]
  },
  {
   "cell_type": "code",
   "execution_count": 1,
   "metadata": {},
   "outputs": [],
   "source": [
    "# importar librerias\n",
    "import pandas as pd\n",
    "from sklearn.model_selection import train_test_split, GridSearchCV\n",
    "from sklearn.preprocessing import StandardScaler, OneHotEncoder, MinMaxScaler\n",
    "from sklearn.tree import DecisionTreeClassifier\n",
    "from sklearn.metrics import classification_report, roc_auc_score, confusion_matrix, f1_score, mean_squared_error, mean_absolute_error, precision_recall_curve, roc_curve, auc\n",
    "import numpy as np\n",
    "import matplotlib.pyplot as plt"
   ]
  },
  {
   "cell_type": "code",
   "execution_count": 2,
   "metadata": {
    "scrolled": false
   },
   "outputs": [
    {
     "name": "stdout",
     "output_type": "stream",
     "text": [
      "   RowNumber  CustomerId   Surname  CreditScore Geography  Gender  Age  \\\n",
      "0          1    15634602  Hargrave          619    France  Female   42   \n",
      "1          2    15647311      Hill          608     Spain  Female   41   \n",
      "2          3    15619304      Onio          502    France  Female   42   \n",
      "3          4    15701354      Boni          699    France  Female   39   \n",
      "4          5    15737888  Mitchell          850     Spain  Female   43   \n",
      "\n",
      "   Tenure    Balance  NumOfProducts  HasCrCard  IsActiveMember  \\\n",
      "0     2.0       0.00              1          1               1   \n",
      "1     1.0   83807.86              1          0               1   \n",
      "2     8.0  159660.80              3          1               0   \n",
      "3     1.0       0.00              2          0               0   \n",
      "4     2.0  125510.82              1          1               1   \n",
      "\n",
      "   EstimatedSalary  Exited  \n",
      "0        101348.88       1  \n",
      "1        112542.58       0  \n",
      "2        113931.57       1  \n",
      "3         93826.63       0  \n",
      "4         79084.10       0  \n",
      "         RowNumber    CustomerId   CreditScore           Age       Tenure  \\\n",
      "count  10000.00000  1.000000e+04  10000.000000  10000.000000  9091.000000   \n",
      "mean    5000.50000  1.569094e+07    650.528800     38.921800     4.997690   \n",
      "std     2886.89568  7.193619e+04     96.653299     10.487806     2.894723   \n",
      "min        1.00000  1.556570e+07    350.000000     18.000000     0.000000   \n",
      "25%     2500.75000  1.562853e+07    584.000000     32.000000     2.000000   \n",
      "50%     5000.50000  1.569074e+07    652.000000     37.000000     5.000000   \n",
      "75%     7500.25000  1.575323e+07    718.000000     44.000000     7.000000   \n",
      "max    10000.00000  1.581569e+07    850.000000     92.000000    10.000000   \n",
      "\n",
      "             Balance  NumOfProducts    HasCrCard  IsActiveMember  \\\n",
      "count   10000.000000   10000.000000  10000.00000    10000.000000   \n",
      "mean    76485.889288       1.530200      0.70550        0.515100   \n",
      "std     62397.405202       0.581654      0.45584        0.499797   \n",
      "min         0.000000       1.000000      0.00000        0.000000   \n",
      "25%         0.000000       1.000000      0.00000        0.000000   \n",
      "50%     97198.540000       1.000000      1.00000        1.000000   \n",
      "75%    127644.240000       2.000000      1.00000        1.000000   \n",
      "max    250898.090000       4.000000      1.00000        1.000000   \n",
      "\n",
      "       EstimatedSalary        Exited  \n",
      "count     10000.000000  10000.000000  \n",
      "mean     100090.239881      0.203700  \n",
      "std       57510.492818      0.402769  \n",
      "min          11.580000      0.000000  \n",
      "25%       51002.110000      0.000000  \n",
      "50%      100193.915000      0.000000  \n",
      "75%      149388.247500      0.000000  \n",
      "max      199992.480000      1.000000  \n",
      "<class 'pandas.core.frame.DataFrame'>\n",
      "RangeIndex: 10000 entries, 0 to 9999\n",
      "Data columns (total 14 columns):\n",
      " #   Column           Non-Null Count  Dtype  \n",
      "---  ------           --------------  -----  \n",
      " 0   RowNumber        10000 non-null  int64  \n",
      " 1   CustomerId       10000 non-null  int64  \n",
      " 2   Surname          10000 non-null  object \n",
      " 3   CreditScore      10000 non-null  int64  \n",
      " 4   Geography        10000 non-null  object \n",
      " 5   Gender           10000 non-null  object \n",
      " 6   Age              10000 non-null  int64  \n",
      " 7   Tenure           9091 non-null   float64\n",
      " 8   Balance          10000 non-null  float64\n",
      " 9   NumOfProducts    10000 non-null  int64  \n",
      " 10  HasCrCard        10000 non-null  int64  \n",
      " 11  IsActiveMember   10000 non-null  int64  \n",
      " 12  EstimatedSalary  10000 non-null  float64\n",
      " 13  Exited           10000 non-null  int64  \n",
      "dtypes: float64(3), int64(8), object(3)\n",
      "memory usage: 1.1+ MB\n",
      "None\n"
     ]
    }
   ],
   "source": [
    "# Cargar los datos\n",
    "data = pd.read_csv('/datasets/Churn.csv')\n",
    "\n",
    "# Inspección inicial de los datos\n",
    "print(data.head())\n",
    "print(data.describe())\n",
    "print(data.info())"
   ]
  },
  {
   "cell_type": "markdown",
   "metadata": {},
   "source": [
    "Procesar los datos"
   ]
  },
  {
   "cell_type": "code",
   "execution_count": 3,
   "metadata": {},
   "outputs": [
    {
     "data": {
      "text/html": [
       "<div>\n",
       "<style scoped>\n",
       "    .dataframe tbody tr th:only-of-type {\n",
       "        vertical-align: middle;\n",
       "    }\n",
       "\n",
       "    .dataframe tbody tr th {\n",
       "        vertical-align: top;\n",
       "    }\n",
       "\n",
       "    .dataframe thead th {\n",
       "        text-align: right;\n",
       "    }\n",
       "</style>\n",
       "<table border=\"1\" class=\"dataframe\">\n",
       "  <thead>\n",
       "    <tr style=\"text-align: right;\">\n",
       "      <th></th>\n",
       "      <th>CreditScore</th>\n",
       "      <th>Age</th>\n",
       "      <th>Tenure</th>\n",
       "      <th>Balance</th>\n",
       "      <th>NumOfProducts</th>\n",
       "      <th>HasCrCard</th>\n",
       "      <th>IsActiveMember</th>\n",
       "      <th>EstimatedSalary</th>\n",
       "      <th>Exited</th>\n",
       "      <th>Geography_Germany</th>\n",
       "      <th>Geography_Spain</th>\n",
       "      <th>Gender_Male</th>\n",
       "    </tr>\n",
       "  </thead>\n",
       "  <tbody>\n",
       "    <tr>\n",
       "      <th>0</th>\n",
       "      <td>-0.326221</td>\n",
       "      <td>0.293517</td>\n",
       "      <td>-1.035627</td>\n",
       "      <td>-1.225848</td>\n",
       "      <td>-0.911583</td>\n",
       "      <td>1</td>\n",
       "      <td>1</td>\n",
       "      <td>0.021886</td>\n",
       "      <td>1</td>\n",
       "      <td>0</td>\n",
       "      <td>0</td>\n",
       "      <td>0</td>\n",
       "    </tr>\n",
       "    <tr>\n",
       "      <th>1</th>\n",
       "      <td>-0.440036</td>\n",
       "      <td>0.198164</td>\n",
       "      <td>-1.381103</td>\n",
       "      <td>0.117350</td>\n",
       "      <td>-0.911583</td>\n",
       "      <td>0</td>\n",
       "      <td>1</td>\n",
       "      <td>0.216534</td>\n",
       "      <td>0</td>\n",
       "      <td>0</td>\n",
       "      <td>1</td>\n",
       "      <td>0</td>\n",
       "    </tr>\n",
       "    <tr>\n",
       "      <th>2</th>\n",
       "      <td>-1.536794</td>\n",
       "      <td>0.293517</td>\n",
       "      <td>1.037224</td>\n",
       "      <td>1.333053</td>\n",
       "      <td>2.527057</td>\n",
       "      <td>1</td>\n",
       "      <td>0</td>\n",
       "      <td>0.240687</td>\n",
       "      <td>1</td>\n",
       "      <td>0</td>\n",
       "      <td>0</td>\n",
       "      <td>0</td>\n",
       "    </tr>\n",
       "    <tr>\n",
       "      <th>3</th>\n",
       "      <td>0.501521</td>\n",
       "      <td>0.007457</td>\n",
       "      <td>-1.381103</td>\n",
       "      <td>-1.225848</td>\n",
       "      <td>0.807737</td>\n",
       "      <td>0</td>\n",
       "      <td>0</td>\n",
       "      <td>-0.108918</td>\n",
       "      <td>0</td>\n",
       "      <td>0</td>\n",
       "      <td>0</td>\n",
       "      <td>0</td>\n",
       "    </tr>\n",
       "    <tr>\n",
       "      <th>4</th>\n",
       "      <td>2.063884</td>\n",
       "      <td>0.388871</td>\n",
       "      <td>-1.035627</td>\n",
       "      <td>0.785728</td>\n",
       "      <td>-0.911583</td>\n",
       "      <td>1</td>\n",
       "      <td>1</td>\n",
       "      <td>-0.365276</td>\n",
       "      <td>0</td>\n",
       "      <td>0</td>\n",
       "      <td>1</td>\n",
       "      <td>0</td>\n",
       "    </tr>\n",
       "  </tbody>\n",
       "</table>\n",
       "</div>"
      ],
      "text/plain": [
       "   CreditScore       Age    Tenure   Balance  NumOfProducts  HasCrCard  \\\n",
       "0    -0.326221  0.293517 -1.035627 -1.225848      -0.911583          1   \n",
       "1    -0.440036  0.198164 -1.381103  0.117350      -0.911583          0   \n",
       "2    -1.536794  0.293517  1.037224  1.333053       2.527057          1   \n",
       "3     0.501521  0.007457 -1.381103 -1.225848       0.807737          0   \n",
       "4     2.063884  0.388871 -1.035627  0.785728      -0.911583          1   \n",
       "\n",
       "   IsActiveMember  EstimatedSalary  Exited  Geography_Germany  \\\n",
       "0               1         0.021886       1                  0   \n",
       "1               1         0.216534       0                  0   \n",
       "2               0         0.240687       1                  0   \n",
       "3               0        -0.108918       0                  0   \n",
       "4               1        -0.365276       0                  0   \n",
       "\n",
       "   Geography_Spain  Gender_Male  \n",
       "0                0            0  \n",
       "1                1            0  \n",
       "2                0            0  \n",
       "3                0            0  \n",
       "4                1            0  "
      ]
     },
     "execution_count": 3,
     "metadata": {},
     "output_type": "execute_result"
    }
   ],
   "source": [
    "# Eliminar columnas innecesarias\n",
    "data = data.drop(['RowNumber', 'CustomerId', 'Surname'], axis=1)\n",
    "\n",
    "# Codificación One-Hot de variables categóricas\n",
    "data = pd.get_dummies(data, columns=['Geography', 'Gender'], drop_first=True)\n",
    "\n",
    "\n",
    "# Escalado de características numéricas\n",
    "scaler = StandardScaler()\n",
    "numeric_features = ['CreditScore', 'Age', 'Tenure', 'Balance', 'NumOfProducts', 'EstimatedSalary']\n",
    "data[numeric_features] = scaler.fit_transform(data[numeric_features])\n",
    "\n",
    "# Mostrar el conjunto de datos preprocesado y los valores faltantes\n",
    "data.head()"
   ]
  },
  {
   "cell_type": "markdown",
   "metadata": {},
   "source": [
    "Los datos han sido preprocesados de la siguiente manera:\n",
    "\n",
    "Columnas eliminadas: RowNumber, CustomerId, y Surname.\n",
    "Codificación One-Hot: Geography y Gender.\n",
    "Escalado de características numéricas: CreditScore, Age, Tenure, Balance, NumOfProducts, EstimatedSalary.\n",
    "Valores faltantes:\n",
    "Hay valores faltantes en la columna Tenure (909 valores).\n",
    "Para el manejo de valores faltantes en Tenure voy a obtar por rellenar los valores con la mediana para mantener la mayor cantidad de datos posible."
   ]
  },
  {
   "cell_type": "code",
   "execution_count": 4,
   "metadata": {},
   "outputs": [
    {
     "name": "stdout",
     "output_type": "stream",
     "text": [
      "CreditScore          0\n",
      "Age                  0\n",
      "Tenure               0\n",
      "Balance              0\n",
      "NumOfProducts        0\n",
      "HasCrCard            0\n",
      "IsActiveMember       0\n",
      "EstimatedSalary      0\n",
      "Exited               0\n",
      "Geography_Germany    0\n",
      "Geography_Spain      0\n",
      "Gender_Male          0\n",
      "dtype: int64\n",
      "   CreditScore       Age    Tenure   Balance  NumOfProducts  HasCrCard  \\\n",
      "0    -0.326221  0.293517 -1.035627 -1.225848      -0.911583          1   \n",
      "1    -0.440036  0.198164 -1.381103  0.117350      -0.911583          0   \n",
      "2    -1.536794  0.293517  1.037224  1.333053       2.527057          1   \n",
      "3     0.501521  0.007457 -1.381103 -1.225848       0.807737          0   \n",
      "4     2.063884  0.388871 -1.035627  0.785728      -0.911583          1   \n",
      "\n",
      "   IsActiveMember  EstimatedSalary  Exited  Geography_Germany  \\\n",
      "0               1         0.021886       1                  0   \n",
      "1               1         0.216534       0                  0   \n",
      "2               0         0.240687       1                  0   \n",
      "3               0        -0.108918       0                  0   \n",
      "4               1        -0.365276       0                  0   \n",
      "\n",
      "   Geography_Spain  Gender_Male  \n",
      "0                0            0  \n",
      "1                1            0  \n",
      "2                0            0  \n",
      "3                0            0  \n",
      "4                1            0  \n"
     ]
    }
   ],
   "source": [
    "# Rellenar valores faltantes en 'Tenure' con la mediana\n",
    "data['Tenure'].fillna(data['Tenure'].median(), inplace=True)\n",
    "\n",
    "# Verificar nuevamente los valores faltantes\n",
    "missing_values_after = data.isnull().sum()\n",
    "print(missing_values_after)\n",
    "# Mostrar el conjunto de datos preprocesado\n",
    "print(data.head())"
   ]
  },
  {
   "cell_type": "markdown",
   "metadata": {},
   "source": [
    "Parte 2: Entrenamiento de Modelos y Evaluación Inicial"
   ]
  },
  {
   "cell_type": "code",
   "execution_count": 5,
   "metadata": {
    "scrolled": true
   },
   "outputs": [
    {
     "name": "stdout",
     "output_type": "stream",
     "text": [
      "Reporte de clasificación inicial:\n",
      "              precision    recall  f1-score   support\n",
      "\n",
      "           0       0.88      0.85      0.87      1607\n",
      "           1       0.46      0.52      0.49       393\n",
      "\n",
      "    accuracy                           0.79      2000\n",
      "   macro avg       0.67      0.69      0.68      2000\n",
      "weighted avg       0.80      0.79      0.79      2000\n",
      "\n",
      "AUC-ROC inicial: 0.687074361373824\n",
      "Error Cuadrático Medio: 0.2125\n",
      "Error Absoluto Medio: 0.2125\n",
      "Matriz de confusión:\n",
      "[[1370  237]\n",
      " [ 188  205]]\n"
     ]
    }
   ],
   "source": [
    "# División de los datos en características y objetivo\n",
    "X = data.drop('Exited', axis=1)\n",
    "y = data['Exited']\n",
    "\n",
    "# División en entrenamiento y prueba\n",
    "X_train, X_test, y_train, y_test = train_test_split(X, y, test_size=0.2, random_state=42)\n",
    "\n",
    "# Escalado de características con MinMaxScaler\n",
    "scaler = MinMaxScaler()\n",
    "X_train_scaled = scaler.fit_transform(X_train)\n",
    "X_test_scaled = scaler.transform(X_test)\n",
    "\n",
    "# Entrenamiento del modelo - Uso de Árbol de Decisión para demostrar exactitud en la clasificación\n",
    "model = DecisionTreeClassifier(random_state=42)\n",
    "model.fit(X_train_scaled, y_train)\n",
    "y_pred = model.predict(X_test_scaled)\n",
    "\n",
    "# Evaluación inicial\n",
    "initial_classification_report = classification_report(y_test, y_pred)\n",
    "initial_auc_roc = roc_auc_score(y_test, model.predict_proba(X_test_scaled)[:, 1])\n",
    "initial_mse = mean_squared_error(y_test, y_pred)\n",
    "initial_mae = mean_absolute_error(y_test, y_pred)\n",
    "initial_conf_matrix = confusion_matrix(y_test, y_pred)\n",
    "\n",
    "print(\"Reporte de clasificación inicial:\")\n",
    "print(initial_classification_report)\n",
    "print(f\"AUC-ROC inicial: {initial_auc_roc}\")\n",
    "print(f\"Error Cuadrático Medio: {initial_mse}\")\n",
    "print(f\"Error Absoluto Medio: {initial_mae}\")\n",
    "print(f\"Matriz de confusión:\\n{initial_conf_matrix}\")"
   ]
  },
  {
   "cell_type": "markdown",
   "metadata": {},
   "source": [
    "Parte 3: Manejo del Desequilibrio de Clases"
   ]
  },
  {
   "cell_type": "code",
   "execution_count": 6,
   "metadata": {},
   "outputs": [
    {
     "name": "stdout",
     "output_type": "stream",
     "text": [
      "Distribución de clases en el objetivo:\n",
      "0    0.7945\n",
      "1    0.2055\n",
      "Name: Exited, dtype: float64\n",
      "Reporte de clasificación con ajuste de peso de clase:\n",
      "              precision    recall  f1-score   support\n",
      "\n",
      "           0       0.87      0.88      0.88      1607\n",
      "           1       0.49      0.48      0.49       393\n",
      "\n",
      "    accuracy                           0.80      2000\n",
      "   macro avg       0.68      0.68      0.68      2000\n",
      "weighted avg       0.80      0.80      0.80      2000\n",
      "\n",
      "AUC-ROC con ajuste de peso de clase: 0.6797859555285322\n",
      "Error Cuadrático Medio con ajuste de peso de clase: 0.1995\n",
      "Error Absoluto Medio con ajuste de peso de clase: 0.1995\n"
     ]
    }
   ],
   "source": [
    "# Examinar el equilibrio de clases\n",
    "print(\"Distribución de clases en el objetivo:\")\n",
    "print(y_train.value_counts(normalize=True))\n",
    "\n",
    "# Ajuste de peso de clase en el modelo\n",
    "model = DecisionTreeClassifier(random_state=42, class_weight='balanced')\n",
    "model.fit(X_train_scaled, y_train)\n",
    "y_pred_balanced = model.predict(X_test_scaled)\n",
    "\n",
    "# Evaluación del modelo balanceado\n",
    "balanced_classification_report = classification_report(y_test, y_pred_balanced)\n",
    "balanced_auc_roc = roc_auc_score(y_test, model.predict_proba(X_test_scaled)[:, 1])\n",
    "balanced_mse = mean_squared_error(y_test, y_pred_balanced)\n",
    "balanced_mae = mean_absolute_error(y_test, y_pred_balanced)\n",
    "\n",
    "print(\"Reporte de clasificación con ajuste de peso de clase:\")\n",
    "print(balanced_classification_report)\n",
    "print(f\"AUC-ROC con ajuste de peso de clase: {balanced_auc_roc}\")\n",
    "print(f\"Error Cuadrático Medio con ajuste de peso de clase: {balanced_mse}\")\n",
    "print(f\"Error Absoluto Medio con ajuste de peso de clase: {balanced_mae}\")"
   ]
  },
  {
   "cell_type": "markdown",
   "metadata": {},
   "source": [
    "Parte 4: Optimización de Hiperparámetros"
   ]
  },
  {
   "cell_type": "code",
   "execution_count": 7,
   "metadata": {},
   "outputs": [
    {
     "name": "stdout",
     "output_type": "stream",
     "text": [
      "Mejor AUC-ROC: 0.782824348310746\n",
      "Reporte de clasificación del mejor modelo:\n",
      "              precision    recall  f1-score   support\n",
      "\n",
      "           0       0.92      0.79      0.85      1607\n",
      "           1       0.46      0.71      0.56       393\n",
      "\n",
      "    accuracy                           0.78      2000\n",
      "   macro avg       0.69      0.75      0.70      2000\n",
      "weighted avg       0.83      0.78      0.79      2000\n",
      "\n"
     ]
    }
   ],
   "source": [
    "# Optimización de hiperparámetros con GridSearchCV\n",
    "param_grid = {'max_depth': [10, 20, 30]}\n",
    "grid = GridSearchCV(model, param_grid, cv=5, scoring='roc_auc')\n",
    "grid.fit(X_train_scaled, y_train)\n",
    "\n",
    "# Mejor modelo y su rendimiento\n",
    "best_model = grid.best_estimator_\n",
    "y_pred_best = best_model.predict(X_test_scaled)\n",
    "best_auc_roc = roc_auc_score(y_test, best_model.predict_proba(X_test_scaled)[:, 1])\n",
    "best_classification_report = classification_report(y_test, y_pred_best)\n",
    "\n",
    "print(\"Mejor AUC-ROC:\", best_auc_roc)\n",
    "print(\"Reporte de clasificación del mejor modelo:\")\n",
    "print(best_classification_report)"
   ]
  },
  {
   "cell_type": "markdown",
   "metadata": {},
   "source": [
    "Parte 5: Evaluación Avanzada"
   ]
  },
  {
   "cell_type": "code",
   "execution_count": 8,
   "metadata": {
    "scrolled": true
   },
   "outputs": [
    {
     "name": "stdout",
     "output_type": "stream",
     "text": [
      "Umbral: 0.0\n",
      "F1 Score: 0.32845800250731305\n",
      "ROC-AUC: 0.5\n",
      "Matriz de confusión:\n",
      "[[   0 1607]\n",
      " [   0  393]]\n",
      "\n",
      "Umbral: 0.05\n",
      "F1 Score: 0.42018927444794957\n",
      "ROC-AUC: 0.6563959205194829\n",
      "Matriz de confusión:\n",
      "[[748 859]\n",
      " [ 60 333]]\n",
      "\n",
      "Umbral: 0.1\n",
      "F1 Score: 0.43523997370151213\n",
      "ROC-AUC: 0.6731419948666062\n",
      "Matriz de confusión:\n",
      "[[810 797]\n",
      " [ 62 331]]\n",
      "\n",
      "Umbral: 0.15000000000000002\n",
      "F1 Score: 0.4485852311939269\n",
      "ROC-AUC: 0.6860435657611182\n",
      "Matriz de confusión:\n",
      "[[876 731]\n",
      " [ 68 325]]\n",
      "\n",
      "Umbral: 0.2\n",
      "F1 Score: 0.4878048780487804\n",
      "ROC-AUC: 0.7176752154616175\n",
      "Matriz de confusión:\n",
      "[[1039  568]\n",
      " [  83  310]]\n",
      "\n",
      "Umbral: 0.25\n",
      "F1 Score: 0.490023942537909\n",
      "ROC-AUC: 0.7185255030868449\n",
      "Matriz de confusión:\n",
      "[[1054  553]\n",
      " [  86  307]]\n",
      "\n",
      "Umbral: 0.30000000000000004\n",
      "F1 Score: 0.4991816693944353\n",
      "ROC-AUC: 0.7250039980935822\n",
      "Matriz de confusión:\n",
      "[[1083  524]\n",
      " [  88  305]]\n",
      "\n",
      "Umbral: 0.35000000000000003\n",
      "F1 Score: 0.5069204152249134\n",
      "ROC-AUC: 0.726538315987149\n",
      "Matriz de confusión:\n",
      "[[1137  470]\n",
      " [ 100  293]]\n",
      "\n",
      "Umbral: 0.4\n",
      "F1 Score: 0.5337078651685393\n",
      "ROC-AUC: 0.7412513003700414\n",
      "Matriz de confusión:\n",
      "[[1217  390]\n",
      " [ 108  285]]\n",
      "\n",
      "Umbral: 0.45\n",
      "F1 Score: 0.5535714285714286\n",
      "ROC-AUC: 0.7504192060498677\n",
      "Matriz de confusión:\n",
      "[[1271  336]\n",
      " [ 114  279]]\n",
      "\n",
      "Umbral: 0.5\n",
      "F1 Score: 0.5563310069790629\n",
      "ROC-AUC: 0.7519748998893201\n",
      "Matriz de confusión:\n",
      "[[1276  331]\n",
      " [ 114  279]]\n",
      "\n",
      "Umbral: 0.55\n",
      "F1 Score: 0.5509989484752892\n",
      "ROC-AUC: 0.7412362580377515\n",
      "Matriz de confusión:\n",
      "[[1311  296]\n",
      " [ 131  262]]\n",
      "\n",
      "Umbral: 0.6000000000000001\n",
      "F1 Score: 0.542825361512792\n",
      "ROC-AUC: 0.7289142127872492\n",
      "Matriz de confusión:\n",
      "[[1345  262]\n",
      " [ 149  244]]\n",
      "\n",
      "Umbral: 0.65\n",
      "F1 Score: 0.5479143179255919\n",
      "ROC-AUC: 0.7310644746030012\n",
      "Matriz de confusión:\n",
      "[[1356  251]\n",
      " [ 150  243]]\n",
      "\n",
      "Umbral: 0.7000000000000001\n",
      "F1 Score: 0.5639751552795031\n",
      "ROC-AUC: 0.7312433991870807\n",
      "Matriz de confusión:\n",
      "[[1422  185]\n",
      " [ 166  227]]\n",
      "\n",
      "Umbral: 0.75\n",
      "F1 Score: 0.5558510638297872\n",
      "ROC-AUC: 0.7192324927044689\n",
      "Matriz de confusión:\n",
      "[[1457  150]\n",
      " [ 184  209]]\n",
      "\n",
      "Umbral: 0.8\n",
      "F1 Score: 0.531024531024531\n",
      "ROC-AUC: 0.6980045950366637\n",
      "Matriz de confusión:\n",
      "[[1491  116]\n",
      " [ 209  184]]\n",
      "\n",
      "Umbral: 0.8500000000000001\n",
      "F1 Score: 0.5190839694656489\n",
      "ROC-AUC: 0.6876602206314296\n",
      "Matriz de confusión:\n",
      "[[1515   92]\n",
      " [ 223  170]]\n",
      "\n",
      "Umbral: 0.9\n",
      "F1 Score: 0.48220064724919093\n",
      "ROC-AUC: 0.6659208836657688\n",
      "Matriz de confusión:\n",
      "[[1531   76]\n",
      " [ 244  149]]\n",
      "\n",
      "Umbral: 0.9500000000000001\n",
      "F1 Score: 0.4367417677642981\n",
      "ROC-AUC: 0.6422592949738025\n",
      "Matriz de confusión:\n",
      "[[1549   58]\n",
      " [ 267  126]]\n",
      "\n"
     ]
    },
    {
     "data": {
      "image/png": "[encoded data removed]",
      "text/plain": [
       "<Figure size 640x480 with 1 Axes>"
      ]
     },
     "metadata": {},
     "output_type": "display_data"
    },
    {
     "data": {
      "image/png": "[encoded data removed]",
      "text/plain": [
       "<Figure size 640x480 with 1 Axes>"
      ]
     },
     "metadata": {},
     "output_type": "display_data"
    },
    {
     "name": "stdout",
     "output_type": "stream",
     "text": [
      "Error Medio Cuadrático (EMC): 0.2225\n",
      "Coeficiente de determinación (R2): 0.7775\n",
      "Error Absoluto Medio (EAM): 0.2225\n"
     ]
    }
   ],
   "source": [
    "# 1. Ajuste de umbral y cálculo de métricas\n",
    "proba = best_model.predict_proba(X_test_scaled)[:, 1]\n",
    "thresholds = np.arange(0.0, 1.0, 0.05)\n",
    "threshold_results = []\n",
    "for threshold in thresholds:\n",
    "    y_pred_threshold = (proba >= threshold).astype(int)\n",
    "    threshold_results.append({\n",
    "        \"threshold\": threshold,\n",
    "        \"f1_score\": f1_score(y_test, y_pred_threshold),\n",
    "        \"roc_auc\": roc_auc_score(y_test, y_pred_threshold),\n",
    "        \"confusion_matrix\": confusion_matrix(y_test, y_pred_threshold)\n",
    "    })\n",
    "\n",
    "# Mostrar resultados de los umbrales\n",
    "for result in threshold_results:\n",
    "    print(f\"Umbral: {result['threshold']}\")\n",
    "    print(f\"F1 Score: {result['f1_score']}\")\n",
    "    print(f\"ROC-AUC: {result['roc_auc']}\")\n",
    "    print(f\"Matriz de confusión:\\n{result['confusion_matrix']}\\n\")\n",
    "\n",
    "# 2. Curva Precision-Recall (PR)\n",
    "precision, recall, _ = precision_recall_curve(y_test, proba)\n",
    "plt.figure()\n",
    "plt.plot(recall, precision, marker='.')\n",
    "plt.title('Curva Precision-Recall')\n",
    "plt.xlabel('Recall')\n",
    "plt.ylabel('Precision')\n",
    "plt.show()\n",
    "\n",
    "# 3. Curva ROC\n",
    "fpr, tpr, _ = roc_curve(y_test, proba)\n",
    "roc_auc = auc(fpr, tpr)\n",
    "plt.figure()\n",
    "plt.plot(fpr, tpr, color='darkorange', lw=2, label='Curva ROC (área = %0.2f)' % roc_auc)\n",
    "plt.plot([0, 1], [0, 1], color='navy', lw=2, linestyle='--')\n",
    "plt.xlim([0.0, 1.0])\n",
    "plt.ylim([0.0, 1.05])\n",
    "plt.xlabel('False Positive Rate')\n",
    "plt.ylabel('True Positive Rate')\n",
    "plt.title('Curva Receiver Operating Characteristic (ROC)')\n",
    "plt.legend(loc=\"lower right\")\n",
    "plt.show()\n",
    "\n",
    "# 4. Error Medio Cuadrático (EMC) y Coeficiente de determinación (R2)\n",
    "mse = mean_squared_error(y_test, y_pred_best)\n",
    "r2 = best_model.score(X_test_scaled, y_test)  # Coeficiente de determinación\n",
    "\n",
    "print(f\"Error Medio Cuadrático (EMC): {mse}\")\n",
    "print(f\"Coeficiente de determinación (R2): {r2}\")\n",
    "\n",
    "# 5. Error Absoluto Medio (EAM)\n",
    "mae = mean_absolute_error(y_test, y_pred_best)\n",
    "print(f\"Error Absoluto Medio (EAM): {mae}\")"
   ]
  },
  {
   "cell_type": "markdown",
   "metadata": {},
   "source": [
    "Conclusiones del Proyecto\n",
    "Modelo Inicial: El modelo inicial sin ajustes presenta una precisión aceptable en la clase mayoritaria (no salida) pero pobre en la clase minoritaria (salida). La puntuación F1 es moderada debido al desequilibrio de clases.\n",
    "\n",
    "Modelo con Ajuste de Peso de Clase: El ajuste de peso de clase mejora ligeramente el rendimiento del modelo en términos de balancear las clases, pero la puntuación F1 sigue siendo subóptima.\n",
    "\n",
    "Mejor Modelo Optimizado: La optimización de hiperparámetros mejora significativamente la puntuación AUC-ROC y la puntuación F1. El mejor modelo logra un equilibrio más adecuado entre precisión y recall para la clase minoritaria.\n",
    "\n",
    "Evaluación Avanzada: La evaluación de diferentes umbrales permite ajustar el modelo para obtener una mejor relación entre precisión y recall, dependiendo de las necesidades específicas del negocio.\n",
    "\n",
    "En resumen, el modelo final optimizado cumple con el requisito del proyecto de alcanzar un valor F1 superior a 0.59 y presenta un AUC-ROC competitivo, indicando una buena capacidad predictiva para determinar si un cliente dejará el banco."
   ]
  },
  {
   "cell_type": "code",
   "execution_count": null,
   "metadata": {},
   "outputs": [],
   "source": []
  },
  {
   "cell_type": "code",
   "execution_count": null,
   "metadata": {},
   "outputs": [],
   "source": []
  },
  {
   "cell_type": "code",
   "execution_count": null,
   "metadata": {},
   "outputs": [],
   "source": []
  },
  {
   "cell_type": "code",
   "execution_count": null,
   "metadata": {},
   "outputs": [],
   "source": []
  }
 ],
 "metadata": {
  "ExecuteTimeLog": [
   {
    "duration": 1570,
    "start_time": "2024-07-12T17:37:24.112Z"
   },
   {
    "duration": 66,
    "start_time": "2024-07-12T17:38:34.526Z"
   },
   {
    "duration": 711,
    "start_time": "2024-07-12T17:42:02.766Z"
   },
   {
    "duration": 12,
    "start_time": "2024-07-12T17:45:53.996Z"
   },
   {
    "duration": 4255,
    "start_time": "2024-07-12T17:47:02.803Z"
   },
   {
    "duration": 147,
    "start_time": "2024-07-12T17:49:00.185Z"
   },
   {
    "duration": 130,
    "start_time": "2024-07-12T17:50:52.598Z"
   },
   {
    "duration": 50,
    "start_time": "2024-07-12T17:53:34.804Z"
   },
   {
    "duration": 72,
    "start_time": "2024-07-12T17:54:42.083Z"
   },
   {
    "duration": 1264,
    "start_time": "2024-07-12T17:55:35.263Z"
   },
   {
    "duration": 40,
    "start_time": "2024-07-12T17:57:28.203Z"
   },
   {
    "duration": 49,
    "start_time": "2024-07-12T17:57:29.522Z"
   },
   {
    "duration": 13,
    "start_time": "2024-07-12T17:57:30.815Z"
   },
   {
    "duration": 218,
    "start_time": "2024-07-12T17:57:32.223Z"
   },
   {
    "duration": 77,
    "start_time": "2024-07-12T17:57:34.344Z"
   },
   {
    "duration": 34,
    "start_time": "2024-07-12T17:57:36.183Z"
   },
   {
    "duration": 48,
    "start_time": "2024-07-12T17:57:37.585Z"
   },
   {
    "duration": 66,
    "start_time": "2024-07-12T17:57:39.683Z"
   },
   {
    "duration": 1265,
    "start_time": "2024-07-12T17:57:41.803Z"
   },
   {
    "duration": 328,
    "start_time": "2024-07-14T14:43:57.089Z"
   },
   {
    "duration": 520,
    "start_time": "2024-07-14T14:44:11.108Z"
   },
   {
    "duration": 714,
    "start_time": "2024-07-14T14:44:11.632Z"
   },
   {
    "duration": 9,
    "start_time": "2024-07-14T14:44:12.349Z"
   },
   {
    "duration": 4253,
    "start_time": "2024-07-14T14:44:12.362Z"
   },
   {
    "duration": 150,
    "start_time": "2024-07-14T14:44:16.618Z"
   },
   {
    "duration": 488,
    "start_time": "2024-07-14T14:44:16.771Z"
   },
   {
    "duration": 0,
    "start_time": "2024-07-14T14:44:17.262Z"
   },
   {
    "duration": 0,
    "start_time": "2024-07-14T14:44:17.263Z"
   },
   {
    "duration": 0,
    "start_time": "2024-07-14T14:44:17.265Z"
   },
   {
    "duration": 8,
    "start_time": "2024-07-14T14:44:34.189Z"
   },
   {
    "duration": 12,
    "start_time": "2024-07-14T14:44:42.310Z"
   },
   {
    "duration": 16,
    "start_time": "2024-07-14T14:45:05.299Z"
   },
   {
    "duration": 177,
    "start_time": "2024-07-14T14:45:19.209Z"
   },
   {
    "duration": 175,
    "start_time": "2024-07-14T14:46:53.710Z"
   },
   {
    "duration": 39,
    "start_time": "2024-07-14T15:07:55.890Z"
   },
   {
    "duration": 53,
    "start_time": "2024-07-14T15:07:58.285Z"
   },
   {
    "duration": 15,
    "start_time": "2024-07-14T15:08:00.994Z"
   },
   {
    "duration": 173,
    "start_time": "2024-07-14T15:08:03.089Z"
   },
   {
    "duration": 13,
    "start_time": "2024-07-14T15:11:50.739Z"
   },
   {
    "duration": 11,
    "start_time": "2024-07-14T15:38:23.194Z"
   },
   {
    "duration": 1271,
    "start_time": "2024-07-14T15:40:39.684Z"
   },
   {
    "duration": 39,
    "start_time": "2024-07-14T15:54:07.519Z"
   },
   {
    "duration": 44,
    "start_time": "2024-07-14T15:54:09.270Z"
   },
   {
    "duration": 19,
    "start_time": "2024-07-14T15:54:10.569Z"
   },
   {
    "duration": 14,
    "start_time": "2024-07-14T15:54:11.869Z"
   },
   {
    "duration": 1265,
    "start_time": "2024-07-14T15:54:13.188Z"
   },
   {
    "duration": 622,
    "start_time": "2024-07-14T15:54:15.229Z"
   },
   {
    "duration": 343433,
    "start_time": "2024-07-14T16:08:54.510Z"
   },
   {
    "duration": 239,
    "start_time": "2024-07-14T16:14:37.948Z"
   },
   {
    "duration": 272,
    "start_time": "2024-07-14T16:14:38.189Z"
   },
   {
    "duration": 296,
    "start_time": "2024-07-14T16:15:42.505Z"
   },
   {
    "duration": 328,
    "start_time": "2024-07-14T16:15:45.330Z"
   },
   {
    "duration": 5,
    "start_time": "2024-07-14T17:36:17.189Z"
   },
   {
    "duration": 88,
    "start_time": "2024-07-14T17:36:26.930Z"
   },
   {
    "duration": 43,
    "start_time": "2024-07-14T17:38:51.668Z"
   },
   {
    "duration": 1326,
    "start_time": "2024-07-14T17:45:41.795Z"
   },
   {
    "duration": 1192,
    "start_time": "2024-07-14T17:45:55.583Z"
   },
   {
    "duration": 96,
    "start_time": "2024-07-14T17:45:56.779Z"
   },
   {
    "duration": 445,
    "start_time": "2024-07-14T17:45:56.878Z"
   },
   {
    "duration": 0,
    "start_time": "2024-07-14T17:45:57.327Z"
   },
   {
    "duration": 0,
    "start_time": "2024-07-14T17:45:57.328Z"
   },
   {
    "duration": 0,
    "start_time": "2024-07-14T17:45:57.330Z"
   },
   {
    "duration": 0,
    "start_time": "2024-07-14T17:45:57.332Z"
   },
   {
    "duration": 0,
    "start_time": "2024-07-14T17:45:57.334Z"
   },
   {
    "duration": 0,
    "start_time": "2024-07-14T17:45:57.343Z"
   },
   {
    "duration": 1394,
    "start_time": "2024-07-14T17:46:20.789Z"
   },
   {
    "duration": 1359,
    "start_time": "2024-07-14T17:46:36.079Z"
   },
   {
    "duration": 90,
    "start_time": "2024-07-14T17:46:37.442Z"
   },
   {
    "duration": 478,
    "start_time": "2024-07-14T17:46:37.534Z"
   },
   {
    "duration": 0,
    "start_time": "2024-07-14T17:46:38.015Z"
   },
   {
    "duration": 0,
    "start_time": "2024-07-14T17:46:38.017Z"
   },
   {
    "duration": 0,
    "start_time": "2024-07-14T17:46:38.020Z"
   },
   {
    "duration": 0,
    "start_time": "2024-07-14T17:46:38.022Z"
   },
   {
    "duration": 0,
    "start_time": "2024-07-14T17:46:38.024Z"
   },
   {
    "duration": 0,
    "start_time": "2024-07-14T17:46:38.027Z"
   },
   {
    "duration": 1367,
    "start_time": "2024-07-14T17:46:49.433Z"
   },
   {
    "duration": 82,
    "start_time": "2024-07-14T17:47:57.867Z"
   },
   {
    "duration": 69,
    "start_time": "2024-07-14T17:48:06.760Z"
   },
   {
    "duration": 1208,
    "start_time": "2024-07-14T17:48:14.586Z"
   },
   {
    "duration": 82,
    "start_time": "2024-07-14T17:48:15.798Z"
   },
   {
    "duration": 63,
    "start_time": "2024-07-14T17:48:15.883Z"
   },
   {
    "duration": 15,
    "start_time": "2024-07-14T17:48:15.950Z"
   },
   {
    "duration": 11,
    "start_time": "2024-07-14T17:48:15.969Z"
   },
   {
    "duration": 1287,
    "start_time": "2024-07-14T17:48:16.010Z"
   },
   {
    "duration": 642,
    "start_time": "2024-07-14T17:48:17.300Z"
   },
   {
    "duration": 335420,
    "start_time": "2024-07-14T17:48:17.947Z"
   },
   {
    "duration": 577,
    "start_time": "2024-07-14T17:53:53.371Z"
   },
   {
    "duration": 85,
    "start_time": "2024-07-14T17:56:12.309Z"
   },
   {
    "duration": 72,
    "start_time": "2024-07-14T17:57:00.934Z"
   },
   {
    "duration": 728,
    "start_time": "2024-07-14T17:57:30.110Z"
   },
   {
    "duration": 556,
    "start_time": "2024-07-14T17:58:04.629Z"
   },
   {
    "duration": 4,
    "start_time": "2024-07-14T18:02:16.645Z"
   },
   {
    "duration": 76,
    "start_time": "2024-07-14T18:02:17.514Z"
   },
   {
    "duration": 45,
    "start_time": "2024-07-14T18:02:19.164Z"
   },
   {
    "duration": 14,
    "start_time": "2024-07-14T18:02:21.083Z"
   },
   {
    "duration": 87,
    "start_time": "2024-07-14T18:02:22.689Z"
   },
   {
    "duration": 88,
    "start_time": "2024-07-14T18:02:25.064Z"
   },
   {
    "duration": 729,
    "start_time": "2024-07-14T18:02:27.724Z"
   },
   {
    "duration": 149,
    "start_time": "2024-07-14T18:02:30.174Z"
   },
   {
    "duration": 146,
    "start_time": "2024-07-14T18:03:09.964Z"
   },
   {
    "duration": 4,
    "start_time": "2024-07-14T18:04:02.114Z"
   },
   {
    "duration": 559,
    "start_time": "2024-07-14T18:04:45.869Z"
   },
   {
    "duration": 8,
    "start_time": "2024-07-14T18:48:35.879Z"
   },
   {
    "duration": 5,
    "start_time": "2024-07-14T18:49:02.399Z"
   },
   {
    "duration": 144,
    "start_time": "2024-07-14T18:49:03.329Z"
   },
   {
    "duration": 44,
    "start_time": "2024-07-14T18:49:05.439Z"
   },
   {
    "duration": 14,
    "start_time": "2024-07-14T18:49:06.863Z"
   },
   {
    "duration": 88,
    "start_time": "2024-07-14T18:49:08.295Z"
   },
   {
    "duration": 70,
    "start_time": "2024-07-14T18:49:10.105Z"
   },
   {
    "duration": 683,
    "start_time": "2024-07-14T18:49:12.140Z"
   },
   {
    "duration": 546,
    "start_time": "2024-07-14T18:49:13.574Z"
   },
   {
    "duration": 2688,
    "start_time": "2024-09-01T15:51:22.323Z"
   },
   {
    "duration": 61,
    "start_time": "2024-09-01T15:51:25.013Z"
   },
   {
    "duration": 27,
    "start_time": "2024-09-01T15:51:25.076Z"
   },
   {
    "duration": 8,
    "start_time": "2024-09-01T15:51:25.105Z"
   },
   {
    "duration": 56,
    "start_time": "2024-09-01T15:51:25.143Z"
   },
   {
    "duration": 45,
    "start_time": "2024-09-01T15:51:25.798Z"
   },
   {
    "duration": 427,
    "start_time": "2024-09-01T15:51:27.058Z"
   },
   {
    "duration": 281,
    "start_time": "2024-09-01T15:51:27.719Z"
   }
  ],
  "kernelspec": {
   "display_name": "Python 3 (ipykernel)",
   "language": "python",
   "name": "python3"
  },
  "language_info": {
   "codemirror_mode": {
    "name": "ipython",
    "version": 3
   },
   "file_extension": ".py",
   "mimetype": "text/x-python",
   "name": "python",
   "nbconvert_exporter": "python",
   "pygments_lexer": "ipython3",
   "version": "3.9.19"
  },
  "toc": {
   "base_numbering": 1,
   "nav_menu": {},
   "number_sections": true,
   "sideBar": true,
   "skip_h1_title": true,
   "title_cell": "Table of Contents",
   "title_sidebar": "Contents",
   "toc_cell": false,
   "toc_position": {},
   "toc_section_display": true,
   "toc_window_display": false
  }
 },
 "nbformat": 4,
 "nbformat_minor": 2
}
