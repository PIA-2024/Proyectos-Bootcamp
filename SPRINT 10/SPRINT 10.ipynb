{
 "cells": [
  {
   "cell_type": "markdown",
   "metadata": {},
   "source": [
    "Hola Pia! Como te va?\n",
    "\n",
    "Mi nombre es Facundo! Un gusto conocerte, seré tu revisor en este proyecto.\n",
    "\n",
    "A continuación un poco sobre la modalidad de revisión que usaremos:\n",
    "\n",
    "Cuando enccuentro un error por primera vez, simplemente lo señalaré, te dejaré encontrarlo y arreglarlo tú cuenta. Además, a lo largo del texto iré haciendo algunas observaciones sobre mejora en tu código y también haré comentarios sobre tus percepciones sobre el tema. Pero si aún no puedes realizar esta tarea, te daré una pista más precisa en la próxima iteración y también algunos ejemplos prácticos. Estaré abierto a comentarios y discusiones sobre el tema.\n",
    "\n",
    "Encontrará mis comentarios a continuación: **no los mueva, modifique ni elimine**.\n",
    "\n",
    "Puedes encontrar mis comentarios en cuadros verdes, amarillos o rojos como este:\n",
    "\n",
    "<div class=\"alert alert-block alert-success\">\n",
    "<b>Comentario del revisor.</b> <a class=\"tocSkip\"></a>\n",
    "\n",
    "Exito. Todo se ha hecho de forma exitosa.\n",
    "</div>\n",
    "\n",
    "<div class=\"alert alert-block alert-warning\">\n",
    "<b>Comentario del revisor.</b> <a class=\"tocSkip\"></a>\n",
    "\n",
    "Observación. Algunas recomendaciones.\n",
    "</div>\n",
    "\n",
    "<div class=\"alert alert-block alert-danger\">\n",
    "\n",
    "<b>Comentario del revisor.</b> <a class=\"tocSkip\"></a>\n",
    "\n",
    "Necesita arreglos. Este apartado necesita algunas correcciones. El trabajo no puede ser aceptado con comentarios rojos. \n",
    "</div>\n",
    "\n",
    "Puedes responder utilizando esto:\n",
    "\n",
    "<div class=\"alert alert-block alert-info\">\n",
    "<b>Respuesta de estudiante.</b> <a class=\"tocSkip\"></a>\n",
    "</div>"
   ]
  },
  {
   "cell_type": "markdown",
   "metadata": {},
   "source": [
    "# Descripción del proyecto\n",
    "Trabajas en la compañía de extracción de petróleo OilyGiant. Tu tarea es encontrar los mejores lugares donde abrir 200 pozos nuevos de petróleo.\n",
    "Para completar esta tarea, tendrás que realizar los siguientes pasos:\n",
    "\n",
    "•\tLeer los archivos con los parámetros recogidos de pozos petrolíferos en la región seleccionada: calidad de crudo y volumen de reservas.\n",
    "\n",
    "•\tCrear un modelo para predecir el volumen de reservas en pozos nuevos.\n",
    "\n",
    "•\tElegir los pozos petrolíferos que tienen los valores estimados más altos.\n",
    "\n",
    "•\tElegir la región con el beneficio total más alto para los pozos petrolíferos seleccionados.\n",
    "\n",
    "Tienes datos sobre muestras de crudo de tres regiones. Ya se conocen los parámetros de cada pozo petrolero de la región.\n",
    "Crea un modelo que ayude a elegir la región con el mayor margen de beneficio. \n",
    "Analiza los beneficios y riesgos potenciales utilizando la técnica bootstrapping.\n",
    "\n",
    "Condiciones:\n",
    "\n",
    "•\tSolo se debe usar la regresión lineal para el entrenamiento del modelo.\n",
    "\n",
    "•\tAl explorar la región, se lleva a cabo un estudio de 500 puntos con la selección de los mejores 200 puntos para el cálculo del beneficio.\n",
    "\n",
    "•\tEl presupuesto para el desarrollo de 200 pozos petroleros es de 100 millones de dólares.\n",
    "\n",
    "•\tUn barril de materias primas genera 4.5 USD de ingresos. El ingreso de una unidad de producto es de 4500 dólares (el volumen de reservas está expresado en miles de barriles).\n",
    "\n",
    "•\tDespués de la evaluación de riesgo, mantén solo las regiones con riesgo de pérdidas inferior al 2.5%. De las que se ajustan a los criterios, se debe seleccionar la región con el beneficio promedio más alto.\n",
    "\n",
    "Los datos son sintéticos: los detalles del contrato y las características del pozo no se publican.\n",
    "\n",
    "Descripción de datos\n",
    "Los datos de exploración geológica de las tres regiones se almacenan en archivos:\n",
    "- geo_data_0.csv. Descarga el conjunto de datos\n",
    "- geo_data_1.csv. Descarga el conjunto de datos\n",
    "- geo_data_2.csv. Descarga el conjunto de datos\n",
    "- id — identificador único de pozo de petróleo\n",
    "- f0, f1, f2 — tres características de los puntos (su significado específico no es importante, pero las características en sí son significativas)\n",
    "- product — volumen de reservas en el pozo de petróleo (miles de barriles).\n",
    "\n",
    "Instrucciones del proyecto:\n",
    "\n",
    "## Paso 1.\tDescarga y prepara los datos. Explica el procedimiento.\n",
    "## Paso 2.\tEntrena y prueba el modelo para cada región en geo_data_0.csv:\n",
    "- 2.1.\tDivide los datos en un conjunto de entrenamiento y un conjunto de validación en una proporción de 75:25\n",
    "- 2.2\tEntrena el modelo y haz predicciones para el conjunto de validación.\n",
    "- 2.3\tGuarda las predicciones y las respuestas correctas para el conjunto de validación.\n",
    "- 2.4\tMuestra el volumen medio de reservas predicho y RMSE del modelo.\n",
    "- 2.5\tAnaliza los resultados. Coloca todos los pasos previos en funciones, realiza y ejecuta los pasos 2.1-2.5 para los archivos 'geo_data_1.csv' y 'geo_data_2.csv'.\n",
    "\n",
    "## Paso 3.\tPrepárate para el cálculo de ganancias:\n",
    "- 3.1\tAlmacena todos los valores necesarios para los cálculos en variables separadas.\n",
    "- 3.2\tDada la inversión de 100 millones por 200 pozos petrolíferos, de media un pozo petrolífero debe producir al menos un valor de 500,000 dólares en unidades para evitar pérdidas (esto es equivalente a 111.1 unidades). Compara esta cantidad con la cantidad media de reservas en cada región.\n",
    "- 3.3\tPresenta conclusiones sobre cómo preparar el paso para calcular el beneficio.\n",
    "\n",
    "## Paso 4.\tEscribe una función para calcular la ganancia de un conjunto de pozos de petróleo seleccionados y modela las predicciones:\n",
    "- 4.1\tElige los 200 pozos con los valores de predicción más altos de cada una de las 3 regiones (es decir, archivos 'csv').\n",
    "- 4.2\tResume el volumen objetivo de reservas según dichas predicciones. Almacena las predicciones para los 200 pozos para cada una de las 3 regiones.\n",
    "- 4.3\tCalcula la ganancia potencial de los 200 pozos principales por región. \n",
    "- 4.4   Presenta tus conclusiones: propón una región para el desarrollo de pozos petrolíferos y justifica tu elección.\n",
    "\n",
    "## Paso 5.\tCalcula riesgos y ganancias para cada región:\n",
    "- 5.1\tUtilizando las predicciones que almacenaste en el paso 4.2, emplea la técnica del bootstrapping con 1000 muestras para hallar la distribución de los beneficios.\n",
    "- 5.2\tEncuentra el beneficio promedio, el intervalo de confianza del 95% y el riesgo de pérdidas. La pérdida es una ganancia negativa, calcúlala como una probabilidad y luego exprésala como un porcentaje.\n",
    "- 5.3\tPresenta tus conclusiones: propón una región para el desarrollo de pozos petrolíferos y justifica tu elección. ¿Coincide tu elección con la elección anterior en el punto 4.3?\n",
    "\n"
   ]
  },
  {
   "cell_type": "markdown",
   "metadata": {},
   "source": [
    " <div class=\"alert alert-block alert-success\">\n",
    "<b>Review General. (Iteración 2) </b> <a class=\"tocSkip\"></a>\n",
    "\n",
    "Felicitaciones Pia, has implementado los cambios que te he indicado, bien hecho! Hemos alcanzado los objetivos del proyecto por lo que está en condiciones de ser aprobado!\n",
    "    \n",
    "Felicitaciones y éxitos en tu camino dentro del mundo de los datos!\n",
    "    \n",
    "Saludos Pia!"
   ]
  },
  {
   "cell_type": "markdown",
   "metadata": {},
   "source": [
    "<div class=\"alert alert-block alert-success\">\n",
    "<b>Review General. (Iteración 1) </b> <a class=\"tocSkip\"></a>\n",
    "\n",
    "\n",
    "Pia, siempre me tomo este tiempo al inicio de tu proyecto para comentar mis apreciaciones generales de esta iteración de tu entrega. \n",
    "    \n",
    "\n",
    "Me gusta comenzar dando la bienvenida al mundo de los datos a los estudiantes, te deseo lo mejor y espero que consigas lograr tus objetivos. Personalmente me gusta brindar el siguiente consejo, \"Está bien equivocarse, es normal y es lo mejor que te puede pasar. Aprendemos de los errores y eso te hará mejor programadora ya que podrás descubrir cosas a medida que avances y son estas cosas las que te darán esa experiencia para ser una gran Data Scientist\"\n",
    "    \n",
    "Ahora si yendo a esta notebook. Quería felicitarte Pia porque has realizado de forma excelente el trabajo, has implementado de forma perfecta cada apartado y con un gran compromiso a la hora de mostrar los resultados parciales. Solo hemos tenido un pequeño detalle pero que estoy seguro que te demorará unos segundos corregir.\n",
    "    \n",
    "Espero con ansias a nuestra próxima iteración Pia, exitos y saludos!"
   ]
  },
  {
   "cell_type": "markdown",
   "metadata": {},
   "source": [
    "Paso 1: Descarga y preparación de los datos"
   ]
  },
  {
   "cell_type": "code",
   "execution_count": 20,
   "metadata": {},
   "outputs": [],
   "source": [
    "import pandas as pd\n",
    "import numpy as np\n",
    "from sklearn.model_selection import train_test_split\n",
    "from sklearn.linear_model import LinearRegression\n",
    "from sklearn.metrics import mean_squared_error"
   ]
  },
  {
   "cell_type": "code",
   "execution_count": 21,
   "metadata": {},
   "outputs": [
    {
     "name": "stdout",
     "output_type": "stream",
     "text": [
      "      id        f0        f1        f2     product\n",
      "0  txEyH  0.705745 -0.497823  1.221170  105.280062\n",
      "1  2acmU  1.334711 -0.340164  4.365080   73.037750\n",
      "2  409Wp  1.022732  0.151990  1.419926   85.265647\n",
      "3  iJLyR -0.032172  0.139033  2.978566  168.620776\n",
      "4  Xdl7t  1.988431  0.155413  4.751769  154.036647\n",
      "      id         f0         f1        f2     product\n",
      "0  kBEdx -15.001348  -8.276000 -0.005876    3.179103\n",
      "1  62mP7  14.272088  -3.475083  0.999183   26.953261\n",
      "2  vyE1P   6.263187  -5.948386  5.001160  134.766305\n",
      "3  KcrkZ -13.081196 -11.506057  4.999415  137.945408\n",
      "4  AHL4O  12.702195  -8.147433  5.004363  134.766305\n",
      "      id        f0        f1        f2     product\n",
      "0  fwXo0 -1.146987  0.963328 -0.828965   27.758673\n",
      "1  WJtFt  0.262778  0.269839 -2.530187   56.069697\n",
      "2  ovLUW  0.194587  0.289035 -5.586433   62.871910\n",
      "3  q6cA6  2.236060 -0.553760  0.930038  114.572842\n",
      "4  WPMUX -0.515993  1.716266  5.899011  149.600746\n"
     ]
    }
   ],
   "source": [
    "# Cargar los datos\n",
    "geo_data_0 = pd.read_csv('/datasets/geo_data_0.csv')\n",
    "geo_data_1 = pd.read_csv('/datasets/geo_data_1.csv')\n",
    "geo_data_2 = pd.read_csv('/datasets/geo_data_2.csv')\n",
    "\n",
    "# Mostrar las primeras filas de cada conjunto de datos\n",
    "print(geo_data_0.head())\n",
    "print(geo_data_1.head())\n",
    "print(geo_data_2.head())\n"
   ]
  },
  {
   "cell_type": "code",
   "execution_count": 22,
   "metadata": {},
   "outputs": [
    {
     "name": "stdout",
     "output_type": "stream",
     "text": [
      "<class 'pandas.core.frame.DataFrame'>\n",
      "RangeIndex: 100000 entries, 0 to 99999\n",
      "Data columns (total 5 columns):\n",
      " #   Column   Non-Null Count   Dtype  \n",
      "---  ------   --------------   -----  \n",
      " 0   id       100000 non-null  object \n",
      " 1   f0       100000 non-null  float64\n",
      " 2   f1       100000 non-null  float64\n",
      " 3   f2       100000 non-null  float64\n",
      " 4   product  100000 non-null  float64\n",
      "dtypes: float64(4), object(1)\n",
      "memory usage: 3.8+ MB\n",
      "None\n",
      "<class 'pandas.core.frame.DataFrame'>\n",
      "RangeIndex: 100000 entries, 0 to 99999\n",
      "Data columns (total 5 columns):\n",
      " #   Column   Non-Null Count   Dtype  \n",
      "---  ------   --------------   -----  \n",
      " 0   id       100000 non-null  object \n",
      " 1   f0       100000 non-null  float64\n",
      " 2   f1       100000 non-null  float64\n",
      " 3   f2       100000 non-null  float64\n",
      " 4   product  100000 non-null  float64\n",
      "dtypes: float64(4), object(1)\n",
      "memory usage: 3.8+ MB\n",
      "None\n",
      "<class 'pandas.core.frame.DataFrame'>\n",
      "RangeIndex: 100000 entries, 0 to 99999\n",
      "Data columns (total 5 columns):\n",
      " #   Column   Non-Null Count   Dtype  \n",
      "---  ------   --------------   -----  \n",
      " 0   id       100000 non-null  object \n",
      " 1   f0       100000 non-null  float64\n",
      " 2   f1       100000 non-null  float64\n",
      " 3   f2       100000 non-null  float64\n",
      " 4   product  100000 non-null  float64\n",
      "dtypes: float64(4), object(1)\n",
      "memory usage: 3.8+ MB\n",
      "None\n",
      "id         0\n",
      "f0         0\n",
      "f1         0\n",
      "f2         0\n",
      "product    0\n",
      "dtype: int64\n",
      "id         0\n",
      "f0         0\n",
      "f1         0\n",
      "f2         0\n",
      "product    0\n",
      "dtype: int64\n",
      "id         0\n",
      "f0         0\n",
      "f1         0\n",
      "f2         0\n",
      "product    0\n",
      "dtype: int64\n"
     ]
    }
   ],
   "source": [
    "# Información general y descripción de los datos\n",
    "print(geo_data_0.info())\n",
    "\n",
    "print(geo_data_1.info())\n",
    "\n",
    "print(geo_data_2.info())\n",
    "\n",
    "# Comprobación de valores nulos\n",
    "print(geo_data_0.isnull().sum())\n",
    "print(geo_data_1.isnull().sum())\n",
    "print(geo_data_2.isnull().sum())"
   ]
  },
  {
   "cell_type": "markdown",
   "metadata": {},
   "source": [
    "<div class=\"alert alert-block alert-success\">\n",
    "<b>Comentario del revisor.</b> <a class=\"tocSkip\"></a>\n",
    "\n",
    "Excelente carga de los datos manteniendolos por separados de las importaciones de librerías como así la implementación de métodos para profundizar en la comprensión de nuestros datos. Bien hecho!"
   ]
  },
  {
   "cell_type": "markdown",
   "metadata": {},
   "source": [
    "Paso 2: Entrenamiento y Prueba del Modelo\n",
    "Vamos a crear un modelo de regresión lineal para predecir el volumen de reservas en pozos nuevos.\n",
    "\n",
    "2.1 División de los Datos\n",
    "Dividimos los datos en conjuntos de entrenamiento y validación en una proporción de 75:25."
   ]
  },
  {
   "cell_type": "code",
   "execution_count": 23,
   "metadata": {
    "scrolled": false
   },
   "outputs": [],
   "source": [
    "# Dividir los datos\n",
    "def split_data(data):\n",
    "    X = data.drop(['id', 'product'], axis=1)\n",
    "    y = data['product']\n",
    "    return train_test_split(X, y, test_size=0.25, random_state=42)\n",
    "\n",
    "X_train_0, X_val_0, y_train_0, y_val_0 = split_data(geo_data_0)\n",
    "X_train_1, X_val_1, y_train_1, y_val_1 = split_data(geo_data_1)\n",
    "X_train_2, X_val_2, y_train_2, y_val_2 = split_data(geo_data_2)\n"
   ]
  },
  {
   "cell_type": "markdown",
   "metadata": {},
   "source": [
    "<div class=\"alert alert-block alert-success\">\n",
    "<b>Comentario del revisor.</b> <a class=\"tocSkip\"></a>\n",
    "\n",
    "Perfecta cración de la función a cargo de la división de los datos, a la vez bien tenido en cuenta el quitar aquella feautre que no aporta valor como los id."
   ]
  },
  {
   "cell_type": "markdown",
   "metadata": {},
   "source": [
    "2.2 Entrenamiento del Modelo\n",
    "Entrenamos un modelo de regresión lineal con los datos de entrenamiento y hacemos predicciones sobre el conjunto de validación."
   ]
  },
  {
   "cell_type": "code",
   "execution_count": 24,
   "metadata": {},
   "outputs": [
    {
     "name": "stdout",
     "output_type": "stream",
     "text": [
      "Región 0 - RMSE: 37.756600350261685\n",
      "Región 1 - RMSE: 0.890280100102884\n",
      "Región 2 - RMSE: 40.14587231134218\n"
     ]
    }
   ],
   "source": [
    "# Función para entrenar y evaluar el modelo\n",
    "def train_and_evaluate(X_train, y_train, X_val, y_val):\n",
    "    model = LinearRegression()\n",
    "    model.fit(X_train, y_train)\n",
    "    predictions = model.predict(X_val)\n",
    "    rmse = mean_squared_error(y_val, predictions, squared=False)\n",
    "    return predictions, rmse\n",
    "\n",
    "# Entrenar y evaluar modelos para cada región\n",
    "predictions_0, rmse_0 = train_and_evaluate(X_train_0, y_train_0, X_val_0, y_val_0)\n",
    "predictions_1, rmse_1 = train_and_evaluate(X_train_1, y_train_1, X_val_1, y_val_1)\n",
    "predictions_2, rmse_2 = train_and_evaluate(X_train_2, y_train_2, X_val_2, y_val_2)\n",
    "\n",
    "# Resultados\n",
    "print(\"Región 0 - RMSE:\", rmse_0)\n",
    "print(\"Región 1 - RMSE:\", rmse_1)\n",
    "print(\"Región 2 - RMSE:\", rmse_2)"
   ]
  },
  {
   "cell_type": "markdown",
   "metadata": {},
   "source": [
    "<div class=\"alert alert-block alert-success\">\n",
    "<b>Comentario del revisor.</b> <a class=\"tocSkip\"></a>\n",
    "\n",
    "Nuevamente felicitaciones, esta vez por crear la función a cargo del entrenamiento. También una excelente implementación, llegamos a los resultados esperados!"
   ]
  },
  {
   "cell_type": "markdown",
   "metadata": {},
   "source": [
    "2.3 Guardar Predicciones y Respuestas Correctas\n",
    "Guardamos las predicciones y las respuestas correctas para el conjunto de validación."
   ]
  },
  {
   "cell_type": "code",
   "execution_count": 25,
   "metadata": {},
   "outputs": [
    {
     "name": "stdout",
     "output_type": "stream",
     "text": [
      "           actual   predicted\n",
      "75721  122.073350  101.901017\n",
      "80184   48.738540   78.217774\n",
      "19864  131.338088  115.266901\n",
      "76699   88.327757  105.618618\n",
      "92991   36.959266   97.980185\n",
      "           actual   predicted\n",
      "75721    0.000000    0.844738\n",
      "80184   53.906522   52.921612\n",
      "19864  134.766305  135.110385\n",
      "76699  107.813044  109.494863\n",
      "92991    0.000000   -0.047292\n",
      "           actual   predicted\n",
      "75721  117.441301   98.301916\n",
      "80184   47.841249  101.592461\n",
      "19864   45.883483   52.449099\n",
      "76699  139.014608  109.922127\n",
      "92991   84.004276   72.411847\n"
     ]
    }
   ],
   "source": [
    "# Guardar predicciones y respuestas correctas\n",
    "validation_results_0 = pd.DataFrame({'actual': y_val_0, 'predicted': predictions_0})\n",
    "validation_results_1 = pd.DataFrame({'actual': y_val_1, 'predicted': predictions_1})\n",
    "validation_results_2 = pd.DataFrame({'actual': y_val_2, 'predicted': predictions_2})\n",
    "\n",
    "# Mostrar algunas filas de los resultados\n",
    "print(validation_results_0.head())\n",
    "print(validation_results_1.head())\n",
    "print(validation_results_2.head())"
   ]
  },
  {
   "cell_type": "markdown",
   "metadata": {},
   "source": [
    "2.4 Volumen Medio de Reservas Predicho y RMSE del Modelo\n",
    "Calculamos y mostramos el volumen medio de reservas predicho y el RMSE del modelo para cada región."
   ]
  },
  {
   "cell_type": "code",
   "execution_count": 26,
   "metadata": {},
   "outputs": [
    {
     "name": "stdout",
     "output_type": "stream",
     "text": [
      "Región 0 - Volumen medio de reservas predicho: 92.3987999065777\n",
      "Región 1 - Volumen medio de reservas predicho: 68.71287803913762\n",
      "Región 2 - Volumen medio de reservas predicho: 94.77102387765939\n"
     ]
    }
   ],
   "source": [
    "# Volumen medio de reservas predicho\n",
    "mean_predictions_0 = predictions_0.mean()\n",
    "mean_predictions_1 = predictions_1.mean()\n",
    "mean_predictions_2 = predictions_2.mean()\n",
    "\n",
    "# Resultados\n",
    "print(\"Región 0 - Volumen medio de reservas predicho:\", mean_predictions_0)\n",
    "print(\"Región 1 - Volumen medio de reservas predicho:\", mean_predictions_1)\n",
    "print(\"Región 2 - Volumen medio de reservas predicho:\", mean_predictions_2)"
   ]
  },
  {
   "cell_type": "markdown",
   "metadata": {},
   "source": [
    "2.5 Análisis de Resultados\n",
    "Analizamos los resultados obtenidos de las predicciones y los errores."
   ]
  },
  {
   "cell_type": "code",
   "execution_count": 27,
   "metadata": {},
   "outputs": [
    {
     "name": "stdout",
     "output_type": "stream",
     "text": [
      "Región 0:\n",
      " - Volumen medio de reservas predicho: 92.3987999065777\n",
      " - RMSE del modelo: 37.756600350261685\n",
      "Región 1:\n",
      " - Volumen medio de reservas predicho: 68.71287803913762\n",
      " - RMSE del modelo: 0.890280100102884\n",
      "Región 2:\n",
      " - Volumen medio de reservas predicho: 94.77102387765939\n",
      " - RMSE del modelo: 40.14587231134218\n"
     ]
    }
   ],
   "source": [
    "# Análisis de resultados\n",
    "def analyze_results(mean_predictions, rmse, region):\n",
    "    print(f\"Región {region}:\")\n",
    "    print(f\" - Volumen medio de reservas predicho: {mean_predictions}\")\n",
    "    print(f\" - RMSE del modelo: {rmse}\")\n",
    "\n",
    "analyze_results(mean_predictions_0, rmse_0, 0)\n",
    "analyze_results(mean_predictions_1, rmse_1, 1)\n",
    "analyze_results(mean_predictions_2, rmse_2, 2)"
   ]
  },
  {
   "cell_type": "markdown",
   "metadata": {},
   "source": [
    "Paso 3: Preparación para el Cálculo de Ganancias"
   ]
  },
  {
   "cell_type": "markdown",
   "metadata": {},
   "source": [
    "3.1 Almacenar valores necesarios para los cálculos"
   ]
  },
  {
   "cell_type": "code",
   "execution_count": 28,
   "metadata": {},
   "outputs": [
    {
     "name": "stdout",
     "output_type": "stream",
     "text": [
      "Cantidad mínima requerida por pozo: 111.11111111111111\n"
     ]
    }
   ],
   "source": [
    "# Almacenar valores necesarios para los cálculos\n",
    "BUDGET = 100e6  # Presupuesto total en dólares\n",
    "WELLS = 200  # Número de pozos\n",
    "REVENUE_PER_UNIT = 4500  # Ingreso por unidad (1000 barriles)\n",
    "MIN_REVENUE_PER_WELL = BUDGET / WELLS  # Ingreso mínimo por pozo\n",
    "MIN_UNITS_PER_WELL = MIN_REVENUE_PER_WELL / REVENUE_PER_UNIT  # Unidades mínimas por pozo\n",
    "\n",
    "print(\"Cantidad mínima requerida por pozo:\", MIN_UNITS_PER_WELL)"
   ]
  },
  {
   "cell_type": "markdown",
   "metadata": {},
   "source": [
    "3.2 Comparar con la cantidad media de reservas en cada región"
   ]
  },
  {
   "cell_type": "code",
   "execution_count": 29,
   "metadata": {},
   "outputs": [
    {
     "name": "stdout",
     "output_type": "stream",
     "text": [
      "Región 0 - Cantidad media de reservas: 92.50000000000001\n",
      "Región 1 - Cantidad media de reservas: 68.82500000000002\n",
      "Región 2 - Cantidad media de reservas: 95.00000000000004\n"
     ]
    }
   ],
   "source": [
    "# Comparación con cantidad media de reservas\n",
    "mean_reserves_0 = geo_data_0['product'].mean()\n",
    "mean_reserves_1 = geo_data_1['product'].mean()\n",
    "mean_reserves_2 = geo_data_2['product'].mean()\n",
    "\n",
    "print(\"Región 0 - Cantidad media de reservas:\", mean_reserves_0)\n",
    "print(\"Región 1 - Cantidad media de reservas:\", mean_reserves_1)\n",
    "print(\"Región 2 - Cantidad media de reservas:\", mean_reserves_2)"
   ]
  },
  {
   "cell_type": "markdown",
   "metadata": {},
   "source": [
    "<div class=\"alert alert-block alert-success\">\n",
    "<b>Comentario del revisor.</b> <a class=\"tocSkip\"></a>\n",
    "\n",
    "Bien hecho! Excelentes promedios!"
   ]
  },
  {
   "cell_type": "markdown",
   "metadata": {},
   "source": [
    "3.3 Conclusiones sobre cómo preparar el paso para calcular el beneficio\n",
    "Para calcular el beneficio, debemos asegurarnos de que los pozos seleccionados cumplan con la cantidad mínima de reservas requerida para evitar pérdidas. Procederemos a seleccionar los pozos con las mayores reservas predichas y calcular el beneficio potencial."
   ]
  },
  {
   "cell_type": "markdown",
   "metadata": {},
   "source": [
    "Paso 4: Cálculo de Ganancias"
   ]
  },
  {
   "cell_type": "markdown",
   "metadata": {},
   "source": [
    "4.1 Elige los 200 pozos con los valores de predicción más altos"
   ]
  },
  {
   "cell_type": "code",
   "execution_count": 30,
   "metadata": {},
   "outputs": [
    {
     "name": "stdout",
     "output_type": "stream",
     "text": [
      "Región 0 - Ganancia potencial: 33591411.14462179\n",
      "Región 1 - Ganancia potencial: 24150866.966815114\n",
      "Región 2 - Ganancia potencial: 25985717.59374112\n"
     ]
    }
   ],
   "source": [
    "# Función para calcular la ganancia\n",
    "def calculate_profit(predictions, target, count, revenue_per_unit):\n",
    "    sorted_indices = predictions.argsort()[::-1][:count]\n",
    "    selected_reserves = target.iloc[sorted_indices]\n",
    "    total_revenue = selected_reserves.sum() * revenue_per_unit\n",
    "    return total_revenue - BUDGET\n",
    "\n",
    "# Calcular ganancias para cada región\n",
    "profit_0 = calculate_profit(predictions_0, y_val_0, WELLS, REVENUE_PER_UNIT)\n",
    "profit_1 = calculate_profit(predictions_1, y_val_1, WELLS, REVENUE_PER_UNIT)\n",
    "profit_2 = calculate_profit(predictions_2, y_val_2, WELLS, REVENUE_PER_UNIT)\n",
    "\n",
    "print(\"Región 0 - Ganancia potencial:\", profit_0)\n",
    "print(\"Región 1 - Ganancia potencial:\", profit_1)\n",
    "print(\"Región 2 - Ganancia potencial:\", profit_2)"
   ]
  },
  {
   "cell_type": "markdown",
   "metadata": {},
   "source": [
    "<div class=\"alert alert-block alert-success\">\n",
    "<b>Comentario del revisor.</b> <a class=\"tocSkip\"></a>\n",
    "\n",
    "Perfecto Pia! Tal como se debía hemos tomado los top 200 pozos en base a las predicciones y de forma correcta hemos calculado la ganancia al multiplicar por la ganancia por unidad y al restar el presupuesto. Sigamos!"
   ]
  },
  {
   "cell_type": "markdown",
   "metadata": {},
   "source": [
    "4.2 Resume el volumen objetivo de reservas y almacena las predicciones"
   ]
  },
  {
   "cell_type": "code",
   "execution_count": 31,
   "metadata": {},
   "outputs": [
    {
     "name": "stdout",
     "output_type": "stream",
     "text": [
      "Región 0 - Volumen objetivo de reservas (200 pozos): 29686.9802543604\n",
      "Región 1 - Volumen objetivo de reservas (200 pozos): 27589.081548181137\n",
      "Región 2 - Volumen objetivo de reservas (200 pozos): 27996.82613194247\n"
     ]
    }
   ],
   "source": [
    "# Convertir las predicciones en Series para usar índices\n",
    "predictions_0_series = pd.Series(predictions_0)\n",
    "predictions_1_series = pd.Series(predictions_1)\n",
    "predictions_2_series = pd.Series(predictions_2)\n",
    "\n",
    "# Almacenar predicciones para los 200 pozos seleccionados\n",
    "top_200_predictions_0 = predictions_0_series.nlargest(200)\n",
    "top_200_predictions_1 = predictions_1_series.nlargest(200)\n",
    "top_200_predictions_2 = predictions_2_series.nlargest(200)\n",
    "\n",
    "# Volumen objetivo de reservas\n",
    "top_200_reserves_0 = y_val_0.iloc[top_200_predictions_0.index].sum()\n",
    "top_200_reserves_1 = y_val_1.iloc[top_200_predictions_1.index].sum()\n",
    "top_200_reserves_2 = y_val_2.iloc[top_200_predictions_2.index].sum()\n",
    "\n",
    "print(\"Región 0 - Volumen objetivo de reservas (200 pozos):\", top_200_reserves_0)\n",
    "print(\"Región 1 - Volumen objetivo de reservas (200 pozos):\", top_200_reserves_1)\n",
    "print(\"Región 2 - Volumen objetivo de reservas (200 pozos):\", top_200_reserves_2)"
   ]
  },
  {
   "cell_type": "markdown",
   "metadata": {},
   "source": [
    "4.3 Calcula la ganancia potencial de los 200 pozos principales por región\n",
    "Calculado previamente en el paso 4.1."
   ]
  },
  {
   "cell_type": "markdown",
   "metadata": {},
   "source": [
    "4.4 Presenta tus conclusiones y justifica tu elección\n",
    "Basado en las ganancias potenciales calculadas, seleccionamos la región con la ganancia más alta y justificamos nuestra elección."
   ]
  },
  {
   "cell_type": "code",
   "execution_count": 32,
   "metadata": {},
   "outputs": [
    {
     "name": "stdout",
     "output_type": "stream",
     "text": [
      "Región 0:\n",
      " - Ganancia potencial: 33591411.14462179\n",
      " - Volumen objetivo de reservas: 29686.9802543604\n",
      "Región 1:\n",
      " - Ganancia potencial: 24150866.966815114\n",
      " - Volumen objetivo de reservas: 27589.081548181137\n",
      "Región 2:\n",
      " - Ganancia potencial: 25985717.59374112\n",
      " - Volumen objetivo de reservas: 27996.82613194247\n",
      "La mejor región para el desarrollo de pozos es la región 0 debido a su mayor ganancia potencial.\n"
     ]
    }
   ],
   "source": [
    "# Conclusiones\n",
    "def present_conclusions(profits, reserves, region):\n",
    "    print(f\"Región {region}:\")\n",
    "    print(f\" - Ganancia potencial: {profits}\")\n",
    "    print(f\" - Volumen objetivo de reservas: {reserves}\")\n",
    "\n",
    "present_conclusions(profit_0, top_200_reserves_0, 0)\n",
    "present_conclusions(profit_1, top_200_reserves_1, 1)\n",
    "present_conclusions(profit_2, top_200_reserves_2, 2)\n",
    "\n",
    "best_region = max([(0, profit_0), (1, profit_1), (2, profit_2)], key=lambda x: x[1])[0]\n",
    "print(f\"La mejor región para el desarrollo de pozos es la región {best_region} debido a su mayor ganancia potencial.\")"
   ]
  },
  {
   "cell_type": "markdown",
   "metadata": {},
   "source": [
    "<div class=\"alert alert-block alert-success\">\n",
    "<b>Comentario del revisor.</b> <a class=\"tocSkip\"></a>\n",
    "\n",
    "Excelentes agregado al calcular tanto potenciales ganancias como volumnes objetivos por region! Impresionante Pia!"
   ]
  },
  {
   "cell_type": "markdown",
   "metadata": {},
   "source": [
    "Paso 5: Cálculo de Riesgos y Ganancias Utilizando Bootstrapping"
   ]
  },
  {
   "cell_type": "markdown",
   "metadata": {},
   "source": [
    "5.1 Utiliza la técnica de bootstrapping con 1000 muestras"
   ]
  },
  {
   "cell_type": "code",
   "execution_count": 36,
   "metadata": {},
   "outputs": [],
   "source": [
    "# Función de bootstrapping\n",
    "def bootstrap_profit(predictions, target, count, revenue_per_unit, n_samples=1000):\n",
    "    profits = []\n",
    "    for _ in range(n_samples):\n",
    "        sample_indices = np.random.choice(predictions.index, size=500, replace=True)\n",
    "        sample_predictions = predictions[sample_indices]\n",
    "        sample_target = target.iloc[sample_indices]\n",
    "        profit = calculate_profit(sample_predictions, sample_target, count, revenue_per_unit)\n",
    "        profits.append(profit)\n",
    "    return np.array(profits)\n",
    "\n",
    "# Realizar bootstrapping para cada región\n",
    "profits_0 = bootstrap_profit(pd.Series(predictions_0), y_val_0, WELLS, REVENUE_PER_UNIT)\n",
    "profits_1 = bootstrap_profit(pd.Series(predictions_1), y_val_1, WELLS, REVENUE_PER_UNIT)\n",
    "profits_2 = bootstrap_profit(pd.Series(predictions_2), y_val_2, WELLS, REVENUE_PER_UNIT)"
   ]
  },
  {
   "cell_type": "markdown",
   "metadata": {},
   "source": [
    "<div class=\"alert alert-block alert-success\">\n",
    "<b>Comentario del revisor.</b> <a class=\"tocSkip\"></a>\n",
    "\n",
    "Aquí lo hemos hehco muy bien Pia, haz en su mayoría implementado las cosas que debíamos sin embargo aún nos faltan corregir algunos aspectos. De forma correcta estamos iterando 1000 veces y calculando las ganancias sobre la muestre como a la vez luego guardandola para calcular los percentiles inferiores y superios como así el riesgo de perdida en la siguiente función. Sin embargo, nos ha faltado un detalle y este refiere a que en cada iteración estamos tomando la totalidad de los datos cuando en realidad lo que debemos hacer es tomar una muestra de datos más chica, por ejemplo 500 observaciones de muestra en cada una de las 1000 iteraciones, actualmente estamos tomando size=len(predictions) que refiere a la totalidad de los datos.\n",
    "    \n",
    "    Excelente implementación de lo indicado!"
   ]
  },
  {
   "cell_type": "markdown",
   "metadata": {},
   "source": [
    "<b>Respuesta de estudiante.</b> <a class=\"tocSkip\"></a>\n",
    "</div>\n",
    "Corregido \n"
   ]
  },
  {
   "cell_type": "markdown",
   "metadata": {},
   "source": [
    "5.2 Encuentra el beneficio promedio, el intervalo de confianza del 95% y el riesgo de pérdidas"
   ]
  },
  {
   "cell_type": "code",
   "execution_count": 37,
   "metadata": {},
   "outputs": [
    {
     "name": "stdout",
     "output_type": "stream",
     "text": [
      "Región 0 - Beneficio promedio: 3946406.1996907415\n",
      "Región 0 - Intervalo de confianza 95%: (-1651365.0042005638, 9019799.156178547)\n",
      "Región 0 - Riesgo de pérdidas: 0.07\n",
      "Región 1 - Beneficio promedio: 4455171.620277412\n",
      "Región 1 - Intervalo de confianza 95%: (553121.0674803704, 8438567.114867631)\n",
      "Región 1 - Riesgo de pérdidas: 0.018\n",
      "Región 2 - Beneficio promedio: 3751628.648859401\n",
      "Región 2 - Intervalo de confianza 95%: (-1306189.956026968, 9061252.220845604)\n",
      "Región 2 - Riesgo de pérdidas: 0.075\n"
     ]
    }
   ],
   "source": [
    "# Análisis de resultados de bootstrapping\n",
    "def analyze_bootstrap_results(profits):\n",
    "    mean_profit = np.mean(profits)\n",
    "    lower_bound = np.percentile(profits, 2.5)\n",
    "    upper_bound = np.percentile(profits, 97.5)\n",
    "    risk_of_loss = (profits < 0).mean()\n",
    "    return mean_profit, lower_bound, upper_bound, risk_of_loss\n",
    "\n",
    "mean_profit_0, lower_bound_0, upper_bound_0, risk_of_loss_0 = analyze_bootstrap_results(profits_0)\n",
    "mean_profit_1, lower_bound_1, upper_bound_1, risk_of_loss_1 = analyze_bootstrap_results(profits_1)\n",
    "mean_profit_2, lower_bound_2, upper_bound_2, risk_of_loss_2 = analyze_bootstrap_results(profits_2)\n",
    "\n",
    "print(\"Región 0 - Beneficio promedio:\", mean_profit_0)\n",
    "print(\"Región 0 - Intervalo de confianza 95%:\", (lower_bound_0, upper_bound_0))\n",
    "print(\"Región 0 - Riesgo de pérdidas:\", risk_of_loss_0)\n",
    "\n",
    "print(\"Región 1 - Beneficio promedio:\", mean_profit_1)\n",
    "print(\"Región 1 - Intervalo de confianza 95%:\", (lower_bound_1, upper_bound_1))\n",
    "print(\"Región 1 - Riesgo de pérdidas:\", risk_of_loss_1)\n",
    "\n",
    "print(\"Región 2 - Beneficio promedio:\", mean_profit_2)\n",
    "print(\"Región 2 - Intervalo de confianza 95%:\", (lower_bound_2, upper_bound_2))\n",
    "print(\"Región 2 - Riesgo de pérdidas:\", risk_of_loss_2)"
   ]
  },
  {
   "cell_type": "markdown",
   "metadata": {},
   "source": [
    "<div class=\"alert alert-block alert-success\">\n",
    "<b>Comentario del revisor.</b> <a class=\"tocSkip\"></a>\n",
    "\n",
    "Aquí lo hemos hecho muy bien, hemos de forma correcta tomado los profist provenientes del bootstrapping como así hemos calculados los percentiles inferiores y superiores . Simplemente deberíamos ver unos pocos cambios una vez corrijamos lo indicado anteriormente."
   ]
  },
  {
   "cell_type": "markdown",
   "metadata": {},
   "source": [
    "<b>Respuesta de estudiante.</b> <a class=\"tocSkip\"></a>\n",
    "</div>\n",
    "Resultado con cambios dado a la corrección."
   ]
  },
  {
   "cell_type": "markdown",
   "metadata": {},
   "source": [
    "5.3 Presenta tus conclusiones y justifica tu elección\n",
    "Con base en el análisis de riesgos y ganancias, proponemos la mejor región para el desarrollo de pozos."
   ]
  },
  {
   "cell_type": "code",
   "execution_count": 35,
   "metadata": {},
   "outputs": [
    {
     "name": "stdout",
     "output_type": "stream",
     "text": [
      "Región 0:\n",
      " - Beneficio promedio: 4151901.6342285946\n",
      " - Intervalo de confianza 95%: (-629370.0528587013, 8979484.264153546)\n",
      " - Riesgo de pérdidas: 0.048\n",
      "Región 1:\n",
      " - Beneficio promedio: 4433141.68337245\n",
      " - Intervalo de confianza 95%: (681625.9227676835, 8301898.531479449)\n",
      " - Riesgo de pérdidas: 0.006\n",
      "Región 2:\n",
      " - Beneficio promedio: 3869204.9997042627\n",
      " - Intervalo de confianza 95%: (-1413797.7456515464, 9258306.61021519)\n",
      " - Riesgo de pérdidas: 0.074\n",
      "La mejor región para el desarrollo de pozos es la región 1 debido a su mayor ganancia potencial.\n"
     ]
    }
   ],
   "source": [
    "# Conclusiones finales\n",
    "def present_final_conclusions(mean_profit, lower_bound, upper_bound, risk_of_loss, region):\n",
    "    print(f\"Región {region}:\")\n",
    "    print(f\" - Beneficio promedio: {mean_profit}\")\n",
    "    print(f\" - Intervalo de confianza 95%: ({lower_bound}, {upper_bound})\")\n",
    "    print(f\" - Riesgo de pérdidas: {risk_of_loss}\")\n",
    "\n",
    "present_final_conclusions(mean_profit_0, lower_bound_0, upper_bound_0, risk_of_loss_0, 0)\n",
    "present_final_conclusions(mean_profit_1, lower_bound_1, upper_bound_1, risk_of_loss_1, 1)\n",
    "present_final_conclusions(mean_profit_2, lower_bound_2, upper_bound_2, risk_of_loss_2, 2)\n",
    "\n",
    "best_region = max([(0, mean_profit_0), (1, mean_profit_1), (2, mean_profit_2)], key=lambda x: x[1])[0]\n",
    "print(f\"La mejor región para el desarrollo de pozos es la región {best_region} debido a su mayor ganancia potencial.\")"
   ]
  },
  {
   "cell_type": "markdown",
   "metadata": {},
   "source": [
    "<b>Respuesta de estudiante.</b> <a class=\"tocSkip\"></a>\n",
    "</div>\n",
    "Resultado con cambios dado a la corrección."
   ]
  },
  {
   "cell_type": "markdown",
   "metadata": {},
   "source": [
    "1. ¿Cuáles son tus hallazgos sobre el estudio de tareas?\n",
    "Región 0:\n",
    "Tiene el volumen medio de reservas predicho más alto (92.3988) y una RMSE de 37.7566, lo que indica una buena precisión del modelo.\n",
    "Región 1:\n",
    "Tiene el volumen medio de reservas predicho más bajo (68.7129) y una RMSE extremadamente baja de 0.8903, lo que sugiere que el modelo puede estar sobreajustado o que los datos son muy consistentes.\n",
    "Región 2:\n",
    "Tiene un volumen medio de reservas predicho (94.7710) similar al de la Región 0, pero con una RMSE de 40.1459, lo que sugiere una mayor variabilidad en los datos de esta región.\n",
    "\n",
    "2. ¿Sugeriste la mejor región para el desarrollo de pozos? ¿Justificaste tu elección?\n",
    "\n",
    "Mejor región para el desarrollo de pozos: La Región 1.\n",
    "\n",
    "La Región 1 tiene el beneficio promedio más alto después del ajuste utilizando la técnica de bootstrapping correctamente.\n",
    "El análisis de bootstrapping mostró que la Región 1 tiene un beneficio promedio de 4,455,171.62 dólares y un intervalo de confianza del 95% que garantiza una mayor estabilidad en los beneficios.\n",
    "Además, la Región 1 tiene el riesgo de pérdidas más bajo (1.8%), lo que refuerza la elección debido a la menor incertidumbre asociada.\n",
    "\n",
    "Resumen de los resultados:\n",
    "\n",
    "Región 0:\n",
    "\n",
    "Beneficio promedio: 3,946,406.20 dólares\n",
    "Intervalo de confianza 95%: (-1,651,365.00, 9,019,799.16)\n",
    "Riesgo de pérdidas: 7%\n",
    "\n",
    "Región 1:\n",
    "\n",
    "Beneficio promedio: 4,455,171.62 dólares\n",
    "Intervalo de confianza 95%: (553,121.07, 8,438,567.11)\n",
    "Riesgo de pérdidas: 1.8%\n",
    "\n",
    "Región 2:\n",
    "\n",
    "Beneficio promedio: 3,751,628.65 dólares\n",
    "Intervalo de confianza 95%: (-1,306,189.96, 9,061,252.22)\n",
    "Riesgo de pérdidas: 7.5%\n",
    "\n",
    "* Conclusión:\n",
    "\n",
    "La Región 1 es la mejor opción para el desarrollo de pozos debido a su mayor ganancia potencial promedio y su menor riesgo de pérdidas. La justificación se basa en los siguientes puntos:\n",
    "\n",
    "Beneficio promedio más alto: 4,455,171.62 dólares.\n",
    "Intervalo de confianza del 95% que muestra estabilidad en los beneficios: (553,121.07, 8,438,567.11).\n",
    "Riesgo de pérdidas más bajo: 1.8%.\n",
    "Este cambio de conclusión se basa en un análisis más preciso y ajustado utilizando la técnica de bootstrapping correctamente, asegurando que se tomen muestras más representativas y estables."
   ]
  },
  {
   "cell_type": "markdown",
   "metadata": {},
   "source": [
    "<div class=\"alert alert-block alert-success\">\n",
    "<b>Comentario del revisor.</b> <a class=\"tocSkip\"></a>\n",
    "\n",
    "Quería dedicarme aquí a agradecerte Pia por que has hecho un trabajo de exelencia, sobre todo con tus puestas en comun y conclusiones, desde las implementaciones detalladas y los agregados a lo solicitado en el proyecto. Solo hemos tenidos uno detalle pero que podremos resolver sin lugar a duda."
   ]
  },
  {
   "cell_type": "code",
   "execution_count": null,
   "metadata": {},
   "outputs": [],
   "source": []
  },
  {
   "cell_type": "code",
   "execution_count": null,
   "metadata": {},
   "outputs": [],
   "source": []
  }
 ],
 "metadata": {
  "ExecuteTimeLog": [
   {
    "duration": 1508,
    "start_time": "2024-07-22T16:17:02.350Z"
   },
   {
    "duration": 529,
    "start_time": "2024-07-22T16:18:48.551Z"
   },
   {
    "duration": 165,
    "start_time": "2024-07-22T16:22:32.192Z"
   },
   {
    "duration": 61,
    "start_time": "2024-07-22T16:23:18.990Z"
   },
   {
    "duration": 781,
    "start_time": "2024-07-22T16:31:08.633Z"
   },
   {
    "duration": 55,
    "start_time": "2024-07-22T16:31:15.001Z"
   },
   {
    "duration": 113,
    "start_time": "2024-07-22T16:33:33.812Z"
   },
   {
    "duration": 76,
    "start_time": "2024-07-22T16:34:12.131Z"
   },
   {
    "duration": 40,
    "start_time": "2024-07-22T16:35:46.991Z"
   },
   {
    "duration": 15,
    "start_time": "2024-07-22T16:36:55.312Z"
   },
   {
    "duration": 6,
    "start_time": "2024-07-22T16:38:34.032Z"
   },
   {
    "duration": 7,
    "start_time": "2024-07-22T16:39:11.933Z"
   },
   {
    "duration": 9,
    "start_time": "2024-07-22T16:49:50.890Z"
   },
   {
    "duration": 9,
    "start_time": "2024-07-22T16:50:11.062Z"
   },
   {
    "duration": 18,
    "start_time": "2024-07-22T16:50:53.839Z"
   },
   {
    "duration": 5,
    "start_time": "2024-07-22T17:17:56.290Z"
   },
   {
    "duration": 7,
    "start_time": "2024-07-22T17:18:25.330Z"
   },
   {
    "duration": 17,
    "start_time": "2024-07-22T17:19:45.080Z"
   },
   {
    "duration": 161,
    "start_time": "2024-07-22T17:20:18.801Z"
   },
   {
    "duration": 31,
    "start_time": "2024-07-22T17:22:08.111Z"
   },
   {
    "duration": 18709,
    "start_time": "2024-07-22T17:22:54.331Z"
   },
   {
    "duration": 10,
    "start_time": "2024-07-22T17:24:18.878Z"
   },
   {
    "duration": 9,
    "start_time": "2024-07-22T17:24:25.619Z"
   },
   {
    "duration": 380,
    "start_time": "2024-07-22T17:40:03.190Z"
   },
   {
    "duration": 64,
    "start_time": "2024-07-22T17:40:03.851Z"
   },
   {
    "duration": 38,
    "start_time": "2024-07-22T17:40:04.930Z"
   },
   {
    "duration": 91,
    "start_time": "2024-07-22T17:40:06.232Z"
   },
   {
    "duration": 14,
    "start_time": "2024-07-22T17:40:07.530Z"
   },
   {
    "duration": 6,
    "start_time": "2024-07-22T17:40:09.150Z"
   },
   {
    "duration": 6,
    "start_time": "2024-07-22T17:40:11.231Z"
   },
   {
    "duration": 263,
    "start_time": "2024-07-22T17:40:14.670Z"
   },
   {
    "duration": 5,
    "start_time": "2024-07-22T17:40:25.592Z"
   },
   {
    "duration": 7,
    "start_time": "2024-07-22T17:40:26.892Z"
   },
   {
    "duration": 16,
    "start_time": "2024-07-22T17:40:29.260Z"
   },
   {
    "duration": 37,
    "start_time": "2024-07-22T17:40:30.271Z"
   },
   {
    "duration": 31,
    "start_time": "2024-07-22T17:40:31.921Z"
   },
   {
    "duration": 16759,
    "start_time": "2024-07-22T17:40:33.470Z"
   },
   {
    "duration": 13,
    "start_time": "2024-07-22T17:40:50.234Z"
   },
   {
    "duration": 11,
    "start_time": "2024-07-22T17:40:50.251Z"
   },
   {
    "duration": 319,
    "start_time": "2024-07-22T19:17:01.363Z"
   },
   {
    "duration": 310,
    "start_time": "2024-07-22T19:18:22.486Z"
   },
   {
    "duration": 217,
    "start_time": "2024-07-22T19:21:53.095Z"
   },
   {
    "duration": 528,
    "start_time": "2024-07-22T19:21:53.606Z"
   },
   {
    "duration": 76,
    "start_time": "2024-07-22T19:21:54.138Z"
   },
   {
    "duration": 798,
    "start_time": "2024-07-22T19:21:55.165Z"
   },
   {
    "duration": 62,
    "start_time": "2024-07-22T19:21:56.249Z"
   },
   {
    "duration": 16,
    "start_time": "2024-07-22T19:21:57.753Z"
   },
   {
    "duration": 6,
    "start_time": "2024-07-22T19:21:59.964Z"
   },
   {
    "duration": 6,
    "start_time": "2024-07-22T19:22:02.513Z"
   },
   {
    "duration": 414,
    "start_time": "2024-07-22T19:22:07.863Z"
   },
   {
    "duration": 5,
    "start_time": "2024-07-22T19:22:19.246Z"
   },
   {
    "duration": 7,
    "start_time": "2024-07-22T19:22:21.347Z"
   },
   {
    "duration": 16,
    "start_time": "2024-07-22T19:22:24.604Z"
   },
   {
    "duration": 12,
    "start_time": "2024-07-22T19:22:26.464Z"
   },
   {
    "duration": 6,
    "start_time": "2024-07-22T19:22:29.304Z"
   },
   {
    "duration": 18206,
    "start_time": "2024-07-22T19:22:32.234Z"
   },
   {
    "duration": 13,
    "start_time": "2024-07-22T19:22:50.444Z"
   },
   {
    "duration": 0,
    "start_time": "2024-07-22T19:22:50.492Z"
   },
   {
    "duration": 8,
    "start_time": "2024-07-22T19:35:31.703Z"
   },
   {
    "duration": 291,
    "start_time": "2024-07-22T19:40:25.205Z"
   },
   {
    "duration": 6,
    "start_time": "2024-07-22T20:10:38.403Z"
   },
   {
    "duration": 5,
    "start_time": "2024-07-22T20:10:41.423Z"
   },
   {
    "duration": 7,
    "start_time": "2024-07-22T20:10:44.405Z"
   },
   {
    "duration": 17,
    "start_time": "2024-07-22T20:10:47.470Z"
   },
   {
    "duration": 12,
    "start_time": "2024-07-22T20:10:48.524Z"
   },
   {
    "duration": 7,
    "start_time": "2024-07-22T20:10:49.423Z"
   },
   {
    "duration": 17813,
    "start_time": "2024-07-22T20:10:50.442Z"
   },
   {
    "duration": 11,
    "start_time": "2024-07-22T20:11:08.259Z"
   },
   {
    "duration": 19,
    "start_time": "2024-07-22T20:11:08.274Z"
   },
   {
    "duration": 10,
    "start_time": "2024-07-22T20:17:56.083Z"
   },
   {
    "duration": 5831,
    "start_time": "2024-07-22T20:18:59.605Z"
   },
   {
    "duration": 17338,
    "start_time": "2024-07-22T20:29:39.742Z"
   },
   {
    "duration": 17374,
    "start_time": "2024-07-22T20:42:30.983Z"
   },
   {
    "duration": 4,
    "start_time": "2024-07-22T20:49:15.743Z"
   },
   {
    "duration": 396,
    "start_time": "2024-07-22T20:49:16.305Z"
   },
   {
    "duration": 62,
    "start_time": "2024-07-22T20:49:16.904Z"
   },
   {
    "duration": 40,
    "start_time": "2024-07-22T20:49:17.804Z"
   },
   {
    "duration": 70,
    "start_time": "2024-07-22T20:49:18.623Z"
   },
   {
    "duration": 15,
    "start_time": "2024-07-22T20:49:19.303Z"
   },
   {
    "duration": 6,
    "start_time": "2024-07-22T20:49:20.084Z"
   },
   {
    "duration": 6,
    "start_time": "2024-07-22T20:49:20.662Z"
   },
   {
    "duration": 4,
    "start_time": "2024-07-22T20:49:21.425Z"
   },
   {
    "duration": 7,
    "start_time": "2024-07-22T20:49:21.952Z"
   },
   {
    "duration": 16,
    "start_time": "2024-07-22T20:49:23.103Z"
   },
   {
    "duration": 13,
    "start_time": "2024-07-22T20:49:23.783Z"
   },
   {
    "duration": 6,
    "start_time": "2024-07-22T20:49:24.653Z"
   },
   {
    "duration": 17859,
    "start_time": "2024-07-22T20:49:26.639Z"
   },
   {
    "duration": 11,
    "start_time": "2024-07-22T20:49:44.502Z"
   },
   {
    "duration": 9,
    "start_time": "2024-07-22T20:49:44.516Z"
   },
   {
    "duration": 6,
    "start_time": "2024-07-22T20:51:59.863Z"
   },
   {
    "duration": 327,
    "start_time": "2024-07-25T20:19:08.532Z"
   },
   {
    "duration": 1271,
    "start_time": "2024-07-25T20:19:22.451Z"
   },
   {
    "duration": 587,
    "start_time": "2024-07-25T20:19:23.734Z"
   },
   {
    "duration": 73,
    "start_time": "2024-07-25T20:19:24.325Z"
   },
   {
    "duration": 73,
    "start_time": "2024-07-25T20:19:24.402Z"
   },
   {
    "duration": 68,
    "start_time": "2024-07-25T20:19:24.479Z"
   },
   {
    "duration": 91,
    "start_time": "2024-07-25T20:19:24.550Z"
   },
   {
    "duration": 6,
    "start_time": "2024-07-25T20:19:24.644Z"
   },
   {
    "duration": 81,
    "start_time": "2024-07-25T20:19:24.653Z"
   },
   {
    "duration": 5,
    "start_time": "2024-07-25T20:19:24.738Z"
   },
   {
    "duration": 9,
    "start_time": "2024-07-25T20:19:24.746Z"
   },
   {
    "duration": 17,
    "start_time": "2024-07-25T20:19:24.759Z"
   },
   {
    "duration": 61,
    "start_time": "2024-07-25T20:19:24.779Z"
   },
   {
    "duration": 7,
    "start_time": "2024-07-25T20:19:24.844Z"
   },
   {
    "duration": 3513,
    "start_time": "2024-07-25T20:19:24.859Z"
   },
   {
    "duration": 13,
    "start_time": "2024-07-25T20:19:28.374Z"
   },
   {
    "duration": 8,
    "start_time": "2024-07-25T20:19:28.391Z"
   },
   {
    "duration": 3273,
    "start_time": "2024-07-25T20:19:33.135Z"
   },
   {
    "duration": 3237,
    "start_time": "2024-07-25T20:19:43.811Z"
   },
   {
    "duration": 3695,
    "start_time": "2024-07-25T20:21:53.713Z"
   },
   {
    "duration": 3,
    "start_time": "2024-07-25T20:22:48.576Z"
   },
   {
    "duration": 382,
    "start_time": "2024-07-25T20:22:49.107Z"
   },
   {
    "duration": 64,
    "start_time": "2024-07-25T20:22:49.593Z"
   },
   {
    "duration": 47,
    "start_time": "2024-07-25T20:22:51.462Z"
   },
   {
    "duration": 36,
    "start_time": "2024-07-25T20:22:53.491Z"
   },
   {
    "duration": 15,
    "start_time": "2024-07-25T20:22:55.721Z"
   },
   {
    "duration": 6,
    "start_time": "2024-07-25T20:22:57.051Z"
   },
   {
    "duration": 5,
    "start_time": "2024-07-25T20:22:58.311Z"
   },
   {
    "duration": 5,
    "start_time": "2024-07-25T20:23:00.531Z"
   },
   {
    "duration": 6,
    "start_time": "2024-07-25T20:23:01.991Z"
   },
   {
    "duration": 16,
    "start_time": "2024-07-25T20:23:05.732Z"
   },
   {
    "duration": 13,
    "start_time": "2024-07-25T20:23:07.791Z"
   },
   {
    "duration": 7,
    "start_time": "2024-07-25T20:23:10.879Z"
   },
   {
    "duration": 3412,
    "start_time": "2024-07-25T20:23:15.439Z"
   },
   {
    "duration": 11,
    "start_time": "2024-07-25T20:23:19.993Z"
   },
   {
    "duration": 8,
    "start_time": "2024-07-25T20:23:46.611Z"
   },
   {
    "duration": 3488,
    "start_time": "2024-07-25T20:24:42.098Z"
   },
   {
    "duration": 12,
    "start_time": "2024-07-25T20:24:49.259Z"
   },
   {
    "duration": 13,
    "start_time": "2024-07-25T20:32:39.052Z"
   },
   {
    "duration": 7,
    "start_time": "2024-07-25T20:32:45.919Z"
   }
  ],
  "kernelspec": {
   "display_name": "Python 3 (ipykernel)",
   "language": "python",
   "name": "python3"
  },
  "language_info": {
   "codemirror_mode": {
    "name": "ipython",
    "version": 3
   },
   "file_extension": ".py",
   "mimetype": "text/x-python",
   "name": "python",
   "nbconvert_exporter": "python",
   "pygments_lexer": "ipython3",
   "version": "3.9.19"
  },
  "toc": {
   "base_numbering": 1,
   "nav_menu": {},
   "number_sections": true,
   "sideBar": true,
   "skip_h1_title": true,
   "title_cell": "Table of Contents",
   "title_sidebar": "Contents",
   "toc_cell": false,
   "toc_position": {},
   "toc_section_display": true,
   "toc_window_display": false
  }
 },
 "nbformat": 4,
 "nbformat_minor": 2
}
