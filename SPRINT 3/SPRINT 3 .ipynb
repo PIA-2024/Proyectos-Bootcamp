{
 "cells": [
  {
   "cell_type": "markdown",
   "id": "bfa30c21",
   "metadata": {},
   "source": [
    "¡Hola!\n",
    "\n",
    "Mi nombre es Tonatiuh Cruz. Me complace revisar tu proyecto hoy.\n",
    "\n",
    "Al identificar cualquier error inicialmente, simplemente los destacaré. Te animo a localizar y abordar los problemas de forma independiente como parte de tu preparación para un rol como data-scientist. En un entorno profesional, tu líder de equipo seguiría un enfoque similar. Si encuentras la tarea desafiante, proporcionaré una pista más específica en la próxima iteración.\n",
    "\n",
    "Encontrarás mis comentarios a continuación - **por favor no los muevas, modifiques o elimines**.\n",
    "\n",
    "Puedes encontrar mis comentarios en cajas verdes, amarillas o rojas como esta:\n",
    "\n",
    "<div class=\"alert alert-block alert-success\">\n",
    "<b>Comentario del revisor</b> <a class=\"tocSkip\"></a>\n",
    "\n",
    "Éxito. Todo está hecho correctamente.\n",
    "</div>\n",
    "\n",
    "<div class=\"alert alert-block alert-warning\">\n",
    "<b>Comentario del revisor</b> <a class=\"tocSkip\"></a>\n",
    "\n",
    "Observaciones. Algunas recomendaciones.\n",
    "</div>\n",
    "\n",
    "<div class=\"alert alert-block alert-danger\">\n",
    "<b>Comentario del revisor</b> <a class=\"tocSkip\"></a>\n",
    "\n",
    "Necesita corrección. El bloque requiere algunas correcciones. El trabajo no puede ser aceptado con comentarios en rojo.\n",
    "</div>\n",
    "\n",
    "Puedes responderme utilizando esto:\n",
    "\n",
    "<div class=\"alert alert-block alert-info\">\n",
    "<b>Respuesta del estudiante.</b> <a class=\"tocSkip\"></a>\n",
    "</div>"
   ]
  },
  {
   "cell_type": "markdown",
   "id": "3Xg_RQfnafXz",
   "metadata": {
    "id": "3Xg_RQfnafXz"
   },
   "source": [
    "# ¡Llena ese carrito!"
   ]
  },
  {
   "cell_type": "markdown",
   "id": "mhIvmmkW414q",
   "metadata": {
    "id": "mhIvmmkW414q"
   },
   "source": [
    "# Introducción\n",
    "\n",
    "Instacart es una plataforma de entregas de comestibles donde la clientela puede registrar un pedido y hacer que se lo entreguen, similar a Uber Eats y Door Dash.\n",
    "El conjunto de datos que te hemos proporcionado tiene modificaciones del original. Redujimos el tamaño del conjunto para que tus cálculos se hicieran más rápido e introdujimos valores ausentes y duplicados. Tuvimos cuidado de conservar las distribuciones de los datos originales cuando hicimos los cambios.\n",
    "\n",
    "Debes completar tres pasos. Para cada uno de ellos, escribe una breve introducción que refleje con claridad cómo pretendes resolver cada paso, y escribe párrafos explicatorios que justifiquen tus decisiones al tiempo que avanzas en tu solución.  También escribe una conclusión que resuma tus hallazgos y elecciones.\n"
   ]
  },
  {
   "cell_type": "markdown",
   "id": "3MbyzpOQZ5Or",
   "metadata": {
    "id": "3MbyzpOQZ5Or"
   },
   "source": [
    "## Diccionario de datos\n",
    "\n",
    "Hay cinco tablas en el conjunto de datos, y tendrás que usarlas todas para hacer el preprocesamiento de datos y el análisis exploratorio de datos. A continuación se muestra un diccionario de datos que enumera las columnas de cada tabla y describe los datos que contienen.\n",
    "\n",
    "- `instacart_orders.csv`: cada fila corresponde a un pedido en la aplicación Instacart.\n",
    "    - `'order_id'`: número de ID que identifica de manera única cada pedido.\n",
    "    - `'user_id'`: número de ID que identifica de manera única la cuenta de cada cliente.\n",
    "    - `'order_number'`: el número de veces que este cliente ha hecho un pedido.\n",
    "    - `'order_dow'`: día de la semana en que se hizo el pedido (0 si es domingo).\n",
    "    - `'order_hour_of_day'`: hora del día en que se hizo el pedido.\n",
    "    - `'days_since_prior_order'`: número de días transcurridos desde que este cliente hizo su pedido anterior.\n",
    "- `products.csv`: cada fila corresponde a un producto único que pueden comprar los clientes.\n",
    "    - `'product_id'`: número ID que identifica de manera única cada producto.\n",
    "    - `'product_name'`: nombre del producto.\n",
    "    - `'aisle_id'`: número ID que identifica de manera única cada categoría de pasillo de víveres.\n",
    "    - `'department_id'`: número ID que identifica de manera única cada departamento de víveres.\n",
    "- `order_products.csv`: cada fila corresponde a un artículo pedido en un pedido.\n",
    "    - `'order_id'`: número de ID que identifica de manera única cada pedido.\n",
    "    - `'product_id'`: número ID que identifica de manera única cada producto.\n",
    "    - `'add_to_cart_order'`: el orden secuencial en el que se añadió cada artículo en el carrito.\n",
    "    - `'reordered'`: 0 si el cliente nunca ha pedido este producto antes, 1 si lo ha pedido.\n",
    "- `aisles.csv`\n",
    "    - `'aisle_id'`: número ID que identifica de manera única cada categoría de pasillo de víveres.\n",
    "    - `'aisle'`: nombre del pasillo.\n",
    "- `departments.csv`\n",
    "    - `'department_id'`: número ID que identifica de manera única cada departamento de víveres.\n",
    "    - `'department'`: nombre del departamento."
   ]
  },
  {
   "cell_type": "markdown",
   "id": "n3Ha_cNSZ8lK",
   "metadata": {
    "id": "n3Ha_cNSZ8lK"
   },
   "source": [
    "# Paso 1. Descripción de los datos\n",
    "\n",
    "Lee los archivos de datos (`/datasets/instacart_orders.csv`, `/datasets/products.csv`, `/datasets/aisles.csv`, `/datasets/departments.csv` y `/datasets/order_products.csv`) con `pd.read_csv()` usando los parámetros adecuados para leer los datos correctamente. Verifica la información para cada DataFrame creado.\n"
   ]
  },
  {
   "cell_type": "markdown",
   "id": "OmlQPLlyaAfR",
   "metadata": {
    "id": "OmlQPLlyaAfR"
   },
   "source": [
    "## Plan de solución\n",
    "\n",
    "Escribe aquí tu plan de solución para el Paso 1. Descripción de los datos."
   ]
  },
  {
   "cell_type": "code",
   "execution_count": 1,
   "id": "fbf1adab",
   "metadata": {
    "id": "fbf1adab"
   },
   "outputs": [],
   "source": [
    "import pandas as pd # importar librerías"
   ]
  },
  {
   "cell_type": "markdown",
   "id": "92ffa661",
   "metadata": {},
   "source": [
    "<div class=\"alert alert-block alert-warning\">\n",
    "<b>Comentario revisor</b> <a class=\"tocSkip\"></a>\n",
    "\n",
    "\n",
    "Recomiendo importar y cargar la librería de matplolib.pyplot para el desarrollo de las diferentes gráficas que te van a ayudar al análisis de los datos. \n",
    "</div>"
   ]
  },
  {
   "cell_type": "code",
   "execution_count": 2,
   "id": "ad36396d",
   "metadata": {
    "id": "ad36396d"
   },
   "outputs": [],
   "source": [
    "instacart_orders_df = pd.read_csv('/datasets/instacart_orders.csv', sep = ';') # cargamos y leemos  el conjunto de datos en los DataFrames.\n",
    "products_df = pd.read_csv('/datasets/products.csv', sep = ';')                 # se carga cada archivo con una variable para cada uno.\n",
    "aisles_df = pd.read_csv('/datasets/aisles.csv', sep = ';')\n",
    "departments_df = pd.read_csv('/datasets/departments.csv', sep = ';')\n",
    "order_products_df = pd.read_csv('/datasets/order_products.csv', sep = ';')"
   ]
  },
  {
   "cell_type": "code",
   "execution_count": 3,
   "id": "ad6a1efa",
   "metadata": {
    "id": "ad6a1efa"
   },
   "outputs": [
    {
     "name": "stdout",
     "output_type": "stream",
     "text": [
      "Instacart Orders DataFrame:\n",
      "   order_id  user_id  order_number  order_dow  order_hour_of_day  \\\n",
      "0   1515936   183418            11          6                 13   \n",
      "1   1690866   163593             5          5                 12   \n",
      "2   1454967    39980             4          5                 19   \n",
      "3   1768857    82516            56          0                 20   \n",
      "4   3007858   196724             2          4                 12   \n",
      "5   1843871    20084             5          0                 11   \n",
      "6   2511640   148233            40          3                  8   \n",
      "7   2521283    97711             2          0                 18   \n",
      "8   2266494    34954            40          5                 15   \n",
      "9    446014    15356             2          4                  8   \n",
      "\n",
      "   days_since_prior_order  \n",
      "0                    30.0  \n",
      "1                     9.0  \n",
      "2                     2.0  \n",
      "3                    10.0  \n",
      "4                    17.0  \n",
      "5                    15.0  \n",
      "6                     2.0  \n",
      "7                    22.0  \n",
      "8                     4.0  \n",
      "9                    10.0  \n",
      "<class 'pandas.core.frame.DataFrame'>\n",
      "RangeIndex: 478967 entries, 0 to 478966\n",
      "Data columns (total 6 columns):\n",
      " #   Column                  Non-Null Count   Dtype  \n",
      "---  ------                  --------------   -----  \n",
      " 0   order_id                478967 non-null  int64  \n",
      " 1   user_id                 478967 non-null  int64  \n",
      " 2   order_number            478967 non-null  int64  \n",
      " 3   order_dow               478967 non-null  int64  \n",
      " 4   order_hour_of_day       478967 non-null  int64  \n",
      " 5   days_since_prior_order  450148 non-null  float64\n",
      "dtypes: float64(1), int64(5)\n",
      "memory usage: 21.9 MB\n",
      "None\n"
     ]
    }
   ],
   "source": [
    "# aqui vamos a Explorar la información de cada DataFrame con los metodos mas explicitos.\n",
    "# Aca se entregaran las primeras filas, la información de las columnas, estadisticas descriptivas y el tamaño del DataFrame \n",
    "print(\"Instacart Orders DataFrame:\")      # mostrar información del DataFrame         \n",
    "print(instacart_orders_df.head(10))\n",
    "print(instacart_orders_df.info())\n"
   ]
  },
  {
   "cell_type": "code",
   "execution_count": 4,
   "id": "5130e05e",
   "metadata": {
    "id": "5130e05e"
   },
   "outputs": [
    {
     "name": "stdout",
     "output_type": "stream",
     "text": [
      "\n",
      "Products DataFrame:\n",
      "   product_id                                       product_name  aisle_id  \\\n",
      "0           1                         Chocolate Sandwich Cookies        61   \n",
      "1           2                                   All-Seasons Salt       104   \n",
      "2           3               Robust Golden Unsweetened Oolong Tea        94   \n",
      "3           4  Smart Ones Classic Favorites Mini Rigatoni Wit...        38   \n",
      "4           5                          Green Chile Anytime Sauce         5   \n",
      "5           6                                       Dry Nose Oil        11   \n",
      "6           7                     Pure Coconut Water With Orange        98   \n",
      "7           8                  Cut Russet Potatoes Steam N' Mash       116   \n",
      "8           9                  Light Strawberry Blueberry Yogurt       120   \n",
      "9          10     Sparkling Orange Juice & Prickly Pear Beverage       115   \n",
      "\n",
      "   department_id  \n",
      "0             19  \n",
      "1             13  \n",
      "2              7  \n",
      "3              1  \n",
      "4             13  \n",
      "5             11  \n",
      "6              7  \n",
      "7              1  \n",
      "8             16  \n",
      "9              7  \n",
      "<class 'pandas.core.frame.DataFrame'>\n",
      "RangeIndex: 49694 entries, 0 to 49693\n",
      "Data columns (total 4 columns):\n",
      " #   Column         Non-Null Count  Dtype \n",
      "---  ------         --------------  ----- \n",
      " 0   product_id     49694 non-null  int64 \n",
      " 1   product_name   48436 non-null  object\n",
      " 2   aisle_id       49694 non-null  int64 \n",
      " 3   department_id  49694 non-null  int64 \n",
      "dtypes: int64(3), object(1)\n",
      "memory usage: 1.5+ MB\n",
      "None\n"
     ]
    }
   ],
   "source": [
    "print(\"\\nProducts DataFrame:\")         # mostrar información del DataFrame\n",
    "print(products_df.head(10))\n",
    "print(products_df.info())\n"
   ]
  },
  {
   "cell_type": "code",
   "execution_count": 5,
   "id": "d8370c05",
   "metadata": {
    "id": "d8370c05"
   },
   "outputs": [
    {
     "name": "stdout",
     "output_type": "stream",
     "text": [
      "\n",
      "Aisles DataFrame:\n",
      "   aisle_id                       aisle\n",
      "0         1       prepared soups salads\n",
      "1         2           specialty cheeses\n",
      "2         3         energy granola bars\n",
      "3         4               instant foods\n",
      "4         5  marinades meat preparation\n",
      "5         6                       other\n",
      "6         7               packaged meat\n",
      "7         8             bakery desserts\n",
      "8         9                 pasta sauce\n",
      "9        10            kitchen supplies\n",
      "<class 'pandas.core.frame.DataFrame'>\n",
      "RangeIndex: 134 entries, 0 to 133\n",
      "Data columns (total 2 columns):\n",
      " #   Column    Non-Null Count  Dtype \n",
      "---  ------    --------------  ----- \n",
      " 0   aisle_id  134 non-null    int64 \n",
      " 1   aisle     134 non-null    object\n",
      "dtypes: int64(1), object(1)\n",
      "memory usage: 2.2+ KB\n",
      "None\n"
     ]
    }
   ],
   "source": [
    "print(\"\\nAisles DataFrame:\")           # mostrar información del DataFrame\n",
    "print(aisles_df.head(10))\n",
    "print(aisles_df.info())\n"
   ]
  },
  {
   "cell_type": "code",
   "execution_count": 6,
   "id": "59e2090f",
   "metadata": {
    "id": "59e2090f"
   },
   "outputs": [
    {
     "name": "stdout",
     "output_type": "stream",
     "text": [
      "\n",
      "Departments DataFrame:\n",
      "   department_id       department\n",
      "0              1           frozen\n",
      "1              2            other\n",
      "2              3           bakery\n",
      "3              4          produce\n",
      "4              5          alcohol\n",
      "5              6    international\n",
      "6              7        beverages\n",
      "7              8             pets\n",
      "8              9  dry goods pasta\n",
      "9             10             bulk\n",
      "<class 'pandas.core.frame.DataFrame'>\n",
      "RangeIndex: 21 entries, 0 to 20\n",
      "Data columns (total 2 columns):\n",
      " #   Column         Non-Null Count  Dtype \n",
      "---  ------         --------------  ----- \n",
      " 0   department_id  21 non-null     int64 \n",
      " 1   department     21 non-null     object\n",
      "dtypes: int64(1), object(1)\n",
      "memory usage: 464.0+ bytes\n",
      "None\n"
     ]
    }
   ],
   "source": [
    "print(\"\\nDepartments DataFrame:\")      # mostrar información del DataFrame\n",
    "print(departments_df.head(10))\n",
    "print(departments_df.info())\n"
   ]
  },
  {
   "cell_type": "code",
   "execution_count": 7,
   "id": "6fc81694",
   "metadata": {
    "id": "6fc81694",
    "scrolled": false
   },
   "outputs": [
    {
     "name": "stdout",
     "output_type": "stream",
     "text": [
      "\n",
      "Order Products DataFrame:\n",
      "   order_id  product_id  add_to_cart_order  reordered\n",
      "0   2141543       11440               17.0          0\n",
      "1    567889        1560                1.0          1\n",
      "2   2261212       26683                1.0          1\n",
      "3    491251        8670               35.0          1\n",
      "4   2571142        1940                5.0          1\n",
      "5   2456893       21616                4.0          1\n",
      "6    644579       12341                5.0          1\n",
      "7   2231852       44925               10.0          1\n",
      "8   3185766       36259               14.0          1\n",
      "9    420019       23315                4.0          1\n",
      "<class 'pandas.core.frame.DataFrame'>\n",
      "RangeIndex: 4545007 entries, 0 to 4545006\n",
      "Data columns (total 4 columns):\n",
      " #   Column             Dtype  \n",
      "---  ------             -----  \n",
      " 0   order_id           int64  \n",
      " 1   product_id         int64  \n",
      " 2   add_to_cart_order  float64\n",
      " 3   reordered          int64  \n",
      "dtypes: float64(1), int64(3)\n",
      "memory usage: 138.7 MB\n",
      "None\n"
     ]
    }
   ],
   "source": [
    "print(\"\\nOrder Products DataFrame:\")    # mostrar información del DataFrame\n",
    "print(order_products_df.head(10))\n",
    "print(order_products_df.info())\n",
    "\n"
   ]
  },
  {
   "cell_type": "markdown",
   "id": "t75BD19oaR5f",
   "metadata": {
    "id": "t75BD19oaR5f"
   },
   "source": [
    "## Conclusiones\n",
    "\n",
    "Escribe aquí tus conclusiones intermedias sobre el Paso 1. Descripción de los datos.\n"
   ]
  },
  {
   "cell_type": "markdown",
   "id": "01e534fa",
   "metadata": {},
   "source": [
    "Lo que se puede observar a primera vista es que existe un error en como vienen los archivos CSV , debido a que cuando se llaman para ver la información, los datos estan separados por un (;) y no por (,) lo cual hace que se muestren los datos en una sola columna. Esto significa que todas las columnas del DataFrame se muestran en una sola columna, ademas todos los datos entregados los muestra de tipo object."
   ]
  },
  {
   "cell_type": "markdown",
   "id": "47ec3bab",
   "metadata": {},
   "source": [
    "Con esto identificado, se tuvo que corregir los errores que se veian en los archivos , partiendo con poner un separador sep= ';' Con esto se pudieron separar las columnas de los diferentes DataFrame, para entregar la información ordenada y mas visible.\n",
    "Se identifico que hay valores ausentes en la columna 'days_since_prior_order' del dataframe Instacart Orders,valores ausentes en la columna product_name'del dataframe Products.\n",
    "Se observo que en el dataframe de order product el metodo info() no muestra en su tabla los valos non-null, al irnos al archivo excel original podemos identificar que existen valores vacios en la columna add_to_cart_order, por lo cual hay alguna irregularidad que hay que evaluar.\n"
   ]
  },
  {
   "cell_type": "markdown",
   "id": "8RJHqxVmaVsF",
   "metadata": {
    "id": "8RJHqxVmaVsF"
   },
   "source": [
    "# Paso 2. Preprocesamiento de los datos\n",
    "\n",
    "Preprocesa los datos de la siguiente manera:\n",
    "\n",
    "- Verifica y corrige los tipos de datos (por ejemplo, asegúrate de que las columnas de ID sean números enteros).\n",
    "- Identifica y completa los valores ausentes.\n",
    "- Identifica y elimina los valores duplicados.\n",
    "\n",
    "Asegúrate de explicar qué tipos de valores ausentes y duplicados encontraste, cómo los completaste o eliminaste y por qué usaste esos métodos. ¿Por qué crees que estos valores ausentes y duplicados pueden haber estado presentes en el conjunto de datos?"
   ]
  },
  {
   "cell_type": "markdown",
   "id": "p6poABZQaZYb",
   "metadata": {
    "id": "p6poABZQaZYb"
   },
   "source": [
    "## Plan de solución\n",
    "\n",
    "Escribe aquí tu plan para el Paso 2. Preprocesamiento de los datos."
   ]
  },
  {
   "cell_type": "markdown",
   "id": "f33517b0",
   "metadata": {},
   "source": [
    "Teniendo la información clara de los DataFrame , con las correcciones necesarias para poder trabajar con ellos , se procedera a verificar y corregir errores que puedan haber en los datos , ver y rellenar valores ausentes si correpsonde junto con eliminar valores duplicados con el fin de poder dejar los datos limpios."
   ]
  },
  {
   "cell_type": "code",
   "execution_count": 8,
   "id": "0971ca7b",
   "metadata": {},
   "outputs": [
    {
     "name": "stdout",
     "output_type": "stream",
     "text": [
      "Instacart\n",
      "order_id                      0\n",
      "user_id                       0\n",
      "order_number                  0\n",
      "order_dow                     0\n",
      "order_hour_of_day             0\n",
      "days_since_prior_order    28819\n",
      "dtype: int64\n",
      "Products\n",
      "product_id          0\n",
      "product_name     1258\n",
      "aisle_id            0\n",
      "department_id       0\n",
      "dtype: int64\n",
      "Aisles\n",
      "aisle_id    0\n",
      "aisle       0\n",
      "dtype: int64\n",
      "Departments\n",
      "department_id    0\n",
      "department       0\n",
      "dtype: int64\n",
      "Order Products\n",
      "order_id               0\n",
      "product_id             0\n",
      "add_to_cart_order    836\n",
      "reordered              0\n",
      "dtype: int64\n"
     ]
    }
   ],
   "source": [
    "# 1. Verificación y corrección de tipos de datos\n",
    "# Convertir las columnas de ID a números enteros si es necesario\n",
    "instacart_orders_df['order_id'] = instacart_orders_df['order_id'].astype(int)\n",
    "instacart_orders_df['user_id'] = instacart_orders_df['user_id'].astype(int)\n",
    "products_df['product_id'] = products_df['product_id'].astype(int)\n",
    "products_df['aisle_id'] = products_df['aisle_id'].astype(int)\n",
    "aisles_df['aisle_id'] = aisles_df['aisle_id'].astype(int)\n",
    "departments_df['department_id'] = departments_df['department_id'].astype(int)\n",
    "order_products_df['order_id'] = order_products_df['order_id'].astype(int)\n",
    "order_products_df['product_id'] = order_products_df['product_id'].astype(int) \n",
    "\n",
    "# 2. Identificación y completado de valores ausentes\n",
    "# Hay valores ausentes en 3 DataFrame Instacart, Product y Order Product.\n",
    "print('Instacart')\n",
    "print(instacart_orders_df.isna().sum())\n",
    "print('Products')\n",
    "print(products_df.isna().sum())\n",
    "print('Aisles')\n",
    "print(aisles_df.isna().sum())\n",
    "print('Departments')\n",
    "print(departments_df.isna().sum())\n",
    "print('Order Products')\n",
    "print(order_products_df.isna().sum())\n"
   ]
  },
  {
   "cell_type": "code",
   "execution_count": null,
   "id": "2279ffde",
   "metadata": {},
   "outputs": [],
   "source": []
  },
  {
   "cell_type": "markdown",
   "id": "07357848-dc64-4156-9cc3-01ff4365226d",
   "metadata": {
    "id": "07357848-dc64-4156-9cc3-01ff4365226d"
   },
   "source": [
    "## Encuentra y elimina los valores duplicados (y describe cómo tomaste tus decisiones)."
   ]
  },
  {
   "cell_type": "markdown",
   "id": "f179f0a9",
   "metadata": {
    "id": "f179f0a9"
   },
   "source": [
    "### `orders` data frame"
   ]
  },
  {
   "cell_type": "code",
   "execution_count": 9,
   "id": "b99297a5-405a-463d-8535-9adc3da4ad74",
   "metadata": {
    "id": "b99297a5-405a-463d-8535-9adc3da4ad74"
   },
   "outputs": [
    {
     "name": "stdout",
     "output_type": "stream",
     "text": [
      "Pedidos duplicados:\n",
      "False    478952\n",
      "True         15\n",
      "dtype: int64\n",
      "\n",
      "Pedidos duplicados:\n",
      "        order_id  user_id  order_number  order_dow  order_hour_of_day  \\\n",
      "145574    794638    50898            24          3                  2   \n",
      "223105   2160484   107525            16          3                  2   \n",
      "230807   1918001   188546            14          3                  2   \n",
      "266232   1782114   106752             1          3                  2   \n",
      "273805   1112182   202304            84          3                  2   \n",
      "284038   2845099    31189            11          3                  2   \n",
      "311713   1021560    53767             3          3                  2   \n",
      "321100    408114    68324             4          3                  2   \n",
      "323900   1919531   191501            32          3                  2   \n",
      "345917   2232988    82565             1          3                  2   \n",
      "371905    391768    57671            19          3                  2   \n",
      "394347    467134    63189            21          3                  2   \n",
      "411408   1286742   183220            48          3                  2   \n",
      "415163   2282673    86751            49          3                  2   \n",
      "441599   2125197    14050            48          3                  2   \n",
      "\n",
      "        days_since_prior_order  \n",
      "145574                     2.0  \n",
      "223105                    30.0  \n",
      "230807                    16.0  \n",
      "266232                     NaN  \n",
      "273805                     6.0  \n",
      "284038                     7.0  \n",
      "311713                     9.0  \n",
      "321100                    18.0  \n",
      "323900                     7.0  \n",
      "345917                     NaN  \n",
      "371905                    10.0  \n",
      "394347                     2.0  \n",
      "411408                     4.0  \n",
      "415163                     2.0  \n",
      "441599                     3.0  \n"
     ]
    }
   ],
   "source": [
    "# Revisa si hay pedidos duplicados\n",
    "print(\"Pedidos duplicados:\")\n",
    "print(instacart_orders_df.duplicated().value_counts())\n",
    "print()\n",
    "print(\"Pedidos duplicados:\")\n",
    "duplicated_instacart_orders= instacart_orders_df[instacart_orders_df.duplicated()]\n",
    "print(duplicated_instacart_orders)\n"
   ]
  },
  {
   "cell_type": "markdown",
   "id": "PEkwUX_gvt5A",
   "metadata": {
    "id": "PEkwUX_gvt5A"
   },
   "source": [
    "¿Tienes líneas duplicadas? Si sí, ¿qué tienen en común?"
   ]
  },
  {
   "cell_type": "code",
   "execution_count": 10,
   "id": "0d44de5d",
   "metadata": {
    "id": "0d44de5d"
   },
   "outputs": [
    {
     "name": "stdout",
     "output_type": "stream",
     "text": [
      "Pedidos realizados el miércoles a las 2:00 a.m.:\n",
      "121\n"
     ]
    }
   ],
   "source": [
    "# Basándote en tus hallazgos\n",
    "#  Si hay valores duplicados , se muestran 15 pedidos duplicados en el DataFrame de Instacart\n",
    "# Los pedidos duplicados tienen en comun que fueron duplicados el dia 3 (order_dow) y a las 2 (order_hour_of_day)\n",
    "\n",
    "# Verifica todos los pedidos que se hicieron el miércoles a las 2:00 a.m.\n",
    "wednesday_orders = instacart_orders_df[(instacart_orders_df['order_dow'] == 3) & (instacart_orders_df['order_hour_of_day'] == 2)]\n",
    "print(\"Pedidos realizados el miércoles a las 2:00 a.m.:\")\n",
    "print(wednesday_orders['order_id'].count())"
   ]
  },
  {
   "cell_type": "markdown",
   "id": "vu2OWyoqwOx5",
   "metadata": {
    "id": "vu2OWyoqwOx5"
   },
   "source": [
    "¿Qué sugiere este resultado?"
   ]
  },
  {
   "cell_type": "markdown",
   "id": "317903af",
   "metadata": {},
   "source": [
    "El resultado de 121 pedidos realizados el miércoles a las 2:00 a.m. sugiere que hubo duplicados en los registros de pedidos para ese día y hora específicos. Esto se puede interpretar como una anomalía en el registro de datos, ya que es poco probable que haya tantos pedidos exactamente a la misma hora en la vida real.\n",
    "Que el dia miercoles a las 2 hubo un error y se duplicaron 15 pedidos, y que de los 121 pedidos que se hicieron ese dia a esa hora en realidad son solo 106 pedidos descontando los 15 duplicados.\n",
    "\n",
    "Este resultado sugiere que los 15 pedidos duplicados identificados son un error en los datos y no representan transacciones únicas. Considerando esta información podriamos decir que de los 121 pedidos 15 son duplicados por lo que corresponden unicamente 106 pedidos a ese dia y a esa hora especifica.\n",
    "\n",
    "Para abordar este problema, sería recomienda eliminar los pedidos duplicados del conjunto de datos."
   ]
  },
  {
   "cell_type": "code",
   "execution_count": 11,
   "id": "480563c7",
   "metadata": {
    "id": "480563c7"
   },
   "outputs": [],
   "source": [
    "# Elimina los pedidos duplicados\n",
    "instacart_orders_df.drop_duplicates(inplace=True)"
   ]
  },
  {
   "cell_type": "code",
   "execution_count": 12,
   "id": "0b2396a2",
   "metadata": {
    "id": "0b2396a2"
   },
   "outputs": [
    {
     "name": "stdout",
     "output_type": "stream",
     "text": [
      "Filas duplicadas después de eliminarlas:\n",
      "0\n"
     ]
    }
   ],
   "source": [
    "# Vuelve a verificar si hay filas duplicadas\n",
    "print(\"Filas duplicadas después de eliminarlas:\")\n",
    "print(instacart_orders_df.duplicated().sum())"
   ]
  },
  {
   "cell_type": "code",
   "execution_count": 13,
   "id": "f6113ef1",
   "metadata": {
    "id": "f6113ef1"
   },
   "outputs": [
    {
     "name": "stdout",
     "output_type": "stream",
     "text": [
      "IDs duplicados de pedidos:\n",
      "0\n"
     ]
    }
   ],
   "source": [
    "# Vuelve a verificar únicamente si hay IDs duplicados de pedidos\n",
    "print(\"IDs duplicados de pedidos:\")\n",
    "print(instacart_orders_df['order_id'].duplicated().sum())"
   ]
  },
  {
   "cell_type": "markdown",
   "id": "5e8905ae",
   "metadata": {
    "id": "5e8905ae"
   },
   "source": [
    "Describe brevemente tus hallazgos y lo que hiciste con ellos"
   ]
  },
  {
   "cell_type": "markdown",
   "id": "ac0936e9",
   "metadata": {},
   "source": [
    "Después de eliminar los pedidos duplicados del DataFrame de Instacart Orders, se verificó que ya no había filas duplicadas, ya que el recuento de filas duplicadas devolvió 0. Además, al revisar específicamente si había IDs de pedidos duplicados, el resultado también fue 0, lo que indica que no quedaban IDs de pedidos duplicados después de la eliminación.\n",
    "\n",
    "Esto confirma que los 15 pedidos duplicados identificados previamente fueron eliminados correctamente del conjunto de datos y que ese dia a esa hora en especifico solo hubieron 106 pedidos."
   ]
  },
  {
   "cell_type": "markdown",
   "id": "0cc176e0",
   "metadata": {},
   "source": [
    "<div class=\"alert alert-block alert-success\">\n",
    "<b>Comentario del revisor</b> <a class=\"tocSkip\"></a>\n",
    "\n",
    "Muy buen trabajo!! Desarrollaste de manera excelente el análisis de duplicados y eliminaste esos casos. \n",
    "    \n",
    "</div>"
   ]
  },
  {
   "cell_type": "markdown",
   "id": "45e6bc46",
   "metadata": {
    "id": "45e6bc46"
   },
   "source": [
    "### `products` data frame"
   ]
  },
  {
   "cell_type": "code",
   "execution_count": 14,
   "id": "5f526b5b-8175-46fa-a0fd-441767d50e64",
   "metadata": {
    "id": "5f526b5b-8175-46fa-a0fd-441767d50e64"
   },
   "outputs": [
    {
     "name": "stdout",
     "output_type": "stream",
     "text": [
      "Productos duplicados:\n",
      "0\n",
      "False    49694\n",
      "dtype: int64\n"
     ]
    }
   ],
   "source": [
    "# Revisa si hay productos duplicados\n",
    "print(\"Productos duplicados:\")\n",
    "print(products_df.duplicated().sum())\n",
    "print(products_df.duplicated().value_counts())\n"
   ]
  },
  {
   "cell_type": "code",
   "execution_count": 15,
   "id": "88daa4f4",
   "metadata": {
    "id": "88daa4f4"
   },
   "outputs": [
    {
     "name": "stdout",
     "output_type": "stream",
     "text": [
      "IDs duplicados de departamentos:\n",
      "49673\n"
     ]
    }
   ],
   "source": [
    "# Revisa únicamente si hay ID de departamentos duplicados\n",
    "print(\"IDs duplicados de departamentos:\")\n",
    "print(products_df['department_id'].duplicated().sum())"
   ]
  },
  {
   "cell_type": "code",
   "execution_count": 16,
   "id": "c773f0bf",
   "metadata": {
    "id": "c773f0bf"
   },
   "outputs": [
    {
     "name": "stdout",
     "output_type": "stream",
     "text": [
      "Nombres duplicados de productos: 1361\n"
     ]
    }
   ],
   "source": [
    "# Revisa únicamente si hay nombres duplicados de productos (convierte los nombres a letras mayúsculas para compararlos mejor)\n",
    "products_df['product_name'] = products_df['product_name'].str.upper()\n",
    "print(\"Nombres duplicados de productos:\", products_df['product_name'].duplicated().sum())"
   ]
  },
  {
   "cell_type": "code",
   "execution_count": 17,
   "id": "01efd02e",
   "metadata": {
    "id": "01efd02e"
   },
   "outputs": [
    {
     "name": "stdout",
     "output_type": "stream",
     "text": [
      "NaN                                                      1258\n",
      "GREEN TEA WITH GINSENG AND HONEY                            3\n",
      "NUTRITION PROTEIN MIX BLUEBERRY NUT                         2\n",
      "ORIGINAL POTATO CHIPS                                       2\n",
      "DRINKING WATER                                              2\n",
      "                                                         ... \n",
      "VEGETABLE DUMPLING POTSTICKERS                              1\n",
      "ONE & DONE REFRESHING CUCUMBER & GREEN TEA BABY WIPES       1\n",
      "MOROCCAN CHICKPEA & CARROT SOUP                             1\n",
      "WHITE FLESH NECTARINES                                      1\n",
      "LITTLE MOVERS DIAPERS- GIANT PACK - SIZE 5                  1\n",
      "Name: product_name, Length: 48333, dtype: int64\n"
     ]
    }
   ],
   "source": [
    "# Revisa si hay nombres duplicados de productos no faltantes\n",
    "print(products_df['product_name'].value_counts(dropna=False)) # aqui revisamos si hay duplicados de productos sin nombre incluyendo los valores NaN"
   ]
  },
  {
   "cell_type": "markdown",
   "id": "9da8d293",
   "metadata": {
    "id": "9da8d293"
   },
   "source": [
    "Describe brevemente tus hallazgos y lo que hiciste con ellos."
   ]
  },
  {
   "cell_type": "markdown",
   "id": "759d6a4e",
   "metadata": {},
   "source": [
    "No hay productos completamente duplicados en el conjunto de datos, ya que la suma de duplicados es cero y todos los valores únicos son 49694.\n",
    "Hay 49673 IDs de departamentos duplicados, lo que sugiere que la mayoría de los departamentos se repiten en el DataFrame.\n",
    "Hay 1361 nombres de productos duplicados después de convertirlos a letras mayúsculas para una comparación más precisa.\n",
    "Hay 1258 valores NaN en la columna de nombres de productos, lo que sugiere que hay productos sin nombre.\n",
    "Considerando que hay valores NaN ,se entiende de que los valores NaN se consideran como valores duplicados de acuerdo con esto podemos decir que solo 103 pedidos corresponden a productos duplicados que no son NaN."
   ]
  },
  {
   "cell_type": "markdown",
   "id": "ac599154",
   "metadata": {},
   "source": [
    "\n",
    "<div class=\"alert alert-block alert-success\">\n",
    "<b>Comentario del revisor</b> <a class=\"tocSkip\"></a>\n",
    "\n",
    "Muy buen trabajo!! Desarrollaste de manera excelente el análisis de duplicados. Para complementar el análisis, qué podríamos decir de estos productos duplicados? \n",
    "    \n",
    "</div>"
   ]
  },
  {
   "cell_type": "markdown",
   "id": "60f30db1",
   "metadata": {
    "id": "60f30db1"
   },
   "source": [
    "### `departments` data frame"
   ]
  },
  {
   "cell_type": "code",
   "execution_count": 18,
   "id": "fb410ad4-0fbf-4b80-bb09-23fdea79afe3",
   "metadata": {
    "id": "fb410ad4-0fbf-4b80-bb09-23fdea79afe3"
   },
   "outputs": [
    {
     "name": "stdout",
     "output_type": "stream",
     "text": [
      "Cantidad de Departamentos duplicados:\n",
      "0\n"
     ]
    }
   ],
   "source": [
    "# Revisa si hay filas totalmente duplicadas\n",
    "print(\"Cantidad de Departamentos duplicados:\")\n",
    "print(departments_df.duplicated().sum())\n"
   ]
  },
  {
   "cell_type": "code",
   "execution_count": 19,
   "id": "332b12bb",
   "metadata": {
    "id": "332b12bb"
   },
   "outputs": [
    {
     "name": "stdout",
     "output_type": "stream",
     "text": [
      "IDs duplicados de departamentos:\n",
      "0\n"
     ]
    }
   ],
   "source": [
    "# Revisa únicamente si hay IDs duplicadas de productos\n",
    "print(\"IDs duplicados de departamentos:\")\n",
    "print(departments_df['department_id'].duplicated().sum())"
   ]
  },
  {
   "cell_type": "markdown",
   "id": "bd30d78e",
   "metadata": {
    "id": "bd30d78e"
   },
   "source": [
    "Describe brevemente tus hallazgos y lo que hiciste con ellos."
   ]
  },
  {
   "cell_type": "markdown",
   "id": "0b787eff",
   "metadata": {},
   "source": [
    "En el DataFrame de departamentos, no se encontraron filas completamente duplicadas ni IDs duplicados de departamentos. "
   ]
  },
  {
   "cell_type": "markdown",
   "id": "889349c1",
   "metadata": {
    "id": "889349c1"
   },
   "source": [
    "### `aisles` data frame"
   ]
  },
  {
   "cell_type": "code",
   "execution_count": 20,
   "id": "9da89fb9-4679-40f5-ad0d-c34df753a3f8",
   "metadata": {
    "id": "9da89fb9-4679-40f5-ad0d-c34df753a3f8"
   },
   "outputs": [
    {
     "name": "stdout",
     "output_type": "stream",
     "text": [
      "Cantidad de Pasillos duplicados:\n",
      "0\n"
     ]
    }
   ],
   "source": [
    "# Revisa si hay filas totalmente duplicadas\n",
    "print(\"Cantidad de Pasillos duplicados:\")\n",
    "print(aisles_df.duplicated().sum())\n"
   ]
  },
  {
   "cell_type": "code",
   "execution_count": 21,
   "id": "da7c2822",
   "metadata": {
    "id": "da7c2822"
   },
   "outputs": [
    {
     "name": "stdout",
     "output_type": "stream",
     "text": [
      "IDs duplicados de pasillos:\n",
      "0\n"
     ]
    }
   ],
   "source": [
    "# Revisa únicamente si hay IDs duplicadas de productos\n",
    "print(\"IDs duplicados de pasillos:\") \n",
    "print(aisles_df['aisle_id'].duplicated().sum())"
   ]
  },
  {
   "cell_type": "markdown",
   "id": "ac63826f",
   "metadata": {
    "id": "ac63826f"
   },
   "source": [
    "Describe brevemente tus hallazgos y lo que hiciste con ellos."
   ]
  },
  {
   "cell_type": "markdown",
   "id": "fe096847",
   "metadata": {},
   "source": [
    "En el DataFrame de pasillos, no se encontraron filas completamente duplicadas ni IDs duplicados de pasillos. Esto indica que cada fila representa un pasillo único y que cada ID de pasillo es único en el conjunto de datos. "
   ]
  },
  {
   "cell_type": "markdown",
   "id": "274cd06a",
   "metadata": {
    "id": "274cd06a"
   },
   "source": [
    "### `order_products` data frame"
   ]
  },
  {
   "cell_type": "code",
   "execution_count": 22,
   "id": "52326689-84a8-4b8f-a881-7c68780f62c9",
   "metadata": {
    "id": "52326689-84a8-4b8f-a881-7c68780f62c9"
   },
   "outputs": [
    {
     "name": "stdout",
     "output_type": "stream",
     "text": [
      "Cantidad de Ordenes de Productos duplicados:\n",
      "0\n"
     ]
    }
   ],
   "source": [
    "# Revisa si hay filas totalmente duplicadas\n",
    "print(\"Cantidad de Ordenes de Productos duplicados:\")\n",
    "print(order_products_df.duplicated().sum())\n"
   ]
  },
  {
   "cell_type": "code",
   "execution_count": 23,
   "id": "7b861391",
   "metadata": {
    "id": "7b861391"
   },
   "outputs": [
    {
     "name": "stdout",
     "output_type": "stream",
     "text": [
      "Order Products\n",
      "order_id               0\n",
      "product_id             0\n",
      "add_to_cart_order    836\n",
      "reordered              0\n",
      "dtype: int64\n",
      "\n",
      "IDs duplicados de pedidos: 4094961\n",
      "IDs duplicados de productos: 4499434\n"
     ]
    }
   ],
   "source": [
    "# Vuelve a verificar si hay cualquier otro duplicado engañoso\n",
    "\n",
    "print('Order Products')\n",
    "print(order_products_df.isna().sum())\n",
    "print()\n",
    "print(\"IDs duplicados de pedidos:\", order_products_df['order_id'].duplicated().sum())\n",
    "print(\"IDs duplicados de productos:\", order_products_df['product_id'].duplicated().sum())\n",
    "\n"
   ]
  },
  {
   "cell_type": "markdown",
   "id": "0b890492",
   "metadata": {
    "id": "0b890492"
   },
   "source": [
    "Describe brevemente tus hallazgos y lo que hiciste con ellos."
   ]
  },
  {
   "cell_type": "markdown",
   "id": "0e490cee",
   "metadata": {},
   "source": [
    "En el dataframe de order_products nos entrega los resultados que no existen filas duplicadas, pero se pudo observar que existen valores faltantes en la columna add_to_cart_order. En este DataFrame , al llamar inicialmente al metodo info() se pudo observar una irregularidad , ya que no mencionaba los non-null. Aqui podemos revelar esta irregularidad.\n",
    "\n",
    "Además, al verificar duplicados en las columnas order_id y product_id, se encontró que hay un gran número de IDs duplicados tanto para pedidos como para productos. Estos duplicados pueden ser legítimos, ya que un mismo producto puede estar presente en varios pedidos y un pedido puede contener múltiples productos. Por lo tanto, no se tomaron acciones para eliminar estos duplicados, ya que son una característica esperada de los datos de pedidos de productos."
   ]
  },
  {
   "cell_type": "markdown",
   "id": "1e46de76",
   "metadata": {
    "id": "1e46de76"
   },
   "source": [
    "## Encuentra y elimina los valores ausentes\n",
    "\n",
    "Al trabajar con valores duplicados, pudimos observar que también nos falta investigar valores ausentes:\n",
    "\n",
    "* La columna `'product_name'` de la tabla products.\n",
    "* La columna `'days_since_prior_order'` de la tabla orders.\n",
    "* La columna `'add_to_cart_order'` de la tabla order_productos."
   ]
  },
  {
   "cell_type": "markdown",
   "id": "c0aebd78",
   "metadata": {
    "id": "c0aebd78"
   },
   "source": [
    "### `products` data frame"
   ]
  },
  {
   "cell_type": "code",
   "execution_count": 24,
   "id": "fe4a8b0f",
   "metadata": {
    "id": "fe4a8b0f"
   },
   "outputs": [
    {
     "name": "stdout",
     "output_type": "stream",
     "text": [
      "Valores ausentes en los Nombres de Productos\n",
      "False    48436\n",
      "True      1258\n",
      "Name: product_name, dtype: int64\n"
     ]
    }
   ],
   "source": [
    "# Encuentra los valores ausentes en la columna 'product_name'\n",
    "print(\"Valores ausentes en los Nombres de Productos\")\n",
    "print(products_df['product_name'].isnull().value_counts())"
   ]
  },
  {
   "cell_type": "markdown",
   "id": "-A6x1AbJhjkp",
   "metadata": {
    "id": "-A6x1AbJhjkp"
   },
   "source": [
    "Describe brevemente cuáles son tus hallazgos."
   ]
  },
  {
   "cell_type": "markdown",
   "id": "17f0e2fa",
   "metadata": {},
   "source": [
    "Los hallazgos indican que hay 1258 valores ausentes en la columna 'product_name' del DataFrame de productos. Lo cual puede significar que los valores faltantes puede ser que no esten registrados o que hubo un error con los datos."
   ]
  },
  {
   "cell_type": "code",
   "execution_count": 25,
   "id": "e96167bc",
   "metadata": {
    "id": "e96167bc"
   },
   "outputs": [
    {
     "name": "stdout",
     "output_type": "stream",
     "text": [
      "Productos relacionados con el pasillo 100\n",
      "product_id       1258\n",
      "product_name        0\n",
      "aisle_id         1258\n",
      "department_id    1258\n",
      "dtype: int64\n"
     ]
    }
   ],
   "source": [
    "#  ¿Todos los nombres de productos ausentes están relacionados con el pasillo con ID 100?\n",
    "print(\"Productos relacionados con el pasillo 100\")\n",
    "print(products_df[products_df['aisle_id']==100].count())"
   ]
  },
  {
   "cell_type": "markdown",
   "id": "WRpIfXRphpSL",
   "metadata": {
    "id": "WRpIfXRphpSL"
   },
   "source": [
    "Describe brevemente cuáles son tus hallazgos."
   ]
  },
  {
   "cell_type": "markdown",
   "id": "6178bea7",
   "metadata": {},
   "source": [
    "los 1258 productos con valores ausentes estan relacionados con el pasillo 100"
   ]
  },
  {
   "cell_type": "code",
   "execution_count": 26,
   "id": "8fd0a541",
   "metadata": {
    "id": "8fd0a541"
   },
   "outputs": [
    {
     "name": "stdout",
     "output_type": "stream",
     "text": [
      "Productos relacionados con el departamento ID 21\n",
      "product_id       1258\n",
      "product_name        0\n",
      "aisle_id         1258\n",
      "department_id    1258\n",
      "dtype: int64\n"
     ]
    }
   ],
   "source": [
    "# ¿Todos los nombres de productos ausentes están relacionados con el departamento con ID 21?\n",
    "print(\"Productos relacionados con el departamento ID 21\")\n",
    "print(products_df[products_df['department_id']==21].count())"
   ]
  },
  {
   "cell_type": "markdown",
   "id": "qDpdYn1Fht_I",
   "metadata": {
    "id": "qDpdYn1Fht_I"
   },
   "source": [
    "Describe brevemente cuáles son tus hallazgos."
   ]
  },
  {
   "cell_type": "markdown",
   "id": "a45cc8e1",
   "metadata": {},
   "source": [
    "Los hallazgos muestran que todos los productos con nombres ausentes están relacionados con el departamento con ID 21. "
   ]
  },
  {
   "cell_type": "code",
   "execution_count": 27,
   "id": "325c3464",
   "metadata": {
    "id": "325c3464"
   },
   "outputs": [
    {
     "name": "stdout",
     "output_type": "stream",
     "text": [
      "       product_id product_name  aisle_id  department_id\n",
      "37             38          NaN       100             21\n",
      "71             72          NaN       100             21\n",
      "109           110          NaN       100             21\n",
      "296           297          NaN       100             21\n",
      "416           417          NaN       100             21\n",
      "...           ...          ...       ...            ...\n",
      "49552       49553          NaN       100             21\n",
      "49574       49575          NaN       100             21\n",
      "49640       49641          NaN       100             21\n",
      "49663       49664          NaN       100             21\n",
      "49668       49669          NaN       100             21\n",
      "\n",
      "[1258 rows x 4 columns]\n"
     ]
    }
   ],
   "source": [
    "# Usa las tablas department y aisle para revisar los datos del pasillo con ID 100 y el departamento con ID 21.\n",
    "datos=products_df.loc[(products_df['aisle_id']==100) & (products_df['department_id']==21)]\n",
    "print(datos)"
   ]
  },
  {
   "cell_type": "markdown",
   "id": "nqhSTUPhhvEJ",
   "metadata": {
    "id": "nqhSTUPhhvEJ"
   },
   "source": [
    "Describe brevemente cuáles son tus hallazgos."
   ]
  },
  {
   "cell_type": "markdown",
   "id": "708e4a49",
   "metadata": {},
   "source": [
    "Los hallazgos muestran que todos los productos con nombres ausentes están asociados con el pasillo con ID 100 y el departamento con ID 21. Esto confirma que los productos con nombres ausentes se encuentran específicamente en este pasillo y departamento."
   ]
  },
  {
   "cell_type": "code",
   "execution_count": 28,
   "id": "6b295120",
   "metadata": {
    "id": "6b295120"
   },
   "outputs": [
    {
     "name": "stdout",
     "output_type": "stream",
     "text": [
      "product_id       0\n",
      "product_name     0\n",
      "aisle_id         0\n",
      "department_id    0\n",
      "dtype: int64\n"
     ]
    }
   ],
   "source": [
    "# Completa los nombres de productos ausentes con 'Unknown'\n",
    "products_df['product_name'].fillna('Unknown',inplace=True)\n",
    "print(products_df.isna().sum())"
   ]
  },
  {
   "cell_type": "markdown",
   "id": "fc70e5ad",
   "metadata": {
    "id": "fc70e5ad"
   },
   "source": [
    "Describe brevemente tus hallazgos y lo que hiciste con ellos."
   ]
  },
  {
   "cell_type": "markdown",
   "id": "a13e237c",
   "metadata": {},
   "source": [
    "Después de completar los nombres de productos ausentes con 'Unknown', se verificó que ya no hay valores ausentes en la columna 'product_name' del DataFrame de productos."
   ]
  },
  {
   "cell_type": "markdown",
   "id": "1e5c34d6",
   "metadata": {},
   "source": [
    "<div class=\"alert alert-block alert-success\">\n",
    "<b>Comentario del revisor</b> <a class=\"tocSkip\"></a>\n",
    "\n",
    "Muy buen trabajo!! Desarrollaste de manera excelente el análisis de valores faltantes y los llenaste con \"unknown\".\n",
    "    \n",
    "</div>"
   ]
  },
  {
   "cell_type": "markdown",
   "id": "7eb45c86",
   "metadata": {
    "id": "7eb45c86"
   },
   "source": [
    "### `orders` data frame"
   ]
  },
  {
   "cell_type": "code",
   "execution_count": 29,
   "id": "93e41d96",
   "metadata": {
    "id": "93e41d96"
   },
   "outputs": [
    {
     "name": "stdout",
     "output_type": "stream",
     "text": [
      "Instacart\n",
      "order_id                      0\n",
      "user_id                       0\n",
      "order_number                  0\n",
      "order_dow                     0\n",
      "order_hour_of_day             0\n",
      "days_since_prior_order    28817\n",
      "dtype: int64\n"
     ]
    }
   ],
   "source": [
    "#Encuentra los valores ausentes\n",
    "print('Instacart')\n",
    "print(instacart_orders_df.isna().sum())"
   ]
  },
  {
   "cell_type": "code",
   "execution_count": 30,
   "id": "166e5a86",
   "metadata": {
    "id": "166e5a86"
   },
   "outputs": [
    {
     "name": "stdout",
     "output_type": "stream",
     "text": [
      "Valores ausentes en pedidos que no son el primer pedido del cliente:\n",
      "order_id                  0\n",
      "user_id                   0\n",
      "order_number              0\n",
      "order_dow                 0\n",
      "order_hour_of_day         0\n",
      "days_since_prior_order    0\n",
      "dtype: int64\n"
     ]
    }
   ],
   "source": [
    "# ¿Hay algún valor ausente que no sea el primer pedido del cliente?   #esta parte no la entendi la verdad\n",
    "# Filtrar los pedidos que no son el primer pedido del cliente\n",
    "no_primeros_pedidos = instacart_orders_df[instacart_orders_df['order_number'] > 1]\n",
    "\n",
    "# Verificar si hay valores ausentes en esos pedidos\n",
    "valores_ausentes_no_primeros = no_primeros_pedidos.isnull().sum()\n",
    "\n",
    "# Imprimir los valores ausentes encontrados\n",
    "print(\"Valores ausentes en pedidos que no son el primer pedido del cliente:\")\n",
    "print(valores_ausentes_no_primeros)"
   ]
  },
  {
   "cell_type": "markdown",
   "id": "4e23d089",
   "metadata": {
    "id": "4e23d089"
   },
   "source": [
    "Describe brevemente tus hallazgos y lo que hiciste con ellos."
   ]
  },
  {
   "cell_type": "markdown",
   "id": "a04872a2",
   "metadata": {},
   "source": [
    "En el DataFrame de Instacart Orders, se encontraron valores ausentes únicamente en la columna 'days_since_prior_order', con un total de 28,817 valores faltantes. Luego, se realizó una verificación adicional para determinar si estos valores ausentes correspondían a pedidos que no eran el primer pedido del cliente. Para esto, se filtraron los pedidos donde el número de pedido era mayor que 1. Después de este filtrado, se verificó que no había valores ausentes en estos pedidos. Esto sugiere que los valores ausentes en la columna 'days_since_prior_order' corresponden únicamente al primer pedido de cada cliente."
   ]
  },
  {
   "cell_type": "markdown",
   "id": "69dc9ca4",
   "metadata": {
    "id": "69dc9ca4"
   },
   "source": [
    "### `order_products` data frame"
   ]
  },
  {
   "cell_type": "code",
   "execution_count": 31,
   "id": "b8240253",
   "metadata": {
    "id": "b8240253"
   },
   "outputs": [
    {
     "name": "stdout",
     "output_type": "stream",
     "text": [
      "Order Products\n",
      "order_id               0\n",
      "product_id             0\n",
      "add_to_cart_order    836\n",
      "reordered              0\n",
      "dtype: int64\n"
     ]
    }
   ],
   "source": [
    "# Encuentra los valores ausentes\n",
    "print('Order Products')\n",
    "print(order_products_df.isna().sum())\n"
   ]
  },
  {
   "cell_type": "code",
   "execution_count": 32,
   "id": "9a78e5ee",
   "metadata": {
    "id": "9a78e5ee"
   },
   "outputs": [
    {
     "name": "stdout",
     "output_type": "stream",
     "text": [
      "Los valores mínimo y máximo son:  1.0 64.0\n"
     ]
    }
   ],
   "source": [
    "# ¿Cuáles son los valores mínimos y máximos en esta columna?\n",
    "minimo = order_products_df['add_to_cart_order'].min()\n",
    "maximo = order_products_df['add_to_cart_order'].max()\n",
    "print('Los valores mínimo y máximo son: ',minimo  ,maximo)"
   ]
  },
  {
   "cell_type": "markdown",
   "id": "-Z2Ja215jW78",
   "metadata": {
    "id": "-Z2Ja215jW78"
   },
   "source": [
    "Describe brevemente cuáles son tus hallazgos."
   ]
  },
  {
   "cell_type": "markdown",
   "id": "48ae6cb0",
   "metadata": {},
   "source": [
    "Se visualizo que en el dataframe de order product hay 836 valores ausentes , de los couales corresponden a la columna add_to_cart_order.  De esta misma tabla , que corresponde al orden secuencial en el que se añadió cada artículo en el carrito obtuvimos el valor minimo y maximo."
   ]
  },
  {
   "cell_type": "code",
   "execution_count": 33,
   "id": "ab9d0c2b",
   "metadata": {
    "id": "ab9d0c2b"
   },
   "outputs": [
    {
     "name": "stdout",
     "output_type": "stream",
     "text": [
      "737        2449164\n",
      "9926       1968313\n",
      "14394      2926893\n",
      "16418      1717990\n",
      "30114      1959075\n",
      "            ...   \n",
      "4505662    1800005\n",
      "4511400    1633337\n",
      "4517562     404157\n",
      "4534112    1673227\n",
      "4535739    1832957\n",
      "Name: order_id, Length: 836, dtype: int64\n"
     ]
    }
   ],
   "source": [
    "# Guarda todas las IDs de pedidos que tengan un valor ausente en 'add_to_cart_order'\n",
    "valor_ausente_order_products =order_products_df[order_products_df['add_to_cart_order'].isnull()]['order_id']\n",
    "print(valor_ausente_order_products)"
   ]
  },
  {
   "cell_type": "code",
   "execution_count": 34,
   "id": "54c31695",
   "metadata": {
    "id": "54c31695"
   },
   "outputs": [
    {
     "name": "stdout",
     "output_type": "stream",
     "text": [
      "False    836\n",
      "Name: order_id, dtype: int64\n",
      "         order_id  product_id  add_to_cart_order  reordered\n",
      "737       2449164        5068                NaN          0\n",
      "9926      1968313       43867                NaN          0\n",
      "14394     2926893       11688                NaN          0\n",
      "16418     1717990        4142                NaN          0\n",
      "30114     1959075       42828                NaN          1\n",
      "...           ...         ...                ...        ...\n",
      "4505662   1800005        7411                NaN          0\n",
      "4511400   1633337         260                NaN          0\n",
      "4517562    404157        9517                NaN          0\n",
      "4534112   1673227       17835                NaN          0\n",
      "4535739   1832957       17949                NaN          1\n",
      "\n",
      "[836 rows x 4 columns]\n",
      "4545007\n"
     ]
    }
   ],
   "source": [
    "# ¿Todos los pedidos con valores ausentes tienen más de 64 productos?\n",
    "valor_64 =order_products_df[order_products_df['add_to_cart_order'].isnull()]\n",
    "pedidos_valor_64 = valor_64['order_id'].isin(order_products_df.groupby('order_id')['product_id'].count())\n",
    "print(pedidos_valor_64.value_counts())\n",
    "# Agrupa todos los pedidos con datos ausentes por su ID de pedido.\n",
    "datos_aus = order_products_df[order_products_df['add_to_cart_order'].isnull()]\n",
    "print(datos_aus)\n",
    "# Cuenta el número de 'product_id' en cada pedido y revisa el valor mínimo del conteo.\n",
    "print(order_products_df['product_id'].value_counts().sum())"
   ]
  },
  {
   "cell_type": "markdown",
   "id": "p9V6pddtjglj",
   "metadata": {
    "id": "p9V6pddtjglj"
   },
   "source": [
    "Describe brevemente cuáles son tus hallazgos."
   ]
  },
  {
   "cell_type": "markdown",
   "id": "cb935194",
   "metadata": {},
   "source": [
    "Se encontraron 836 pedidos con valores ausentes en la columna 'add_to_cart_order'. Se identificó que no todos estos pedidos tenían más de 64 productos, lo que indica que el valor máximo de 64 no se puede utilizar para completar los valores ausentes de 'add_to_cart_order'. Se agruparon todos los pedidos con datos ausentes por su ID de pedido y se contó el número de 'product_id' en cada pedido. Se verificó que el valor mínimo del conteo de 'product_id' era mayor que 1, lo que confirma que los pedidos con valores ausentes en 'add_to_cart_order' contenían más de un producto. Esto sugiere que no hay un valor específico que pueda reemplazar los valores ausentes en 'add_to_cart_order'."
   ]
  },
  {
   "cell_type": "code",
   "execution_count": 35,
   "id": "7a987d08",
   "metadata": {
    "id": "7a987d08"
   },
   "outputs": [
    {
     "name": "stdout",
     "output_type": "stream",
     "text": [
      "0          17\n",
      "1           1\n",
      "2           1\n",
      "3          35\n",
      "4           5\n",
      "           ..\n",
      "4545002    12\n",
      "4545003     9\n",
      "4545004     4\n",
      "4545005     8\n",
      "4545006     9\n",
      "Name: add_to_cart_order, Length: 4545007, dtype: int64\n"
     ]
    }
   ],
   "source": [
    "# Remplaza los valores ausentes en la columna 'add_to_cart? con 999 y convierte la columna al tipo entero.\n",
    "order_products_df['add_to_cart_order'] = order_products_df['add_to_cart_order'].fillna(999).astype(int)\n",
    "print(order_products_df['add_to_cart_order'])\n"
   ]
  },
  {
   "cell_type": "markdown",
   "id": "fea4bcc7",
   "metadata": {
    "id": "fea4bcc7"
   },
   "source": [
    "Describe brevemente tus hallazgos y lo que hiciste con ellos."
   ]
  },
  {
   "cell_type": "markdown",
   "id": "560610d7",
   "metadata": {},
   "source": [
    "Con el codigo que se propuso se pudo distinguir que en la columna de add_to_cart_order existian valores que eran ausentes, se tuvieron que ver que existian valores NaN para poder seguir con el codigo.\n",
    "Encontré que la columna 'add_to_cart_order' del dataframe 'order_products_df' tenía valores ausentes. Para abordar esto, primero reemplacé los valores ausentes con el número 999 utilizando el método fillna(999). Luego, intenté convertir la columna al tipo de datos entero utilizando el método astype(int). "
   ]
  },
  {
   "cell_type": "markdown",
   "id": "8d3c7b8c",
   "metadata": {},
   "source": [
    "<div class=\"alert alert-block alert-warning\">\n",
    "<b>Comentario revisor</b> <a class=\"tocSkip\"></a>\n",
    "\n",
    "\n",
    "Muy buena conclusión de esta base. Pero qué podríamos decir de los pedidos que tienen más de 64 productos?\n",
    "</div>"
   ]
  },
  {
   "cell_type": "markdown",
   "id": "RnplPFY1gSrb",
   "metadata": {
    "id": "RnplPFY1gSrb"
   },
   "source": [
    "## Conclusiones\n",
    "\n",
    "Escribe aquí tus conclusiones intermedias sobre el Paso 2. Preprocesamiento de los datos\n"
   ]
  },
  {
   "cell_type": "markdown",
   "id": "906d216d",
   "metadata": {},
   "source": [
    "Se pudo identificar que habian dataframe que era necesario corregir, para poder trabajar con ellos de forma ordenada, ademas se pudo observar que habian distintas columnas con valores ausentes y tambien valores duplicados. Se tuvo que hacer modificaciones como eliminacion de filas duplicadas, rellenar valores ausentes para poder trabajar los dataframe de mejor forma.\n",
    "En resumen, fue crucial para realizar la limpieza y preparar los datos para análisis posteriores, asegurando que estén libres de duplicados y valores ausentes, y que tengan el formato correcto para su manipulación y análisis."
   ]
  },
  {
   "cell_type": "markdown",
   "id": "UjrOIwTcz3ri",
   "metadata": {
    "id": "UjrOIwTcz3ri"
   },
   "source": [
    "# Paso 3. Análisis de los datos\n",
    "\n",
    "Una vez los datos estén procesados y listos, haz el siguiente análisis:"
   ]
  },
  {
   "cell_type": "markdown",
   "id": "turkish-kidney",
   "metadata": {
    "id": "turkish-kidney"
   },
   "source": [
    "# [A] Fácil (deben completarse todos para aprobar)\n",
    "\n",
    "1. Verifica que los valores en las columnas `'order_hour_of_day'` y `'order_dow'` en la tabla orders sean razonables (es decir, `'order_hour_of_day'` oscile entre 0 y 23 y `'order_dow'` oscile entre 0 y 6).\n",
    "2. Crea un gráfico que muestre el número de personas que hacen pedidos dependiendo de la hora del día.\n",
    "3. Crea un gráfico que muestre qué día de la semana la gente hace sus compras.\n",
    "4. Crea un gráfico que muestre el tiempo que la gente espera hasta hacer su siguiente pedido, y comenta sobre los valores mínimos y máximos."
   ]
  },
  {
   "cell_type": "markdown",
   "id": "short-capability",
   "metadata": {
    "id": "short-capability"
   },
   "source": [
    "### [A1] Verifica que los valores sean sensibles"
   ]
  },
  {
   "cell_type": "code",
   "execution_count": 36,
   "id": "growing-fruit",
   "metadata": {
    "id": "growing-fruit"
   },
   "outputs": [
    {
     "name": "stdout",
     "output_type": "stream",
     "text": [
      "True\n"
     ]
    }
   ],
   "source": [
    "valid_order_hour = (instacart_orders_df['order_hour_of_day']>=0 ) & (instacart_orders_df['order_hour_of_day'] <= 23)\n",
    "print(valid_order_hour.all())"
   ]
  },
  {
   "cell_type": "code",
   "execution_count": 37,
   "id": "accessory-malaysia",
   "metadata": {
    "id": "accessory-malaysia",
    "scrolled": true
   },
   "outputs": [
    {
     "name": "stdout",
     "output_type": "stream",
     "text": [
      "True\n"
     ]
    }
   ],
   "source": [
    "valid_order_dow =(instacart_orders_df['order_dow']>=0 ) & (instacart_orders_df['order_dow'] <= 6)\n",
    "print(valid_order_dow.all())"
   ]
  },
  {
   "cell_type": "markdown",
   "id": "hmR2GNQ6lCsX",
   "metadata": {
    "id": "hmR2GNQ6lCsX"
   },
   "source": [
    "Escribe aquí tus conclusiones"
   ]
  },
  {
   "cell_type": "markdown",
   "id": "4a2dec21",
   "metadata": {},
   "source": [
    "Los valores en las columnas 'order_hour_of_day' y 'order_dow' en la tabla de órdenes son razonables.\n",
    "Todos los valores en la columna 'order_hour_of_day' están dentro del rango de 0 a 23.\n",
    "Todos los valores en la columna 'order_dow' están dentro del rango de 0 a 6."
   ]
  },
  {
   "cell_type": "markdown",
   "id": "a6743a70",
   "metadata": {
    "id": "a6743a70"
   },
   "source": [
    "### [A2] Para cada hora del día, ¿cuántas personas hacen órdenes?"
   ]
  },
  {
   "cell_type": "code",
   "execution_count": 38,
   "id": "a36cca27",
   "metadata": {
    "id": "a36cca27"
   },
   "outputs": [
    {
     "data": {
      "image/png": "[encoded data removed]",
      "text/plain": [
       "<Figure size 720x432 with 1 Axes>"
      ]
     },
     "metadata": {
      "needs_background": "light"
     },
     "output_type": "display_data"
    }
   ],
   "source": [
    "# Crear un gráfico que muestre el número de personas que hacen pedidos dependiendo de la hora del día\n",
    "import matplotlib.pyplot as plt  # Importar la biblioteca matplotlib.pyplot\n",
    "plt.figure(figsize=(10, 6))\n",
    "instacart_orders_df['order_hour_of_day'].value_counts().sort_index().plot(kind='bar', color='skyblue')\n",
    "plt.title('Número de Personas que hacen pedidos por Hora del Día')\n",
    "plt.xlabel('Hora del Día')\n",
    "plt.ylabel('Número de Peronas')\n",
    "plt.xticks(rotation=0)\n",
    "plt.grid(axis='y', linestyle='--', alpha=0.7)\n",
    "plt.show()"
   ]
  },
  {
   "cell_type": "markdown",
   "id": "11270eed",
   "metadata": {
    "id": "11270eed"
   },
   "source": [
    "Escribe aquí tus conclusiones"
   ]
  },
  {
   "cell_type": "markdown",
   "id": "b76da297",
   "metadata": {},
   "source": [
    "Entre las 10 y 16:00 horas en donde mas cantidad de personas hacen ordenes.\n",
    "El gráfico muestra claramente cómo varía el número de personas que hacen pedidos a lo largo del día.\n",
    "Se observa un pico en la cantidad de personas que hacen pedidos durante las horas diurnas, con un descenso durante las primeras horas de la mañana y durante la noche."
   ]
  },
  {
   "cell_type": "markdown",
   "id": "2e463e24",
   "metadata": {},
   "source": [
    "<div class=\"alert alert-block alert-success\">\n",
    "<b>Comentario del revisor</b> <a class=\"tocSkip\"></a>\n",
    "\n",
    "Muy buen trabajo!! Buen uso de la gráfica de barras para mostrar la distribución por horas.\n",
    "    \n",
    "</div>"
   ]
  },
  {
   "cell_type": "markdown",
   "id": "documented-command",
   "metadata": {
    "id": "documented-command"
   },
   "source": [
    "### [A3] ¿Qué día de la semana compran víveres las personas?"
   ]
  },
  {
   "cell_type": "code",
   "execution_count": 39,
   "id": "chief-digit",
   "metadata": {
    "id": "chief-digit"
   },
   "outputs": [
    {
     "data": {
      "image/png": "[encoded data removed]",
      "text/plain": [
       "<Figure size 720x432 with 1 Axes>"
      ]
     },
     "metadata": {
      "needs_background": "light"
     },
     "output_type": "display_data"
    }
   ],
   "source": [
    "# Crear un gráfico que muestre qué día de la semana la gente hace sus compras\n",
    "plt.figure(figsize=(10, 6))\n",
    "instacart_orders_df['order_dow'].value_counts().sort_index().plot(kind='bar', color='orange')\n",
    "plt.title('Día de la Semana para Pedidos')\n",
    "plt.xlabel('Día de la Semana (0: Domingo, 1: Lunes, ..., 6: Sábado)')\n",
    "plt.ylabel('Número de Pedidos')\n",
    "plt.xticks(rotation=0)\n",
    "plt.grid(axis='y', linestyle='--', alpha=0.7)\n",
    "plt.show()"
   ]
  },
  {
   "cell_type": "markdown",
   "id": "dominant-lightning",
   "metadata": {
    "id": "dominant-lightning"
   },
   "source": [
    "Escribe aquí tus conclusiones"
   ]
  },
  {
   "cell_type": "markdown",
   "id": "c713f8d2",
   "metadata": {},
   "source": [
    "Los dias domingo y lunes son los dias que mas compran los clientes debido a la cantidad de pedidos."
   ]
  },
  {
   "cell_type": "markdown",
   "id": "cutting-concert",
   "metadata": {
    "id": "cutting-concert"
   },
   "source": [
    "### [A4] ¿Cuánto tiempo esperan las personas hasta hacer otro pedido? Comenta sobre los valores mínimos y máximos."
   ]
  },
  {
   "cell_type": "code",
   "execution_count": 40,
   "id": "bb92a0a1",
   "metadata": {},
   "outputs": [
    {
     "data": {
      "image/png": "[encoded data removed]",
      "text/plain": [
       "<Figure size 720x432 with 1 Axes>"
      ]
     },
     "metadata": {
      "needs_background": "light"
     },
     "output_type": "display_data"
    },
    {
     "name": "stdout",
     "output_type": "stream",
     "text": [
      "El valor mínimo de días transcurridos hasta el siguiente pedido es: 0.0\n",
      "El valor máximo de días transcurridos hasta el siguiente pedido es: 30.0\n"
     ]
    }
   ],
   "source": [
    "# Crear un gráfico de líneas con marcadores que muestre el tiempo que la gente espera hasta hacer su siguiente pedido\n",
    "plt.figure(figsize=(10, 6))\n",
    "instacart_orders_df['days_since_prior_order'].value_counts().sort_index().plot(kind='line', color='green', marker='o', linestyle='-')\n",
    "plt.title('Días Transcurridos hasta el Siguiente Pedido')\n",
    "plt.xlabel('Días desde el Pedido Anterior')\n",
    "plt.ylabel('Frecuencia')\n",
    "plt.grid(axis='y', linestyle='--', alpha=0.7)\n",
    "\n",
    "# Establecer los ticks del eje x para que muestren valores de uno en uno\n",
    "min_dias = int(instacart_orders_df['days_since_prior_order'].min())\n",
    "max_dias = int(instacart_orders_df['days_since_prior_order'].max())\n",
    "ticks = [i for i in range(min_dias, max_dias + 1)]\n",
    "plt.xticks(ticks)\n",
    "\n",
    "plt.show()\n",
    "# Comentar sobre los valores mínimos y máximos del tiempo que la gente espera hasta hacer su siguiente pedido\n",
    "min_dias = instacart_orders_df['days_since_prior_order'].min()\n",
    "max_dias = instacart_orders_df['days_since_prior_order'].max()\n",
    "print(f\"El valor mínimo de días transcurridos hasta el siguiente pedido es: {min_dias}\")\n",
    "print(f\"El valor máximo de días transcurridos hasta el siguiente pedido es: {max_dias}\")"
   ]
  },
  {
   "cell_type": "markdown",
   "id": "discrete-vertex",
   "metadata": {
    "id": "discrete-vertex"
   },
   "source": [
    "Escribe aquí tus conclusiones"
   ]
  },
  {
   "cell_type": "markdown",
   "id": "7d1fc7d9",
   "metadata": {},
   "source": [
    "La mayoría de las personas parece hacer pedidos con una frecuencia de entre 7 y 14 días, El valor 30 en el grafico tiene la mayor altura pero considero que se refiere al re inicio del mes.\n",
    "En este caso, el valor mínimo es 0 días, lo que indica que algunos usuarios hacen pedidos diariamente, mientras que el valor máximo es 30 días, lo que sugiere que otros usuarios esperan hasta un mes entre pedidos."
   ]
  },
  {
   "cell_type": "markdown",
   "id": "tight-staff",
   "metadata": {
    "id": "tight-staff"
   },
   "source": [
    "# [B] Intermedio (deben completarse todos para aprobar)\n",
    "\n",
    "1. ¿Existe alguna diferencia entre las distribuciones `'order_hour_of_day'` de los miércoles y los sábados? Traza gráficos de barra de `'order_hour_of_day'` para ambos días en la misma figura y describe las diferencias que observes.\n",
    "2. Grafica la distribución para el número de órdenes que hacen los clientes (es decir, cuántos clientes hicieron solo 1 pedido, cuántos hicieron 2, cuántos 3, y así sucesivamente...).\n",
    "3. ¿Cuáles son los 20 principales productos que se piden con más frecuencia (muestra su identificación y nombre)?"
   ]
  },
  {
   "cell_type": "markdown",
   "id": "packed-classic",
   "metadata": {
    "id": "packed-classic"
   },
   "source": [
    "### [B1] Diferencia entre miércoles y sábados para  `'order_hour_of_day'`. Traza gráficos de barra para los dos días y describe las diferencias que veas."
   ]
  },
  {
   "cell_type": "code",
   "execution_count": 41,
   "id": "e26318ce",
   "metadata": {},
   "outputs": [
    {
     "data": {
      "image/png": "[encoded data removed]",
      "text/plain": [
       "<Figure size 864x432 with 1 Axes>"
      ]
     },
     "metadata": {
      "needs_background": "light"
     },
     "output_type": "display_data"
    }
   ],
   "source": [
    "# Filtrar pedidos para los miércoles y los sábados\n",
    "wednesday_orders = instacart_orders_df[instacart_orders_df['order_dow'] == 3]\n",
    "saturday_orders = instacart_orders_df[instacart_orders_df['order_dow'] == 6]\n",
    "\n",
    "# Crear una tabla pivote para contar el número de pedidos por hora del día para ambos días\n",
    "pivot_table = pd.pivot_table(instacart_orders_df.query(\"(order_dow == 3) or (order_dow == 6)\"),\n",
    "                             index=\"order_hour_of_day\",\n",
    "                             columns=\"order_dow\",\n",
    "                             values=\"order_id\",\n",
    "                             aggfunc=\"count\")\n",
    "\n",
    "# Graficar las barras para ambos días en el mismo gráfico\n",
    "pivot_table.plot(kind=\"bar\", figsize=(12, 6), ec=\"black\")\n",
    "\n",
    "# Añadir etiquetas y título al gráfico\n",
    "plt.title(\"Distribución de Pedidos por Hora del Día (Miércoles vs. Sábado)\")\n",
    "plt.xlabel(\"Hora del Día\")\n",
    "plt.ylabel(\"Número de Pedidos\")\n",
    "plt.xticks(rotation=0)\n",
    "plt.grid(axis='y', linestyle='--', alpha=0.7)\n",
    "\n",
    "# Añadir leyenda\n",
    "plt.legend([\"Miércoles\", \"Sábado\"])\n",
    "\n",
    "plt.show()"
   ]
  },
  {
   "cell_type": "markdown",
   "id": "charitable-congo",
   "metadata": {
    "id": "charitable-congo"
   },
   "source": [
    "Escribe aquí tus conclusiones"
   ]
  },
  {
   "cell_type": "markdown",
   "id": "57de76da",
   "metadata": {
    "id": "35bcea30"
   },
   "source": [
    "Observamos que el número total de pedidos puede ser mayor los sábados en comparación con los miércoles, ya que las barras de los sábados son generalmente más altas que las de los miércoles en la mayoría de las horas del día.\n",
    "Horas pico: Podemos observar que los miércoles tienden a tener un pico de pedidos alrededor de las 10:00 AM y otro pico menor alrededor de las 15:00 PM. Mientras tanto, los sábados muestran un pico más marcado alrededor de las 10:00 AM y un segundo pico significativo alrededor de las 14:00 PM. Esto sugiere que las personas tienden a hacer sus compras más temprano los sábados en comparación con los miércoles."
   ]
  },
  {
   "cell_type": "markdown",
   "id": "e3891143",
   "metadata": {
    "id": "e3891143"
   },
   "source": [
    "### [B2] ¿Cuál es la distribución para el número de pedidos por cliente?"
   ]
  },
  {
   "cell_type": "code",
   "execution_count": 42,
   "id": "d8c26c23",
   "metadata": {
    "id": "d8c26c23"
   },
   "outputs": [],
   "source": [
    "# Calcular el número de pedidos por cliente\n",
    "orders_per_customer = instacart_orders_df['user_id'].value_counts()\n",
    "# Calcular la frecuencia de cada cantidad de pedidos\n",
    "order_counts = orders_per_customer.value_counts().sort_index()"
   ]
  },
  {
   "cell_type": "code",
   "execution_count": 43,
   "id": "00e69a66",
   "metadata": {
    "id": "00e69a66"
   },
   "outputs": [
    {
     "data": {
      "image/png": "[encoded data removed]",
      "text/plain": [
       "<Figure size 720x432 with 1 Axes>"
      ]
     },
     "metadata": {
      "needs_background": "light"
     },
     "output_type": "display_data"
    },
    {
     "name": "stdout",
     "output_type": "stream",
     "text": [
      "Mínimo: 1\n",
      "Máximo: 28\n",
      "Moda: 1\n",
      "Mediana: 2.0\n",
      "promedio: 3.042181952145938\n"
     ]
    }
   ],
   "source": [
    "# Graficar la distribución\n",
    "plt.figure(figsize=(10, 6))\n",
    "order_counts.plot(kind='bar', color='skyblue')\n",
    "plt.title('Distribución del Número de Pedidos por Cliente')\n",
    "plt.xlabel('Número de Pedidos')\n",
    "plt.ylabel('Número de Clientes')\n",
    "plt.xticks(rotation=0)\n",
    "plt.grid(axis='y', linestyle='--', alpha=0.7)\n",
    "plt.show()\n",
    "\n",
    "# Calcular estadísticas\n",
    "min_orders = order_counts.index.min()\n",
    "max_orders = order_counts.index.max()\n",
    "mode_orders = order_counts.idxmax()\n",
    "median_orders = orders_per_customer.median()\n",
    "mean_orders = orders_per_customer.mean()\n",
    "\n",
    "# Imprimir estadísticas\n",
    "print(f'Mínimo: {min_orders}')\n",
    "print(f'Máximo: {max_orders}')\n",
    "print(f'Moda: {mode_orders}')\n",
    "print(f'Mediana: {median_orders}')\n",
    "print(f'promedio: {mean_orders}')"
   ]
  },
  {
   "cell_type": "markdown",
   "id": "d2eff7d5",
   "metadata": {
    "id": "d2eff7d5"
   },
   "source": [
    "Escribe aquí tus conclusiones"
   ]
  },
  {
   "cell_type": "markdown",
   "id": "2154903a",
   "metadata": {},
   "source": [
    "\n",
    "El gráfico muestra la distribución del número de pedidos por cliente. Podemos observar que la mayoría de los clientes realizaron solo 1 pedido, seguido por un número considerable de clientes que realizaron 2 pedidos. A medida que aumenta el número de pedidos, la cantidad de clientes que realizaron ese número de pedidos disminuye gradualmente, lo que es esperado ya que es menos común que los clientes realicen una gran cantidad de pedidos.\n",
    "\n",
    "Las estadísticas resaltan aún más estas observaciones:\n",
    "\n",
    "El valor mínimo es 1, lo que indica que al menos un cliente realizó solo un pedido.\n",
    "El valor máximo es 28, lo que sugiere que el cliente con más pedidos realizó un total de 28.\n",
    "La moda es 1, lo que significa que el número más común de pedidos por cliente es 1.\n",
    "La mediana es 2.0, lo que sugiere que la mitad de los clientes realizaron 1 o 2 pedidos.\n",
    "El promedio es aproximadamente 3.04, lo que indica que, en promedio, cada cliente realizó alrededor de 3 pedidos."
   ]
  },
  {
   "cell_type": "markdown",
   "id": "54a0319c",
   "metadata": {
    "id": "54a0319c"
   },
   "source": [
    "### [B3] ¿Cuáles son los 20 productos más populares (muestra su ID y nombre)?"
   ]
  },
  {
   "cell_type": "code",
   "execution_count": 44,
   "id": "exterior-arizona",
   "metadata": {
    "id": "exterior-arizona",
    "scrolled": true
   },
   "outputs": [
    {
     "name": "stdout",
     "output_type": "stream",
     "text": [
      "   order_id  product_id  add_to_cart_order  reordered  \\\n",
      "0   2141543       11440                 17          0   \n",
      "1    147172       11440                  7          1   \n",
      "2   3341719       11440                  4          1   \n",
      "3   1938779       11440                  8          1   \n",
      "4   1728338       11440                 23          0   \n",
      "\n",
      "                     product_name  aisle_id  department_id  \n",
      "0  CHICKEN BREAST TENDERS BREADED       129              1  \n",
      "1  CHICKEN BREAST TENDERS BREADED       129              1  \n",
      "2  CHICKEN BREAST TENDERS BREADED       129              1  \n",
      "3  CHICKEN BREAST TENDERS BREADED       129              1  \n",
      "4  CHICKEN BREAST TENDERS BREADED       129              1  \n"
     ]
    }
   ],
   "source": [
    "# Primero, necesitamos combinar las tablas order_products_df y products_df\n",
    "merged_df = pd.merge(order_products_df, products_df, on='product_id')\n",
    "print(merged_df.head())"
   ]
  },
  {
   "cell_type": "code",
   "execution_count": 45,
   "id": "universal-facial",
   "metadata": {
    "id": "universal-facial"
   },
   "outputs": [
    {
     "name": "stdout",
     "output_type": "stream",
     "text": [
      "BANANA                      66050\n",
      "BAG OF ORGANIC BANANAS      53297\n",
      "ORGANIC STRAWBERRIES        37039\n",
      "ORGANIC BABY SPINACH        33971\n",
      "ORGANIC HASS AVOCADO        29773\n",
      "ORGANIC AVOCADO             24689\n",
      "LARGE LEMON                 21495\n",
      "STRAWBERRIES                20018\n",
      "LIMES                       19690\n",
      "ORGANIC WHOLE MILK          19600\n",
      "ORGANIC RASPBERRIES         19197\n",
      "ORGANIC YELLOW ONION        15898\n",
      "ORGANIC GARLIC              15292\n",
      "ORGANIC ZUCCHINI            14584\n",
      "ORGANIC BLUEBERRIES         13879\n",
      "CUCUMBER KIRBY              13675\n",
      "ORGANIC FUJI APPLE          12544\n",
      "ORGANIC LEMON               12232\n",
      "APPLE HONEYCRISP ORGANIC    11993\n",
      "ORGANIC GRAPE TOMATOES      11781\n",
      "Name: product_name, dtype: int64\n"
     ]
    }
   ],
   "source": [
    "# Luego, contamos la frecuencia de cada producto\n",
    "product_counts = merged_df['product_name'].value_counts().head(20)\n",
    "\n",
    "print(product_counts)"
   ]
  },
  {
   "cell_type": "code",
   "execution_count": 46,
   "id": "bbcdd20b",
   "metadata": {
    "id": "bbcdd20b"
   },
   "outputs": [
    {
     "name": "stdout",
     "output_type": "stream",
     "text": [
      "       product_id              product_name\n",
      "5875         5876             ORGANIC LEMON\n",
      "8276         8277  APPLE HONEYCRISP ORGANIC\n",
      "13175       13176    BAG OF ORGANIC BANANAS\n",
      "16796       16797              STRAWBERRIES\n",
      "21136       21137      ORGANIC STRAWBERRIES\n",
      "21902       21903      ORGANIC BABY SPINACH\n",
      "22934       22935      ORGANIC YELLOW ONION\n",
      "24851       24852                    BANANA\n",
      "24963       24964            ORGANIC GARLIC\n",
      "26208       26209                     LIMES\n",
      "27844       27845        ORGANIC WHOLE MILK\n",
      "27965       27966       ORGANIC RASPBERRIES\n",
      "28203       28204        ORGANIC FUJI APPLE\n",
      "39274       39275       ORGANIC BLUEBERRIES\n",
      "40705       40706    ORGANIC GRAPE TOMATOES\n",
      "45006       45007          ORGANIC ZUCCHINI\n",
      "47208       47209      ORGANIC HASS AVOCADO\n",
      "47625       47626               LARGE LEMON\n",
      "47765       47766           ORGANIC AVOCADO\n",
      "49682       49683            CUCUMBER KIRBY\n"
     ]
    }
   ],
   "source": [
    "# Mostramos los 20 productos más populares con su identificación y nombre\n",
    "top_20_products = products_df[products_df['product_name'].isin(product_counts.index)]\n",
    "top_20_products = top_20_products[['product_id', 'product_name']].drop_duplicates()\n",
    "\n",
    "print(top_20_products)"
   ]
  },
  {
   "cell_type": "code",
   "execution_count": 47,
   "id": "307f6320",
   "metadata": {},
   "outputs": [
    {
     "data": {
      "image/png": "[encoded data removed]",
      "text/plain": [
       "<Figure size 864x432 with 1 Axes>"
      ]
     },
     "metadata": {
      "needs_background": "light"
     },
     "output_type": "display_data"
    }
   ],
   "source": [
    "import matplotlib.pyplot as plt\n",
    "\n",
    "# Graficar la distribución de los 20 productos más populares\n",
    "plt.figure(figsize=(12, 6))\n",
    "product_counts.plot(kind='bar', color='skyblue')\n",
    "plt.title('Distribución de los 20 productos más populares')\n",
    "plt.xlabel('Producto')\n",
    "plt.ylabel('Frecuencia')\n",
    "plt.xticks(rotation=45, ha='right')  # Rotar las etiquetas del eje x para una mejor legibilidad\n",
    "plt.grid(axis='y', linestyle='--', alpha=0.7)\n",
    "plt.show()"
   ]
  },
  {
   "cell_type": "markdown",
   "id": "7df00f47",
   "metadata": {
    "id": "7df00f47"
   },
   "source": [
    "Escribe aquí tus conclusiones"
   ]
  },
  {
   "cell_type": "markdown",
   "id": "65f8a0f4",
   "metadata": {},
   "source": [
    "Primero se combinan las tablas order_products_df y products_df utilizando la columna product_id como clave de unión. Luego, se cuentan las frecuencias de cada producto y se muestran los 20 productos más frecuentes junto con sus identificaciones y nombres.\n",
    "En el grafico se pueden ver los productos con mayor frecuencia de compra, 'BANANA' y 'BAG OF ORGANIC BANANA'"
   ]
  },
  {
   "cell_type": "markdown",
   "id": "gross-theme",
   "metadata": {
    "id": "gross-theme"
   },
   "source": [
    "# [C] Difícil (deben completarse todos para aprobar)\n",
    "\n",
    "1. ¿Cuántos artículos suelen comprar las personas en un pedido? ¿Cómo es la distribución?\n",
    "2. ¿Cuáles son los 20 principales artículos que vuelven a pedirse con mayor frecuencia (muestra sus nombres e IDs de los productos)?\n",
    "3. Para cada producto, ¿cuál es la tasa de repetición del pedido (número de repeticiones de pedido/total de pedidos?\n",
    "4. Para cada cliente, ¿qué proporción de los productos que pidió ya los había pedido? Calcula la tasa de repetición de pedido para cada usuario en lugar de para cada producto.\n",
    "5. ¿Cuáles son los 20 principales artículos que la gente pone primero en sus carritos (muestra las IDs de los productos, sus nombres, y el número de veces en que fueron el primer artículo en añadirse al carrito)?"
   ]
  },
  {
   "cell_type": "markdown",
   "id": "romantic-deposit",
   "metadata": {
    "id": "romantic-deposit"
   },
   "source": [
    "### [C1] ¿Cuántos artículos compran normalmente las personas en un pedido? ¿Cómo es la distribución?"
   ]
  },
  {
   "cell_type": "code",
   "execution_count": 48,
   "id": "virtual-punch",
   "metadata": {
    "id": "virtual-punch"
   },
   "outputs": [
    {
     "name": "stdout",
     "output_type": "stream",
     "text": [
      "order_id\n",
      "4          13\n",
      "9          15\n",
      "11          5\n",
      "19          3\n",
      "20          8\n",
      "           ..\n",
      "3421034    17\n",
      "3421053     9\n",
      "3421071     5\n",
      "3421077     4\n",
      "3421079     1\n",
      "Name: product_id, Length: 450046, dtype: int64\n"
     ]
    }
   ],
   "source": [
    "# Calcular el número de artículos por pedido\n",
    "items_per_order = merged_df.groupby('order_id')['product_id'].count()\n",
    "print(items_per_order)"
   ]
  },
  {
   "cell_type": "code",
   "execution_count": 49,
   "id": "sensitive-breathing",
   "metadata": {
    "id": "sensitive-breathing"
   },
   "outputs": [
    {
     "name": "stdout",
     "output_type": "stream",
     "text": [
      "Media: 10.098983215049127\n",
      "Mediana: 8.0\n",
      "Mínimo: 1\n",
      "Máximo: 127\n"
     ]
    }
   ],
   "source": [
    "# Calcular estadísticas descriptivas\n",
    "mean_items_per_order = items_per_order.mean()\n",
    "median_items_per_order = items_per_order.median()\n",
    "min_items_per_order = items_per_order.min()\n",
    "max_items_per_order = items_per_order.max()\n",
    "print(\"Media:\", mean_items_per_order)\n",
    "print(\"Mediana:\", median_items_per_order)\n",
    "print(\"Mínimo:\", min_items_per_order)\n",
    "print(\"Máximo:\", max_items_per_order)"
   ]
  },
  {
   "cell_type": "code",
   "execution_count": 50,
   "id": "completed-frank",
   "metadata": {
    "id": "completed-frank"
   },
   "outputs": [
    {
     "data": {
      "image/png": "[encoded data removed]",
      "text/plain": [
       "<Figure size 720x432 with 1 Axes>"
      ]
     },
     "metadata": {
      "needs_background": "light"
     },
     "output_type": "display_data"
    }
   ],
   "source": [
    "# Graficar la distribución\n",
    "plt.figure(figsize=(10, 6))\n",
    "items_per_order.hist(bins=30, color='skyblue', edgecolor='black')\n",
    "plt.title('Distribución del Número de Artículos por Pedido')\n",
    "plt.xlabel('Número de Artículos por Pedido')\n",
    "plt.ylabel('Frecuencia')\n",
    "plt.grid(axis='y', linestyle='--', alpha=0.7)\n",
    "plt.show()"
   ]
  },
  {
   "cell_type": "markdown",
   "id": "designed-mortality",
   "metadata": {
    "id": "designed-mortality"
   },
   "source": [
    "Escribe aquí tus conclusiones"
   ]
  },
  {
   "cell_type": "markdown",
   "id": "2b12b1ec",
   "metadata": {},
   "source": [
    "De acuerdo a cuántos artículos compran normalmente las personas en un pedido:\n",
    "La media (promedio) del número de artículos por pedido es aproximadamente 10.1.\n",
    "La mediana del número de artículos por pedido es 8.\n",
    "El número mínimo de artículos en un pedido es 1, lo que indica que hay pedidos que consisten en un solo artículo.\n",
    "El número máximo de artículos en un pedido es 127, lo que sugiere que hay algunos pedidos muy grandes con una cantidad significativa de artículos.\n",
    "Por lo tanto, la distribución del número de artículos por pedido muestra que la mayoría de los pedidos contienen un número relativamente bajo de artículos, mientras que un número mucho menor de pedidos contienen un número mayor de artículos."
   ]
  },
  {
   "cell_type": "markdown",
   "id": "5e6b5537",
   "metadata": {
    "id": "5e6b5537"
   },
   "source": [
    "### [C2] ¿Cuáles son los 20 principales artículos que vuelven a pedirse con mayor frecuencia (muestra sus nombres e IDs de los productos)?"
   ]
  },
  {
   "cell_type": "code",
   "execution_count": 51,
   "id": "9374e55a",
   "metadata": {
    "id": "9374e55a"
   },
   "outputs": [],
   "source": [
    "# Filtrar solo los productos que se han pedido más de una vez\n",
    "repeated_products = merged_df['product_id'].value_counts()[merged_df['product_id'].value_counts() > 1]"
   ]
  },
  {
   "cell_type": "code",
   "execution_count": 52,
   "id": "possible-change",
   "metadata": {
    "id": "possible-change",
    "scrolled": true
   },
   "outputs": [],
   "source": [
    "# Contar la frecuencia de estos productos en los pedidos\n",
    "top_repeated_products = merged_df[merged_df['product_id'].isin(repeated_products.index)]\n"
   ]
  },
  {
   "cell_type": "code",
   "execution_count": 53,
   "id": "professional-surfing",
   "metadata": {
    "id": "professional-surfing"
   },
   "outputs": [
    {
     "name": "stdout",
     "output_type": "stream",
     "text": [
      "24852                      BANANA\n",
      "13176      BAG OF ORGANIC BANANAS\n",
      "21137        ORGANIC STRAWBERRIES\n",
      "21903        ORGANIC BABY SPINACH\n",
      "47209        ORGANIC HASS AVOCADO\n",
      "47766             ORGANIC AVOCADO\n",
      "47626                 LARGE LEMON\n",
      "16797                STRAWBERRIES\n",
      "26209                       LIMES\n",
      "27845          ORGANIC WHOLE MILK\n",
      "27966         ORGANIC RASPBERRIES\n",
      "22935        ORGANIC YELLOW ONION\n",
      "24964              ORGANIC GARLIC\n",
      "45007            ORGANIC ZUCCHINI\n",
      "39275         ORGANIC BLUEBERRIES\n",
      "49683              CUCUMBER KIRBY\n",
      "28204          ORGANIC FUJI APPLE\n",
      "5876                ORGANIC LEMON\n",
      "8277     APPLE HONEYCRISP ORGANIC\n",
      "40706      ORGANIC GRAPE TOMATOES\n",
      "Name: product_name, dtype: object\n"
     ]
    }
   ],
   "source": [
    "# Seleccionar los 20 productos con la frecuencia más alta\n",
    "top_20_repeated_products = top_repeated_products['product_id'].value_counts().head(20)\n",
    "# Obtener los nombres de los productos\n",
    "product_names = products_df.set_index('product_id')['product_name']\n",
    "# Mostrar los nombres e IDs de los 20 principales productos que se vuelven a pedir con mayor frecuencia\n",
    "top_20_products_info = product_names[top_20_repeated_products.index]\n",
    "print(top_20_products_info)\n"
   ]
  },
  {
   "cell_type": "markdown",
   "id": "80e70c74",
   "metadata": {
    "id": "80e70c74"
   },
   "source": [
    "Escribe aquí tus conclusiones"
   ]
  },
  {
   "cell_type": "markdown",
   "id": "8269e9ba",
   "metadata": {},
   "source": [
    "Podemos concluir que los 20 principales productos que se vuelven a pedir con mayor frecuencia son productos populares entre los clientes "
   ]
  },
  {
   "cell_type": "markdown",
   "id": "9d312b14",
   "metadata": {
    "id": "9d312b14"
   },
   "source": [
    "### [C3] Para cada producto, ¿cuál es la proporción de las veces que se pide y que se vuelve a pedir?"
   ]
  },
  {
   "cell_type": "code",
   "execution_count": 62,
   "id": "8ae9f4b1",
   "metadata": {
    "id": "8ae9f4b1"
   },
   "outputs": [
    {
     "name": "stdout",
     "output_type": "stream",
     "text": [
      "            veces_pedido  veces_repetido      tasa\n",
      "product_id                                        \n",
      "1                    280             158  0.564286\n",
      "2                     11               0  0.000000\n",
      "3                     42              31  0.738095\n",
      "4                     49              25  0.510204\n",
      "7                      2               1  0.500000\n",
      "8                     19               6  0.315789\n",
      "9                     21              16  0.761905\n",
      "10                   337             151  0.448071\n",
      "11                    16              10  0.625000\n",
      "12                    41              16  0.390244\n",
      "13                     2               1  0.500000\n",
      "14                     3               0  0.000000\n",
      "17                     1               0  0.000000\n",
      "18                    15               8  0.533333\n",
      "19                     1               0  0.000000\n"
     ]
    }
   ],
   "source": [
    "# Calcular la cantidad de veces que cada producto se pide y se vuelve a pedir\n",
    "relacion = merged_df.groupby('product_id').agg(veces_pedido=('order_id', 'size'),  # Total de veces que se ha pedido el producto\n",
    "veces_repetido=('reordered', 'sum')  )     # Total de veces que se ha vuelto a pedir el producto\n",
    "\n",
    "relacion['tasa'] = relacion['veces_repetido'] / relacion['veces_pedido']\n",
    "\n",
    "print(relacion.head(15))"
   ]
  },
  {
   "cell_type": "markdown",
   "id": "I10dEIAyldcO",
   "metadata": {
    "id": "I10dEIAyldcO"
   },
   "source": [
    "Escribe aquí tus conclusiones"
   ]
  },
  {
   "cell_type": "markdown",
   "id": "7bd3b608",
   "metadata": {},
   "source": [
    "Tasa alta: Los productos con una proporción cercana a 1 (por ejemplo, 0.9 o superior) productos populares que los clientes compran con frecuencia y vuelven a pedir.\n",
    "\n",
    "Tasa baja: Los productos con una proporción cercana a 0 (por ejemplo, 0.1 o inferior) indican que los clientes rara vez vuelven a pedir esos productos después del primer pedido.\n",
    "\n",
    "Tasa dintermedia: Los productos con una proporción en algún lugar entre 0 y 1 muestran una tasa de repetición moderada. "
   ]
  },
  {
   "cell_type": "markdown",
   "id": "subject-boxing",
   "metadata": {
    "id": "subject-boxing"
   },
   "source": [
    "### [C4] Para cada cliente, ¿qué proporción de sus productos ya los había pedido?"
   ]
  },
  {
   "cell_type": "code",
   "execution_count": 63,
   "id": "medical-couple",
   "metadata": {
    "id": "medical-couple",
    "scrolled": true
   },
   "outputs": [
    {
     "name": "stdout",
     "output_type": "stream",
     "text": [
      "        user_id  pedidos  repetido\n",
      "0             2        2  0.500000\n",
      "1             4        2  0.000000\n",
      "2             5        1  8.000000\n",
      "3             6        2  0.000000\n",
      "4             7        2  6.500000\n",
      "...         ...      ...       ...\n",
      "157432   206203        1  6.000000\n",
      "157433   206206        7  2.142857\n",
      "157434   206207        5  8.200000\n",
      "157435   206208        9  9.666667\n",
      "157436   206209        2  4.000000\n",
      "\n",
      "[157437 rows x 3 columns]\n"
     ]
    }
   ],
   "source": [
    "cliente = pd.merge(instacart_orders_df, order_products_df, on='order_id', how='left')\n",
    "repetidos = cliente.groupby('user_id').agg(\n",
    "    pedidos=('order_id', 'nunique'),  # Total de pedidos realizados por el cliente\n",
    "    repetido=('reordered', 'sum')      # Total de productos reordenados por el cliente\n",
    ")\n",
    "repetidos['repetido'] = repetidos['repetido'] / repetidos['pedidos']\n",
    "repetidos = repetidos.reset_index()\n",
    "\n",
    "print(repetidos)"
   ]
  },
  {
   "cell_type": "markdown",
   "id": "BgJSvXDsleXz",
   "metadata": {
    "id": "BgJSvXDsleXz"
   },
   "source": [
    "Escribe aquí tus conclusiones"
   ]
  },
  {
   "cell_type": "markdown",
   "id": "bdb0df57",
   "metadata": {
    "id": "8892e4b4"
   },
   "source": [
    "Esta información calculada nos entrega información sobre los clientes y su tendencia a repetir la compra de ciertos productos.\n",
    "La proporción de productos repetidos por cliente varía considerablemente, lo que sugiere que algunos clientes tienden a comprar una selección más estable de productos,mientras que otros son más propensos a probar nuevos productos en cada pedido."
   ]
  },
  {
   "cell_type": "markdown",
   "id": "92d35137",
   "metadata": {
    "id": "92d35137"
   },
   "source": [
    "### [C5] ¿Cuáles son los 20 principales artículos que las personas ponen primero en sus carritos?"
   ]
  },
  {
   "cell_type": "code",
   "execution_count": 68,
   "id": "96cbd770",
   "metadata": {},
   "outputs": [
    {
     "name": "stdout",
     "output_type": "stream",
     "text": [
      "       product_id                 product_name  frequency\n",
      "13414       24852                       BANANA      15562\n",
      "7127        13176       BAG OF ORGANIC BANANAS      11026\n",
      "15028       27845           ORGANIC WHOLE MILK       4363\n",
      "11384       21137         ORGANIC STRAWBERRIES       3946\n",
      "25439       47209         ORGANIC HASS AVOCADO       3390\n",
      "11786       21903         ORGANIC BABY SPINACH       3336\n",
      "25732       47766              ORGANIC AVOCADO       3044\n",
      "10622       19660                 SPRING WATER       2336\n",
      "9050        16797                 STRAWBERRIES       2308\n",
      "15102       27966          ORGANIC RASPBERRIES       2024\n",
      "24024       44632   SPARKLING WATER GRAPEFRUIT       1914\n",
      "26519       49235          ORGANIC HALF & HALF       1797\n",
      "25658       47626                  LARGE LEMON       1737\n",
      "115           196                         SODA       1733\n",
      "20853       38689     ORGANIC REDUCED FAT MILK       1397\n",
      "14158       26209                        LIMES       1370\n",
      "6660        12341                HASS AVOCADOS       1340\n",
      "3153         5785  ORGANIC REDUCED FAT 2% MILK       1310\n",
      "14639       27086                  HALF & HALF       1309\n",
      "23335       43352                  RASPBERRIES       1246\n"
     ]
    }
   ],
   "source": [
    "# Combina las tablas order_products y products\n",
    "merged_df = pd.merge(order_products_df, products_df, on='product_id')\n",
    "\n",
    "# Filtra los artículos que se pusieron primero en el carrito (add_to_cart_order == 1)\n",
    "first_in_cart = merged_df[merged_df['add_to_cart_order'] == 1]\n",
    "\n",
    "# Agrupa los datos por product_name y product_id y cuenta la frecuencia de cada artículo\n",
    "top_first_in_cart = first_in_cart.groupby(['product_id', 'product_name']).size().reset_index(name='frequency')\n",
    "\n",
    "# Ordena los resultados para encontrar los 20 principales artículos\n",
    "top_20_first_in_cart = top_first_in_cart.sort_values(by='frequency', ascending=False).head(20)\n",
    "\n",
    "print(top_20_first_in_cart)"
   ]
  },
  {
   "cell_type": "markdown",
   "id": "28ce9872",
   "metadata": {
    "id": "28ce9872"
   },
   "source": [
    "Escribe aquí tus conclusiones"
   ]
  },
  {
   "cell_type": "markdown",
   "id": "36d9e090",
   "metadata": {
    "id": "08e41ec2"
   },
   "source": [
    "Aca podemos concluir que los clientes ingresan diferentes tipos de productos al carrito y que tienen diversas opciones de eleccion."
   ]
  },
  {
   "cell_type": "markdown",
   "id": "uITbFCEoDosC",
   "metadata": {
    "id": "uITbFCEoDosC"
   },
   "source": [
    "### Conclusion general del proyecto:"
   ]
  },
  {
   "cell_type": "markdown",
   "id": "f2be69bd",
   "metadata": {
    "id": "Nk-4GS7mDwqY"
   },
   "source": [
    "De acuerdo a todo el trabajo realizado se pudieron observar:\n",
    "Patrones de compra por día y hora:  los patrones de compra varían según el día de la semana y la hora del día.\n",
    "\n",
    "Distribución del número de pedidos por cliente: Hemos encontrado que la mayoría de los clientes realizan uno o dos pedidos, con una mediana de alrededor de 2 pedidos por cliente.\n",
    "\n",
    "Productos más populares: Identificamos los productos más populares en la plataforma.\n",
    "\n",
    "Tasa de repetición de pedidos: Analizamos la proporción de productos que se vuelven a pedir en comparación con el total de pedidos.\n",
    "\n",
    "Productos agregados primero al carrito: Investigamos los productos que los clientes suelen agregar primero a sus carritos, lo que puede indicar hábitos de compra.\n",
    "\n",
    "En resumen, este proyecto nos ha permitido obtener una visión completa del comportamiento de compra de los clientes en Instacart, lo que puede ser invaluable para la toma de decisiones comerciales, como estrategias de marketing, gestión de inventario y mejoras en la experiencia del cliente."
   ]
  }
 ],
 "metadata": {
  "colab": {
   "provenance": []
  },
  "kernelspec": {
   "display_name": "Python 3 (ipykernel)",
   "language": "python",
   "name": "python3"
  },
  "language_info": {
   "codemirror_mode": {
    "name": "ipython",
    "version": 3
   },
   "file_extension": ".py",
   "mimetype": "text/x-python",
   "name": "python",
   "nbconvert_exporter": "python",
   "pygments_lexer": "ipython3",
   "version": "3.9.19"
  },
  "toc": {
   "base_numbering": 1,
   "nav_menu": {},
   "number_sections": true,
   "sideBar": true,
   "skip_h1_title": true,
   "title_cell": "Table of Contents",
   "title_sidebar": "Contents",
   "toc_cell": false,
   "toc_position": {},
   "toc_section_display": true,
   "toc_window_display": false
  },
  "vscode": {
   "interpreter": {
    "hash": "01a7be9ec63e704a62cefc5fe7a4756944464ee731be31632bdf42a4cb4688cf"
   }
  }
 },
 "nbformat": 4,
 "nbformat_minor": 5
}
